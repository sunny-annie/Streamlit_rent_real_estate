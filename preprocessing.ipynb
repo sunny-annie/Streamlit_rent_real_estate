{
 "cells": [
  {
   "cell_type": "code",
   "execution_count": 265,
   "id": "0ba44f37-45ef-40c5-9fd0-fc87cdf81418",
   "metadata": {
    "tags": []
   },
   "outputs": [],
   "source": [
    "import pandas as pd\n",
    "import numpy as np\n",
    "import seaborn as sns\n",
    "import matplotlib as mpl\n",
    "import matplotlib.pyplot as plt\n",
    "import re\n",
    "import plotly.express as px\n",
    "from sklearn.preprocessing import LabelEncoder\n",
    "import os"
   ]
  },
  {
   "cell_type": "markdown",
   "id": "2128cbe5-dc49-407f-af82-c4a5f3cb50ed",
   "metadata": {},
   "source": [
    "### Читаем данные записываем в переменную df"
   ]
  },
  {
   "cell_type": "code",
   "execution_count": 266,
   "id": "70403481-5e7c-4325-b1c2-c8cfa4b53e9c",
   "metadata": {
    "tags": []
   },
   "outputs": [],
   "source": [
    "df = pd.read_csv('_data.csv')"
   ]
  },
  {
   "cell_type": "code",
   "execution_count": 267,
   "id": "45e7abd6-a1ad-40f3-9b9a-be87d43a223d",
   "metadata": {
    "tags": []
   },
   "outputs": [
    {
     "data": {
      "text/html": [
       "<div>\n",
       "<style scoped>\n",
       "    .dataframe tbody tr th:only-of-type {\n",
       "        vertical-align: middle;\n",
       "    }\n",
       "\n",
       "    .dataframe tbody tr th {\n",
       "        vertical-align: top;\n",
       "    }\n",
       "\n",
       "    .dataframe thead th {\n",
       "        text-align: right;\n",
       "    }\n",
       "</style>\n",
       "<table border=\"1\" class=\"dataframe\">\n",
       "  <thead>\n",
       "    <tr style=\"text-align: right;\">\n",
       "      <th></th>\n",
       "      <th>Unnamed: 0</th>\n",
       "      <th>ID  объявления</th>\n",
       "      <th>Количество комнат</th>\n",
       "      <th>Тип</th>\n",
       "      <th>Метро</th>\n",
       "      <th>Адрес</th>\n",
       "      <th>Площадь, м2</th>\n",
       "      <th>Дом</th>\n",
       "      <th>Парковка</th>\n",
       "      <th>Цена</th>\n",
       "      <th>...</th>\n",
       "      <th>Окна</th>\n",
       "      <th>Санузел</th>\n",
       "      <th>Можно с детьми/животными</th>\n",
       "      <th>Дополнительно</th>\n",
       "      <th>Название ЖК</th>\n",
       "      <th>Серия дома</th>\n",
       "      <th>Высота потолков, м</th>\n",
       "      <th>Лифт</th>\n",
       "      <th>Мусоропровод</th>\n",
       "      <th>Ссылка на объявление</th>\n",
       "    </tr>\n",
       "  </thead>\n",
       "  <tbody>\n",
       "    <tr>\n",
       "      <th>0</th>\n",
       "      <td>0</td>\n",
       "      <td>271271157</td>\n",
       "      <td>4</td>\n",
       "      <td>Квартира</td>\n",
       "      <td>м. Смоленская (9 мин пешком)</td>\n",
       "      <td>Москва, улица Новый Арбат, 27</td>\n",
       "      <td>200.0/20.0</td>\n",
       "      <td>5/16, Монолитный</td>\n",
       "      <td>подземная</td>\n",
       "      <td>500000.0 руб./ За месяц, Залог - 500000 руб., ...</td>\n",
       "      <td>...</td>\n",
       "      <td>NaN</td>\n",
       "      <td>NaN</td>\n",
       "      <td>Можно с детьми, Можно с животными</td>\n",
       "      <td>Мебель в комнатах, Мебель на кухне, Ванна, Душ...</td>\n",
       "      <td>Новый Арбат, 2010</td>\n",
       "      <td>NaN</td>\n",
       "      <td>3.00</td>\n",
       "      <td>Пасс (4), Груз (1)</td>\n",
       "      <td>Да</td>\n",
       "      <td>https://www.cian.ru/rent/flat/271271157</td>\n",
       "    </tr>\n",
       "    <tr>\n",
       "      <th>1</th>\n",
       "      <td>1</td>\n",
       "      <td>271634126</td>\n",
       "      <td>4</td>\n",
       "      <td>Квартира</td>\n",
       "      <td>м. Смоленская (8 мин пешком)</td>\n",
       "      <td>Москва, улица Новый Арбат, 27</td>\n",
       "      <td>198.0/95.0/18.0</td>\n",
       "      <td>5/16, Монолитно-кирпичный</td>\n",
       "      <td>подземная</td>\n",
       "      <td>500000.0 руб./ За месяц, Залог - 500000 руб., ...</td>\n",
       "      <td>...</td>\n",
       "      <td>На улицу и двор</td>\n",
       "      <td>Совмещенный (2), Раздельный (1)</td>\n",
       "      <td>Можно с детьми</td>\n",
       "      <td>Мебель в комнатах, Мебель на кухне, Ванна, Душ...</td>\n",
       "      <td>Новый Арбат</td>\n",
       "      <td>NaN</td>\n",
       "      <td>3.50</td>\n",
       "      <td>Пасс (1), Груз (1)</td>\n",
       "      <td>Нет</td>\n",
       "      <td>https://www.cian.ru/rent/flat/271634126</td>\n",
       "    </tr>\n",
       "    <tr>\n",
       "      <th>2</th>\n",
       "      <td>2</td>\n",
       "      <td>271173086</td>\n",
       "      <td>4, Оба варианта</td>\n",
       "      <td>Квартира</td>\n",
       "      <td>м. Смоленская (7 мин пешком)</td>\n",
       "      <td>Москва, улица Новый Арбат, 27</td>\n",
       "      <td>200.0/116.0/4.0</td>\n",
       "      <td>5/16</td>\n",
       "      <td>подземная</td>\n",
       "      <td>500000.0 руб./ За месяц, Залог - 500000 руб., ...</td>\n",
       "      <td>...</td>\n",
       "      <td>На улицу и двор</td>\n",
       "      <td>Совмещенный (3)</td>\n",
       "      <td>Можно с детьми</td>\n",
       "      <td>Мебель в комнатах, Мебель на кухне, Ванна, Душ...</td>\n",
       "      <td>Новый Арбат</td>\n",
       "      <td>NaN</td>\n",
       "      <td>3.20</td>\n",
       "      <td>Пасс (1)</td>\n",
       "      <td>NaN</td>\n",
       "      <td>https://www.cian.ru/rent/flat/271173086</td>\n",
       "    </tr>\n",
       "    <tr>\n",
       "      <th>3</th>\n",
       "      <td>3</td>\n",
       "      <td>272197456</td>\n",
       "      <td>4, Оба варианта</td>\n",
       "      <td>Квартира</td>\n",
       "      <td>м. Смоленская (3 мин пешком)</td>\n",
       "      <td>Москва, переулок Плотников, 21С1</td>\n",
       "      <td>170.0/95.0/17.0</td>\n",
       "      <td>5/6</td>\n",
       "      <td>подземная</td>\n",
       "      <td>400000.0 руб./ За месяц, Залог - 400000 руб., ...</td>\n",
       "      <td>...</td>\n",
       "      <td>На улицу и двор</td>\n",
       "      <td>Совмещенный (3)</td>\n",
       "      <td>Можно с животными</td>\n",
       "      <td>Мебель в комнатах, Мебель на кухне, Ванна, Душ...</td>\n",
       "      <td>NaN</td>\n",
       "      <td>NaN</td>\n",
       "      <td>3.20</td>\n",
       "      <td>Пасс (1)</td>\n",
       "      <td>NaN</td>\n",
       "      <td>https://www.cian.ru/rent/flat/272197456</td>\n",
       "    </tr>\n",
       "    <tr>\n",
       "      <th>4</th>\n",
       "      <td>4</td>\n",
       "      <td>273614615</td>\n",
       "      <td>2</td>\n",
       "      <td>Квартира</td>\n",
       "      <td>м. Арбатская (7 мин пешком)</td>\n",
       "      <td>Москва, улица Новый Арбат, 15</td>\n",
       "      <td>58.0/38.0/5.0</td>\n",
       "      <td>12/26, Панельный</td>\n",
       "      <td>NaN</td>\n",
       "      <td>225000.0 руб./ За месяц, Залог - 225000 руб., ...</td>\n",
       "      <td>...</td>\n",
       "      <td>На улицу и двор</td>\n",
       "      <td>Совмещенный (2)</td>\n",
       "      <td>NaN</td>\n",
       "      <td>Мебель в комнатах, Мебель на кухне, Ванна, Душ...</td>\n",
       "      <td>The Book</td>\n",
       "      <td>NaN</td>\n",
       "      <td>3.90</td>\n",
       "      <td>Пасс (1), Груз (1)</td>\n",
       "      <td>Да</td>\n",
       "      <td>https://www.cian.ru/rent/flat/273614615</td>\n",
       "    </tr>\n",
       "    <tr>\n",
       "      <th>...</th>\n",
       "      <td>...</td>\n",
       "      <td>...</td>\n",
       "      <td>...</td>\n",
       "      <td>...</td>\n",
       "      <td>...</td>\n",
       "      <td>...</td>\n",
       "      <td>...</td>\n",
       "      <td>...</td>\n",
       "      <td>...</td>\n",
       "      <td>...</td>\n",
       "      <td>...</td>\n",
       "      <td>...</td>\n",
       "      <td>...</td>\n",
       "      <td>...</td>\n",
       "      <td>...</td>\n",
       "      <td>...</td>\n",
       "      <td>...</td>\n",
       "      <td>...</td>\n",
       "      <td>...</td>\n",
       "      <td>...</td>\n",
       "      <td>...</td>\n",
       "    </tr>\n",
       "    <tr>\n",
       "      <th>23363</th>\n",
       "      <td>23363</td>\n",
       "      <td>215565511</td>\n",
       "      <td>NaN</td>\n",
       "      <td>Квартира</td>\n",
       "      <td>м. Говорово (8 мин пешком)</td>\n",
       "      <td>Москва, Боровское шоссе, 2к7, ш. Боровское (3 ...</td>\n",
       "      <td>35.0/16.4/8.0</td>\n",
       "      <td>10/14</td>\n",
       "      <td>NaN</td>\n",
       "      <td>42000.0 руб./ За месяц, Залог - 42000 руб., Ко...</td>\n",
       "      <td>...</td>\n",
       "      <td>NaN</td>\n",
       "      <td>Совмещенный (1)</td>\n",
       "      <td>NaN</td>\n",
       "      <td>Мебель в комнатах, Мебель на кухне, Ванна, Сти...</td>\n",
       "      <td>Мещерский лес</td>\n",
       "      <td>NaN</td>\n",
       "      <td>NaN</td>\n",
       "      <td>Пасс (1), Груз (1)</td>\n",
       "      <td>NaN</td>\n",
       "      <td>https://www.cian.ru/rent/flat/215565511</td>\n",
       "    </tr>\n",
       "    <tr>\n",
       "      <th>23364</th>\n",
       "      <td>23364</td>\n",
       "      <td>274654844</td>\n",
       "      <td>1</td>\n",
       "      <td>Квартира</td>\n",
       "      <td>м. Солнцево (7 мин пешком)</td>\n",
       "      <td>Москва, Производственная улица, 8к1, ш. Боровс...</td>\n",
       "      <td>38.7/16.5/11.0</td>\n",
       "      <td>5/18, Монолитный</td>\n",
       "      <td>NaN</td>\n",
       "      <td>45000.0 руб./ За месяц, Залог - 45000 руб., Ко...</td>\n",
       "      <td>...</td>\n",
       "      <td>Во двор</td>\n",
       "      <td>Совмещенный (1)</td>\n",
       "      <td>NaN</td>\n",
       "      <td>Мебель в комнатах, Мебель на кухне, Ванна, Сти...</td>\n",
       "      <td>Лучи</td>\n",
       "      <td>NaN</td>\n",
       "      <td>NaN</td>\n",
       "      <td>Пасс (1), Груз (1)</td>\n",
       "      <td>NaN</td>\n",
       "      <td>https://www.cian.ru/rent/flat/274654844</td>\n",
       "    </tr>\n",
       "    <tr>\n",
       "      <th>23365</th>\n",
       "      <td>23365</td>\n",
       "      <td>268679909</td>\n",
       "      <td>2, Оба варианта</td>\n",
       "      <td>Квартира</td>\n",
       "      <td>м. Солнцево (6 мин пешком)</td>\n",
       "      <td>Москва, Боровский проезд, 11</td>\n",
       "      <td>43.1</td>\n",
       "      <td>5/5, Кирпичный</td>\n",
       "      <td>NaN</td>\n",
       "      <td>50000.0 руб./ За месяц, Залог - 50000 руб., Ко...</td>\n",
       "      <td>...</td>\n",
       "      <td>На улицу и двор</td>\n",
       "      <td>Совмещенный (1)</td>\n",
       "      <td>Можно с детьми</td>\n",
       "      <td>Мебель на кухне, Душевая кабина, Стиральная ма...</td>\n",
       "      <td>NaN</td>\n",
       "      <td>NaN</td>\n",
       "      <td>NaN</td>\n",
       "      <td>NaN</td>\n",
       "      <td>NaN</td>\n",
       "      <td>https://www.cian.ru/rent/flat/268679909</td>\n",
       "    </tr>\n",
       "    <tr>\n",
       "      <th>23366</th>\n",
       "      <td>23366</td>\n",
       "      <td>274807525</td>\n",
       "      <td>2</td>\n",
       "      <td>Квартира</td>\n",
       "      <td>м. Солнцево (11 мин пешком)</td>\n",
       "      <td>Москва, улица Богданова, 6к1, ш. Боровское (3 ...</td>\n",
       "      <td>52.5/10.0</td>\n",
       "      <td>8/23, Монолитный</td>\n",
       "      <td>наземная</td>\n",
       "      <td>55000.0 руб./ За месяц, Залог - 50000 руб., Ко...</td>\n",
       "      <td>...</td>\n",
       "      <td>Во двор</td>\n",
       "      <td>Совмещенный (1), Раздельный (1)</td>\n",
       "      <td>NaN</td>\n",
       "      <td>Мебель в комнатах, Мебель на кухне, Ванна, Сти...</td>\n",
       "      <td>NaN</td>\n",
       "      <td>NaN</td>\n",
       "      <td>2.65</td>\n",
       "      <td>Пасс (3)</td>\n",
       "      <td>Да</td>\n",
       "      <td>https://www.cian.ru/rent/flat/274807525</td>\n",
       "    </tr>\n",
       "    <tr>\n",
       "      <th>23367</th>\n",
       "      <td>23367</td>\n",
       "      <td>274672243</td>\n",
       "      <td>2, Оба варианта</td>\n",
       "      <td>Квартира</td>\n",
       "      <td>м. Говорово (10 мин пешком)</td>\n",
       "      <td>Москва, улица Богданова, 2к1, ш. Боровское (3 ...</td>\n",
       "      <td>90.0/48.2/15.5</td>\n",
       "      <td>6/23, Панельный</td>\n",
       "      <td>NaN</td>\n",
       "      <td>57000.0 руб./ За месяц, Залог - 60000 руб., Ко...</td>\n",
       "      <td>...</td>\n",
       "      <td>Во двор</td>\n",
       "      <td>Раздельный (1)</td>\n",
       "      <td>Можно с детьми, Можно с животными</td>\n",
       "      <td>Мебель в комнатах, Мебель на кухне, Ванна, Сти...</td>\n",
       "      <td>NaN</td>\n",
       "      <td>NaN</td>\n",
       "      <td>NaN</td>\n",
       "      <td>Пасс (3)</td>\n",
       "      <td>Да</td>\n",
       "      <td>https://www.cian.ru/rent/flat/274672243</td>\n",
       "    </tr>\n",
       "  </tbody>\n",
       "</table>\n",
       "<p>23368 rows × 25 columns</p>\n",
       "</div>"
      ],
      "text/plain": [
       "       Unnamed: 0  ID  объявления Количество комнат       Тип  \\\n",
       "0               0       271271157                 4  Квартира   \n",
       "1               1       271634126                 4  Квартира   \n",
       "2               2       271173086   4, Оба варианта  Квартира   \n",
       "3               3       272197456   4, Оба варианта  Квартира   \n",
       "4               4       273614615                 2  Квартира   \n",
       "...           ...             ...               ...       ...   \n",
       "23363       23363       215565511               NaN  Квартира   \n",
       "23364       23364       274654844                 1  Квартира   \n",
       "23365       23365       268679909   2, Оба варианта  Квартира   \n",
       "23366       23366       274807525                 2  Квартира   \n",
       "23367       23367       274672243   2, Оба варианта  Квартира   \n",
       "\n",
       "                              Метро  \\\n",
       "0      м. Смоленская (9 мин пешком)   \n",
       "1      м. Смоленская (8 мин пешком)   \n",
       "2      м. Смоленская (7 мин пешком)   \n",
       "3      м. Смоленская (3 мин пешком)   \n",
       "4       м. Арбатская (7 мин пешком)   \n",
       "...                             ...   \n",
       "23363    м. Говорово (8 мин пешком)   \n",
       "23364    м. Солнцево (7 мин пешком)   \n",
       "23365    м. Солнцево (6 мин пешком)   \n",
       "23366   м. Солнцево (11 мин пешком)   \n",
       "23367   м. Говорово (10 мин пешком)   \n",
       "\n",
       "                                                   Адрес      Площадь, м2  \\\n",
       "0                          Москва, улица Новый Арбат, 27       200.0/20.0   \n",
       "1                          Москва, улица Новый Арбат, 27  198.0/95.0/18.0   \n",
       "2                          Москва, улица Новый Арбат, 27  200.0/116.0/4.0   \n",
       "3                       Москва, переулок Плотников, 21С1  170.0/95.0/17.0   \n",
       "4                          Москва, улица Новый Арбат, 15    58.0/38.0/5.0   \n",
       "...                                                  ...              ...   \n",
       "23363  Москва, Боровское шоссе, 2к7, ш. Боровское (3 ...    35.0/16.4/8.0   \n",
       "23364  Москва, Производственная улица, 8к1, ш. Боровс...   38.7/16.5/11.0   \n",
       "23365                       Москва, Боровский проезд, 11             43.1   \n",
       "23366  Москва, улица Богданова, 6к1, ш. Боровское (3 ...        52.5/10.0   \n",
       "23367  Москва, улица Богданова, 2к1, ш. Боровское (3 ...   90.0/48.2/15.5   \n",
       "\n",
       "                             Дом   Парковка  \\\n",
       "0               5/16, Монолитный  подземная   \n",
       "1      5/16, Монолитно-кирпичный  подземная   \n",
       "2                           5/16  подземная   \n",
       "3                            5/6  подземная   \n",
       "4               12/26, Панельный        NaN   \n",
       "...                          ...        ...   \n",
       "23363                      10/14        NaN   \n",
       "23364           5/18, Монолитный        NaN   \n",
       "23365             5/5, Кирпичный        NaN   \n",
       "23366           8/23, Монолитный   наземная   \n",
       "23367            6/23, Панельный        NaN   \n",
       "\n",
       "                                                    Цена  ...  \\\n",
       "0      500000.0 руб./ За месяц, Залог - 500000 руб., ...  ...   \n",
       "1      500000.0 руб./ За месяц, Залог - 500000 руб., ...  ...   \n",
       "2      500000.0 руб./ За месяц, Залог - 500000 руб., ...  ...   \n",
       "3      400000.0 руб./ За месяц, Залог - 400000 руб., ...  ...   \n",
       "4      225000.0 руб./ За месяц, Залог - 225000 руб., ...  ...   \n",
       "...                                                  ...  ...   \n",
       "23363  42000.0 руб./ За месяц, Залог - 42000 руб., Ко...  ...   \n",
       "23364  45000.0 руб./ За месяц, Залог - 45000 руб., Ко...  ...   \n",
       "23365  50000.0 руб./ За месяц, Залог - 50000 руб., Ко...  ...   \n",
       "23366  55000.0 руб./ За месяц, Залог - 50000 руб., Ко...  ...   \n",
       "23367  57000.0 руб./ За месяц, Залог - 60000 руб., Ко...  ...   \n",
       "\n",
       "                  Окна                          Санузел  \\\n",
       "0                  NaN                              NaN   \n",
       "1      На улицу и двор  Совмещенный (2), Раздельный (1)   \n",
       "2      На улицу и двор                  Совмещенный (3)   \n",
       "3      На улицу и двор                  Совмещенный (3)   \n",
       "4      На улицу и двор                  Совмещенный (2)   \n",
       "...                ...                              ...   \n",
       "23363              NaN                  Совмещенный (1)   \n",
       "23364          Во двор                  Совмещенный (1)   \n",
       "23365  На улицу и двор                  Совмещенный (1)   \n",
       "23366          Во двор  Совмещенный (1), Раздельный (1)   \n",
       "23367          Во двор                   Раздельный (1)   \n",
       "\n",
       "                Можно с детьми/животными  \\\n",
       "0      Можно с детьми, Можно с животными   \n",
       "1                         Можно с детьми   \n",
       "2                         Можно с детьми   \n",
       "3                      Можно с животными   \n",
       "4                                    NaN   \n",
       "...                                  ...   \n",
       "23363                                NaN   \n",
       "23364                                NaN   \n",
       "23365                     Можно с детьми   \n",
       "23366                                NaN   \n",
       "23367  Можно с детьми, Можно с животными   \n",
       "\n",
       "                                           Дополнительно        Название ЖК  \\\n",
       "0      Мебель в комнатах, Мебель на кухне, Ванна, Душ...  Новый Арбат, 2010   \n",
       "1      Мебель в комнатах, Мебель на кухне, Ванна, Душ...        Новый Арбат   \n",
       "2      Мебель в комнатах, Мебель на кухне, Ванна, Душ...        Новый Арбат   \n",
       "3      Мебель в комнатах, Мебель на кухне, Ванна, Душ...                NaN   \n",
       "4      Мебель в комнатах, Мебель на кухне, Ванна, Душ...           The Book   \n",
       "...                                                  ...                ...   \n",
       "23363  Мебель в комнатах, Мебель на кухне, Ванна, Сти...      Мещерский лес   \n",
       "23364  Мебель в комнатах, Мебель на кухне, Ванна, Сти...               Лучи   \n",
       "23365  Мебель на кухне, Душевая кабина, Стиральная ма...                NaN   \n",
       "23366  Мебель в комнатах, Мебель на кухне, Ванна, Сти...                NaN   \n",
       "23367  Мебель в комнатах, Мебель на кухне, Ванна, Сти...                NaN   \n",
       "\n",
       "      Серия дома Высота потолков, м                Лифт Мусоропровод  \\\n",
       "0            NaN               3.00  Пасс (4), Груз (1)           Да   \n",
       "1            NaN               3.50  Пасс (1), Груз (1)          Нет   \n",
       "2            NaN               3.20            Пасс (1)          NaN   \n",
       "3            NaN               3.20            Пасс (1)          NaN   \n",
       "4            NaN               3.90  Пасс (1), Груз (1)           Да   \n",
       "...          ...                ...                 ...          ...   \n",
       "23363        NaN                NaN  Пасс (1), Груз (1)          NaN   \n",
       "23364        NaN                NaN  Пасс (1), Груз (1)          NaN   \n",
       "23365        NaN                NaN                 NaN          NaN   \n",
       "23366        NaN               2.65            Пасс (3)           Да   \n",
       "23367        NaN                NaN            Пасс (3)           Да   \n",
       "\n",
       "                          Ссылка на объявление  \n",
       "0      https://www.cian.ru/rent/flat/271271157  \n",
       "1      https://www.cian.ru/rent/flat/271634126  \n",
       "2      https://www.cian.ru/rent/flat/271173086  \n",
       "3      https://www.cian.ru/rent/flat/272197456  \n",
       "4      https://www.cian.ru/rent/flat/273614615  \n",
       "...                                        ...  \n",
       "23363  https://www.cian.ru/rent/flat/215565511  \n",
       "23364  https://www.cian.ru/rent/flat/274654844  \n",
       "23365  https://www.cian.ru/rent/flat/268679909  \n",
       "23366  https://www.cian.ru/rent/flat/274807525  \n",
       "23367  https://www.cian.ru/rent/flat/274672243  \n",
       "\n",
       "[23368 rows x 25 columns]"
      ]
     },
     "execution_count": 267,
     "metadata": {},
     "output_type": "execute_result"
    }
   ],
   "source": [
    "df"
   ]
  },
  {
   "cell_type": "markdown",
   "id": "793eecc3-d0d3-440f-9e3d-400cdaa36bcf",
   "metadata": {},
   "source": [
    "### Удаляем незначемые колонки"
   ]
  },
  {
   "cell_type": "code",
   "execution_count": 268,
   "id": "69567362-6fc8-4325-a009-b3c94875ed85",
   "metadata": {
    "tags": []
   },
   "outputs": [],
   "source": [
    "df = df.drop(columns=['Тип', 'Телефоны', 'Описание', 'Unnamed: 0', 'Серия дома', 'Ссылка на объявление', 'Название ЖК', 'Площадь комнат, м2'])"
   ]
  },
  {
   "cell_type": "code",
   "execution_count": 269,
   "id": "a8957e9c-70cf-4940-9355-ff088c4aeaca",
   "metadata": {
    "tags": []
   },
   "outputs": [
    {
     "data": {
      "text/html": [
       "<div>\n",
       "<style scoped>\n",
       "    .dataframe tbody tr th:only-of-type {\n",
       "        vertical-align: middle;\n",
       "    }\n",
       "\n",
       "    .dataframe tbody tr th {\n",
       "        vertical-align: top;\n",
       "    }\n",
       "\n",
       "    .dataframe thead th {\n",
       "        text-align: right;\n",
       "    }\n",
       "</style>\n",
       "<table border=\"1\" class=\"dataframe\">\n",
       "  <thead>\n",
       "    <tr style=\"text-align: right;\">\n",
       "      <th></th>\n",
       "      <th>ID  объявления</th>\n",
       "      <th>Количество комнат</th>\n",
       "      <th>Метро</th>\n",
       "      <th>Адрес</th>\n",
       "      <th>Площадь, м2</th>\n",
       "      <th>Дом</th>\n",
       "      <th>Парковка</th>\n",
       "      <th>Цена</th>\n",
       "      <th>Ремонт</th>\n",
       "      <th>Балкон</th>\n",
       "      <th>Окна</th>\n",
       "      <th>Санузел</th>\n",
       "      <th>Можно с детьми/животными</th>\n",
       "      <th>Дополнительно</th>\n",
       "      <th>Высота потолков, м</th>\n",
       "      <th>Лифт</th>\n",
       "      <th>Мусоропровод</th>\n",
       "    </tr>\n",
       "  </thead>\n",
       "  <tbody>\n",
       "    <tr>\n",
       "      <th>0</th>\n",
       "      <td>271271157</td>\n",
       "      <td>4</td>\n",
       "      <td>м. Смоленская (9 мин пешком)</td>\n",
       "      <td>Москва, улица Новый Арбат, 27</td>\n",
       "      <td>200.0/20.0</td>\n",
       "      <td>5/16, Монолитный</td>\n",
       "      <td>подземная</td>\n",
       "      <td>500000.0 руб./ За месяц, Залог - 500000 руб., ...</td>\n",
       "      <td>Дизайнерский</td>\n",
       "      <td>NaN</td>\n",
       "      <td>NaN</td>\n",
       "      <td>NaN</td>\n",
       "      <td>Можно с детьми, Можно с животными</td>\n",
       "      <td>Мебель в комнатах, Мебель на кухне, Ванна, Душ...</td>\n",
       "      <td>3.0</td>\n",
       "      <td>Пасс (4), Груз (1)</td>\n",
       "      <td>Да</td>\n",
       "    </tr>\n",
       "    <tr>\n",
       "      <th>1</th>\n",
       "      <td>271634126</td>\n",
       "      <td>4</td>\n",
       "      <td>м. Смоленская (8 мин пешком)</td>\n",
       "      <td>Москва, улица Новый Арбат, 27</td>\n",
       "      <td>198.0/95.0/18.0</td>\n",
       "      <td>5/16, Монолитно-кирпичный</td>\n",
       "      <td>подземная</td>\n",
       "      <td>500000.0 руб./ За месяц, Залог - 500000 руб., ...</td>\n",
       "      <td>Дизайнерский</td>\n",
       "      <td>NaN</td>\n",
       "      <td>На улицу и двор</td>\n",
       "      <td>Совмещенный (2), Раздельный (1)</td>\n",
       "      <td>Можно с детьми</td>\n",
       "      <td>Мебель в комнатах, Мебель на кухне, Ванна, Душ...</td>\n",
       "      <td>3.5</td>\n",
       "      <td>Пасс (1), Груз (1)</td>\n",
       "      <td>Нет</td>\n",
       "    </tr>\n",
       "    <tr>\n",
       "      <th>2</th>\n",
       "      <td>271173086</td>\n",
       "      <td>4, Оба варианта</td>\n",
       "      <td>м. Смоленская (7 мин пешком)</td>\n",
       "      <td>Москва, улица Новый Арбат, 27</td>\n",
       "      <td>200.0/116.0/4.0</td>\n",
       "      <td>5/16</td>\n",
       "      <td>подземная</td>\n",
       "      <td>500000.0 руб./ За месяц, Залог - 500000 руб., ...</td>\n",
       "      <td>Евроремонт</td>\n",
       "      <td>NaN</td>\n",
       "      <td>На улицу и двор</td>\n",
       "      <td>Совмещенный (3)</td>\n",
       "      <td>Можно с детьми</td>\n",
       "      <td>Мебель в комнатах, Мебель на кухне, Ванна, Душ...</td>\n",
       "      <td>3.2</td>\n",
       "      <td>Пасс (1)</td>\n",
       "      <td>NaN</td>\n",
       "    </tr>\n",
       "    <tr>\n",
       "      <th>3</th>\n",
       "      <td>272197456</td>\n",
       "      <td>4, Оба варианта</td>\n",
       "      <td>м. Смоленская (3 мин пешком)</td>\n",
       "      <td>Москва, переулок Плотников, 21С1</td>\n",
       "      <td>170.0/95.0/17.0</td>\n",
       "      <td>5/6</td>\n",
       "      <td>подземная</td>\n",
       "      <td>400000.0 руб./ За месяц, Залог - 400000 руб., ...</td>\n",
       "      <td>Евроремонт</td>\n",
       "      <td>NaN</td>\n",
       "      <td>На улицу и двор</td>\n",
       "      <td>Совмещенный (3)</td>\n",
       "      <td>Можно с животными</td>\n",
       "      <td>Мебель в комнатах, Мебель на кухне, Ванна, Душ...</td>\n",
       "      <td>3.2</td>\n",
       "      <td>Пасс (1)</td>\n",
       "      <td>NaN</td>\n",
       "    </tr>\n",
       "    <tr>\n",
       "      <th>4</th>\n",
       "      <td>273614615</td>\n",
       "      <td>2</td>\n",
       "      <td>м. Арбатская (7 мин пешком)</td>\n",
       "      <td>Москва, улица Новый Арбат, 15</td>\n",
       "      <td>58.0/38.0/5.0</td>\n",
       "      <td>12/26, Панельный</td>\n",
       "      <td>NaN</td>\n",
       "      <td>225000.0 руб./ За месяц, Залог - 225000 руб., ...</td>\n",
       "      <td>Евроремонт</td>\n",
       "      <td>NaN</td>\n",
       "      <td>На улицу и двор</td>\n",
       "      <td>Совмещенный (2)</td>\n",
       "      <td>NaN</td>\n",
       "      <td>Мебель в комнатах, Мебель на кухне, Ванна, Душ...</td>\n",
       "      <td>3.9</td>\n",
       "      <td>Пасс (1), Груз (1)</td>\n",
       "      <td>Да</td>\n",
       "    </tr>\n",
       "  </tbody>\n",
       "</table>\n",
       "</div>"
      ],
      "text/plain": [
       "   ID  объявления Количество комнат                         Метро  \\\n",
       "0       271271157                 4  м. Смоленская (9 мин пешком)   \n",
       "1       271634126                 4  м. Смоленская (8 мин пешком)   \n",
       "2       271173086   4, Оба варианта  м. Смоленская (7 мин пешком)   \n",
       "3       272197456   4, Оба варианта  м. Смоленская (3 мин пешком)   \n",
       "4       273614615                 2   м. Арбатская (7 мин пешком)   \n",
       "\n",
       "                              Адрес      Площадь, м2  \\\n",
       "0     Москва, улица Новый Арбат, 27       200.0/20.0   \n",
       "1     Москва, улица Новый Арбат, 27  198.0/95.0/18.0   \n",
       "2     Москва, улица Новый Арбат, 27  200.0/116.0/4.0   \n",
       "3  Москва, переулок Плотников, 21С1  170.0/95.0/17.0   \n",
       "4     Москва, улица Новый Арбат, 15    58.0/38.0/5.0   \n",
       "\n",
       "                         Дом   Парковка  \\\n",
       "0           5/16, Монолитный  подземная   \n",
       "1  5/16, Монолитно-кирпичный  подземная   \n",
       "2                       5/16  подземная   \n",
       "3                        5/6  подземная   \n",
       "4           12/26, Панельный        NaN   \n",
       "\n",
       "                                                Цена        Ремонт Балкон  \\\n",
       "0  500000.0 руб./ За месяц, Залог - 500000 руб., ...  Дизайнерский    NaN   \n",
       "1  500000.0 руб./ За месяц, Залог - 500000 руб., ...  Дизайнерский    NaN   \n",
       "2  500000.0 руб./ За месяц, Залог - 500000 руб., ...    Евроремонт    NaN   \n",
       "3  400000.0 руб./ За месяц, Залог - 400000 руб., ...    Евроремонт    NaN   \n",
       "4  225000.0 руб./ За месяц, Залог - 225000 руб., ...    Евроремонт    NaN   \n",
       "\n",
       "              Окна                          Санузел  \\\n",
       "0              NaN                              NaN   \n",
       "1  На улицу и двор  Совмещенный (2), Раздельный (1)   \n",
       "2  На улицу и двор                  Совмещенный (3)   \n",
       "3  На улицу и двор                  Совмещенный (3)   \n",
       "4  На улицу и двор                  Совмещенный (2)   \n",
       "\n",
       "            Можно с детьми/животными  \\\n",
       "0  Можно с детьми, Можно с животными   \n",
       "1                     Можно с детьми   \n",
       "2                     Можно с детьми   \n",
       "3                  Можно с животными   \n",
       "4                                NaN   \n",
       "\n",
       "                                       Дополнительно  Высота потолков, м  \\\n",
       "0  Мебель в комнатах, Мебель на кухне, Ванна, Душ...                 3.0   \n",
       "1  Мебель в комнатах, Мебель на кухне, Ванна, Душ...                 3.5   \n",
       "2  Мебель в комнатах, Мебель на кухне, Ванна, Душ...                 3.2   \n",
       "3  Мебель в комнатах, Мебель на кухне, Ванна, Душ...                 3.2   \n",
       "4  Мебель в комнатах, Мебель на кухне, Ванна, Душ...                 3.9   \n",
       "\n",
       "                 Лифт Мусоропровод  \n",
       "0  Пасс (4), Груз (1)           Да  \n",
       "1  Пасс (1), Груз (1)          Нет  \n",
       "2            Пасс (1)          NaN  \n",
       "3            Пасс (1)          NaN  \n",
       "4  Пасс (1), Груз (1)           Да  "
      ]
     },
     "execution_count": 269,
     "metadata": {},
     "output_type": "execute_result"
    }
   ],
   "source": [
    "df.head()"
   ]
  },
  {
   "cell_type": "markdown",
   "id": "e6a57eba-e24a-4928-b789-08470f53505a",
   "metadata": {},
   "source": [
    "### Фильтруем DataFrame по Москве"
   ]
  },
  {
   "cell_type": "code",
   "execution_count": 270,
   "id": "649d31c3-d9e4-46bf-b90d-80c66e1c1615",
   "metadata": {
    "tags": []
   },
   "outputs": [
    {
     "data": {
      "text/plain": [
       "Москва, Чапаевский переулок, 3                                       63\n",
       "Москва, улица Василисы Кожиной, 13                                   46\n",
       "Москва, улица 1-я Леонова, 18                                        42\n",
       "Москва, Мосфильмовская улица, 8                                      37\n",
       "Москва, Гостиничный проезд, 8К1                                      32\n",
       "                                                                     ..\n",
       "Краснодарский край, Сочи, Центральный мкр, улица Навагинская, 11А     1\n",
       "Краснодарский край, Сочи, Центральный мкр, улица Нагорная, 19А        1\n",
       "Краснодарский край, Сочи, Вишневая улица, 4                           1\n",
       "Краснодарский край, Сочи, Заречный мкр, улица Чайковского, 2          1\n",
       "Москва, Боровский проезд, 11                                          1\n",
       "Name: Адрес, Length: 12850, dtype: int64"
      ]
     },
     "execution_count": 270,
     "metadata": {},
     "output_type": "execute_result"
    }
   ],
   "source": [
    "df['Адрес'].value_counts()"
   ]
  },
  {
   "cell_type": "code",
   "execution_count": 271,
   "id": "9ade94bf-2cb5-4c36-90b4-a7b2b368d51a",
   "metadata": {
    "tags": []
   },
   "outputs": [],
   "source": [
    "df['Адрес'] = df['Адрес'].apply(lambda x: x.split(', ')[0] if type(x) != float else x)"
   ]
  },
  {
   "cell_type": "code",
   "execution_count": 272,
   "id": "1d328aef-cab7-4b40-9b87-50af29b801d5",
   "metadata": {
    "tags": []
   },
   "outputs": [
    {
     "data": {
      "text/plain": [
       "Москва                19737\n",
       "Санкт-Петербург        3028\n",
       "Краснодарский край      603\n",
       "Name: Адрес, dtype: int64"
      ]
     },
     "execution_count": 272,
     "metadata": {},
     "output_type": "execute_result"
    }
   ],
   "source": [
    "df['Адрес'].value_counts()"
   ]
  },
  {
   "cell_type": "code",
   "execution_count": 273,
   "id": "0f9cfe1e-b5cb-4486-bc6d-af8b58622d6e",
   "metadata": {
    "tags": []
   },
   "outputs": [],
   "source": [
    "df_msk = df[df['Адрес'] == 'Москва']"
   ]
  },
  {
   "cell_type": "code",
   "execution_count": 274,
   "id": "3082fe7c-4afd-4b0a-9cb0-11a5edc159a4",
   "metadata": {
    "tags": []
   },
   "outputs": [
    {
     "data": {
      "text/plain": [
       "Москва    19737\n",
       "Name: Адрес, dtype: int64"
      ]
     },
     "execution_count": 274,
     "metadata": {},
     "output_type": "execute_result"
    }
   ],
   "source": [
    "df_msk['Адрес'].value_counts()"
   ]
  },
  {
   "cell_type": "markdown",
   "id": "000d003d-279d-4f6d-8105-9f6913670d26",
   "metadata": {},
   "source": [
    "## Колонка цена"
   ]
  },
  {
   "cell_type": "code",
   "execution_count": 275,
   "id": "32a4e1f0-42d1-4480-ae8c-53236dde6026",
   "metadata": {},
   "outputs": [
    {
     "name": "stderr",
     "output_type": "stream",
     "text": [
      "/tmp/ipykernel_65060/369741696.py:19: SettingWithCopyWarning:\n",
      "\n",
      "\n",
      "A value is trying to be set on a copy of a slice from a DataFrame.\n",
      "Try using .loc[row_indexer,col_indexer] = value instead\n",
      "\n",
      "See the caveats in the documentation: https://pandas.pydata.org/pandas-docs/stable/user_guide/indexing.html#returning-a-view-versus-a-copy\n",
      "\n",
      "/tmp/ipykernel_65060/369741696.py:20: SettingWithCopyWarning:\n",
      "\n",
      "\n",
      "A value is trying to be set on a copy of a slice from a DataFrame.\n",
      "Try using .loc[row_indexer,col_indexer] = value instead\n",
      "\n",
      "See the caveats in the documentation: https://pandas.pydata.org/pandas-docs/stable/user_guide/indexing.html#returning-a-view-versus-a-copy\n",
      "\n",
      "/tmp/ipykernel_65060/369741696.py:21: SettingWithCopyWarning:\n",
      "\n",
      "\n",
      "A value is trying to be set on a copy of a slice from a DataFrame.\n",
      "Try using .loc[row_indexer,col_indexer] = value instead\n",
      "\n",
      "See the caveats in the documentation: https://pandas.pydata.org/pandas-docs/stable/user_guide/indexing.html#returning-a-view-versus-a-copy\n",
      "\n",
      "/tmp/ipykernel_65060/369741696.py:23: SettingWithCopyWarning:\n",
      "\n",
      "\n",
      "A value is trying to be set on a copy of a slice from a DataFrame\n",
      "\n",
      "See the caveats in the documentation: https://pandas.pydata.org/pandas-docs/stable/user_guide/indexing.html#returning-a-view-versus-a-copy\n",
      "\n",
      "/tmp/ipykernel_65060/369741696.py:24: SettingWithCopyWarning:\n",
      "\n",
      "\n",
      "A value is trying to be set on a copy of a slice from a DataFrame\n",
      "\n",
      "See the caveats in the documentation: https://pandas.pydata.org/pandas-docs/stable/user_guide/indexing.html#returning-a-view-versus-a-copy\n",
      "\n",
      "/tmp/ipykernel_65060/369741696.py:27: SettingWithCopyWarning:\n",
      "\n",
      "\n",
      "A value is trying to be set on a copy of a slice from a DataFrame\n",
      "\n",
      "See the caveats in the documentation: https://pandas.pydata.org/pandas-docs/stable/user_guide/indexing.html#returning-a-view-versus-a-copy\n",
      "\n",
      "/tmp/ipykernel_65060/369741696.py:28: SettingWithCopyWarning:\n",
      "\n",
      "\n",
      "A value is trying to be set on a copy of a slice from a DataFrame\n",
      "\n",
      "See the caveats in the documentation: https://pandas.pydata.org/pandas-docs/stable/user_guide/indexing.html#returning-a-view-versus-a-copy\n",
      "\n",
      "/tmp/ipykernel_65060/369741696.py:33: SettingWithCopyWarning:\n",
      "\n",
      "\n",
      "A value is trying to be set on a copy of a slice from a DataFrame.\n",
      "Try using .loc[row_indexer,col_indexer] = value instead\n",
      "\n",
      "See the caveats in the documentation: https://pandas.pydata.org/pandas-docs/stable/user_guide/indexing.html#returning-a-view-versus-a-copy\n",
      "\n"
     ]
    }
   ],
   "source": [
    "stack = []\n",
    "for row in df_msk['Цена']:\n",
    "    stack.append(row)\n",
    "stack_dol = []\n",
    "stack_eur = []\n",
    "index_eur = []\n",
    "index_dol = []\n",
    "for index, row in enumerate (stack):\n",
    "    #print(index)\n",
    "    if '€' in row:\n",
    "        stack_eur.append(row)\n",
    "        index_eur.append(index)\n",
    "    elif '$' in row:\n",
    "        stack_dol.append(row)\n",
    "        index_dol.append(index)\n",
    "\n",
    "#print(index_dol)\n",
    "#print(index_eur)\n",
    "df_msk[\"Цена за месяц числом\"] = df_msk[\"Цена\"].apply(lambda elem: elem.split(' ')[0])\n",
    "df_msk[\"Цена залог\"] = df_msk[\"Цена\"].apply(lambda elem: elem.split(\"Залог -\")[1].split(' ')[1] if 'Залог' in elem else 0)\n",
    "df_msk['Комунальные услуги'] = df_msk[\"Цена\"].apply(lambda elem: 'Да' if 'Коммунальные услуги включены' in elem else 'Нет')\n",
    "for i in index_dol:\n",
    "    df_msk[\"Цена за месяц числом\"].iloc[i] = float(df_msk[\"Цена за месяц числом\"].iloc[i]) * 75.91\n",
    "    df_msk[\"Цена залог\"].iloc[i] = float(df_msk[\"Цена залог\"].iloc[i]) * 75.91\n",
    "\n",
    "for i in index_eur:\n",
    "    df_msk[\"Цена за месяц числом\"].iloc[i] = float(df_msk[\"Цена за месяц числом\"].iloc[i]) * 80.41\n",
    "    df_msk[\"Цена залог\"].iloc[i] = float(df_msk[\"Цена залог\"].iloc[i]) * 80.41\n",
    "    #print(df[\"Цена залог\"].iloc[i])\n",
    "\n",
    "df_msk[\"Цена за месяц числом\"].value_counts(dropna=False)\n",
    "# Преобразовать колонку в числовой формат\n",
    "df_msk['Цена за месяц числом'] = df_msk['Цена за месяц числом'].astype(float)\n",
    "    "
   ]
  },
  {
   "cell_type": "code",
   "execution_count": 276,
   "id": "2089a078-b5a1-47a0-bac1-5f4a389ec9d6",
   "metadata": {},
   "outputs": [
    {
     "data": {
      "text/plain": [
       "40000     1359\n",
       "45000     1308\n",
       "50000     1177\n",
       "35000     1141\n",
       "60000      807\n",
       "          ... \n",
       "89500        1\n",
       "90400        1\n",
       "450006       1\n",
       "4900         1\n",
       "199900       1\n",
       "Name: Цена залог, Length: 522, dtype: int64"
      ]
     },
     "execution_count": 276,
     "metadata": {},
     "output_type": "execute_result"
    }
   ],
   "source": [
    "df_msk[\"Цена залог\"].value_counts(dropna=False)"
   ]
  },
  {
   "cell_type": "code",
   "execution_count": 277,
   "id": "b95d8b59-4faf-4884-b7db-c8c6d1156bdf",
   "metadata": {},
   "outputs": [
    {
     "name": "stderr",
     "output_type": "stream",
     "text": [
      "/tmp/ipykernel_65060/864591715.py:1: SettingWithCopyWarning:\n",
      "\n",
      "\n",
      "A value is trying to be set on a copy of a slice from a DataFrame.\n",
      "Try using .loc[row_indexer,col_indexer] = value instead\n",
      "\n",
      "See the caveats in the documentation: https://pandas.pydata.org/pandas-docs/stable/user_guide/indexing.html#returning-a-view-versus-a-copy\n",
      "\n"
     ]
    }
   ],
   "source": [
    "df_msk[\"Цена залог\"] = df_msk[\"Цена залог\"].astype(float)\n",
    "df_msk[\"Цена залог\"].value_counts(dropna=False)\n",
    "df_msk[\"Цена залог\"].sort_values(ascending=False)\n",
    "df_msk = df_msk.drop(index=[4501, 21231])"
   ]
  },
  {
   "cell_type": "markdown",
   "id": "6c7b8700-5e28-4ff1-a44d-0379d51c97cd",
   "metadata": {},
   "source": [
    "* Удаляем строки с явно ошибочными залогами"
   ]
  },
  {
   "cell_type": "markdown",
   "id": "69bc211d-bcce-4355-8039-6382c6e3fbe6",
   "metadata": {},
   "source": [
    "### Заполняем пропущенные значения в столбце \"Парковка\""
   ]
  },
  {
   "cell_type": "code",
   "execution_count": 278,
   "id": "db4060d8-f556-4984-afd2-c2632fcb1ce2",
   "metadata": {
    "tags": []
   },
   "outputs": [],
   "source": [
    "df_msk['Парковка'].fillna('отсутствует', inplace=True)"
   ]
  },
  {
   "cell_type": "code",
   "execution_count": 279,
   "id": "49539c78-96bd-4801-afcc-0a1e7badb0c1",
   "metadata": {
    "tags": []
   },
   "outputs": [
    {
     "data": {
      "text/html": [
       "<div>\n",
       "<style scoped>\n",
       "    .dataframe tbody tr th:only-of-type {\n",
       "        vertical-align: middle;\n",
       "    }\n",
       "\n",
       "    .dataframe tbody tr th {\n",
       "        vertical-align: top;\n",
       "    }\n",
       "\n",
       "    .dataframe thead th {\n",
       "        text-align: right;\n",
       "    }\n",
       "</style>\n",
       "<table border=\"1\" class=\"dataframe\">\n",
       "  <thead>\n",
       "    <tr style=\"text-align: right;\">\n",
       "      <th></th>\n",
       "      <th>Парковка</th>\n",
       "    </tr>\n",
       "  </thead>\n",
       "  <tbody>\n",
       "    <tr>\n",
       "      <th>отсутствует</th>\n",
       "      <td>11172</td>\n",
       "    </tr>\n",
       "    <tr>\n",
       "      <th>наземная</th>\n",
       "      <td>5283</td>\n",
       "    </tr>\n",
       "    <tr>\n",
       "      <th>подземная</th>\n",
       "      <td>2466</td>\n",
       "    </tr>\n",
       "    <tr>\n",
       "      <th>открытая</th>\n",
       "      <td>713</td>\n",
       "    </tr>\n",
       "    <tr>\n",
       "      <th>многоуровневая</th>\n",
       "      <td>100</td>\n",
       "    </tr>\n",
       "    <tr>\n",
       "      <th>на крыше</th>\n",
       "      <td>1</td>\n",
       "    </tr>\n",
       "  </tbody>\n",
       "</table>\n",
       "</div>"
      ],
      "text/plain": [
       "                Парковка\n",
       "отсутствует        11172\n",
       "наземная            5283\n",
       "подземная           2466\n",
       "открытая             713\n",
       "многоуровневая       100\n",
       "на крыше               1"
      ]
     },
     "execution_count": 279,
     "metadata": {},
     "output_type": "execute_result"
    }
   ],
   "source": [
    "pd.DataFrame(df_msk['Парковка'].value_counts(dropna=False))"
   ]
  },
  {
   "cell_type": "markdown",
   "id": "860d59ba-43f3-46a8-92e0-fa984a2e7bdf",
   "metadata": {},
   "source": [
    "### Заполняем пропущенные значения в столбце \"Ремонт\""
   ]
  },
  {
   "cell_type": "code",
   "execution_count": 280,
   "id": "977c1a28-f13c-476d-aead-a6368a6c79f2",
   "metadata": {
    "tags": []
   },
   "outputs": [],
   "source": [
    "df_msk['Ремонт'].fillna(method='ffill', inplace=True)"
   ]
  },
  {
   "cell_type": "code",
   "execution_count": 281,
   "id": "3c28edfe-0f37-4fab-b6a8-4757e1c549ad",
   "metadata": {
    "tags": []
   },
   "outputs": [
    {
     "data": {
      "text/html": [
       "<div>\n",
       "<style scoped>\n",
       "    .dataframe tbody tr th:only-of-type {\n",
       "        vertical-align: middle;\n",
       "    }\n",
       "\n",
       "    .dataframe tbody tr th {\n",
       "        vertical-align: top;\n",
       "    }\n",
       "\n",
       "    .dataframe thead th {\n",
       "        text-align: right;\n",
       "    }\n",
       "</style>\n",
       "<table border=\"1\" class=\"dataframe\">\n",
       "  <thead>\n",
       "    <tr style=\"text-align: right;\">\n",
       "      <th></th>\n",
       "      <th>Ремонт</th>\n",
       "    </tr>\n",
       "  </thead>\n",
       "  <tbody>\n",
       "    <tr>\n",
       "      <th>Косметический</th>\n",
       "      <td>8271</td>\n",
       "    </tr>\n",
       "    <tr>\n",
       "      <th>Евроремонт</th>\n",
       "      <td>8159</td>\n",
       "    </tr>\n",
       "    <tr>\n",
       "      <th>Дизайнерский</th>\n",
       "      <td>3151</td>\n",
       "    </tr>\n",
       "    <tr>\n",
       "      <th>Без ремонта</th>\n",
       "      <td>154</td>\n",
       "    </tr>\n",
       "  </tbody>\n",
       "</table>\n",
       "</div>"
      ],
      "text/plain": [
       "               Ремонт\n",
       "Косметический    8271\n",
       "Евроремонт       8159\n",
       "Дизайнерский     3151\n",
       "Без ремонта       154"
      ]
     },
     "execution_count": 281,
     "metadata": {},
     "output_type": "execute_result"
    }
   ],
   "source": [
    "pd.DataFrame(df_msk['Ремонт'].value_counts(dropna=False))"
   ]
  },
  {
   "cell_type": "markdown",
   "id": "f862146f-5b5c-438a-a999-8df3c202fba3",
   "metadata": {},
   "source": [
    "### Переводим значения в столбце \"Высота потолков\" в единую СИ"
   ]
  },
  {
   "cell_type": "code",
   "execution_count": 282,
   "id": "6b2ceb82-68f0-4182-8a2e-e0c1d4432daa",
   "metadata": {
    "tags": []
   },
   "outputs": [],
   "source": [
    "df_msk['Высота потолков, м'] = np.where(df_msk['Высота потолков, м'] > 100, df_msk['Высота потолков, м']/100, df_msk['Высота потолков, м'])"
   ]
  },
  {
   "cell_type": "markdown",
   "id": "1870be2c-4507-40e3-961c-0ada307b7557",
   "metadata": {},
   "source": [
    "### Избавляемся от выбросов, заполняем их медианными значениями"
   ]
  },
  {
   "cell_type": "code",
   "execution_count": 283,
   "id": "d305aa16-cf98-468f-825c-639f30779343",
   "metadata": {
    "tags": []
   },
   "outputs": [],
   "source": [
    "df_msk['Высота потолков, м'] = np.where(df_msk['Высота потолков, м'] > 5, df_msk['Высота потолков, м'].median(), df_msk['Высота потолков, м']) # если высота потолка > 5м"
   ]
  },
  {
   "cell_type": "code",
   "execution_count": 284,
   "id": "5f308b78-ff4c-41e2-b6b4-5ccf7679d46b",
   "metadata": {
    "tags": []
   },
   "outputs": [],
   "source": [
    "df_msk['Высота потолков, м'] = np.where(df_msk['Высота потолков, м'] < 2, df_msk['Высота потолков, м'].median(), df_msk['Высота потолков, м']) # если высота потолка < 2м"
   ]
  },
  {
   "cell_type": "markdown",
   "id": "bec3cf6a-c186-4e73-afc8-25cedecbe07e",
   "metadata": {},
   "source": [
    "### Заполняем пропущенные значения "
   ]
  },
  {
   "cell_type": "code",
   "execution_count": 285,
   "id": "d6cc965b-4015-49f1-b96e-e5841346d175",
   "metadata": {
    "tags": []
   },
   "outputs": [],
   "source": [
    "df_msk['Высота потолков, м'].fillna(round(df_msk['Высота потолков, м'].mean(), 2), inplace=True)"
   ]
  },
  {
   "cell_type": "code",
   "execution_count": 286,
   "id": "13b313ad-020a-4738-9ab3-260da4af7528",
   "metadata": {
    "tags": []
   },
   "outputs": [
    {
     "data": {
      "text/html": [
       "<div>\n",
       "<style scoped>\n",
       "    .dataframe tbody tr th:only-of-type {\n",
       "        vertical-align: middle;\n",
       "    }\n",
       "\n",
       "    .dataframe tbody tr th {\n",
       "        vertical-align: top;\n",
       "    }\n",
       "\n",
       "    .dataframe thead th {\n",
       "        text-align: right;\n",
       "    }\n",
       "</style>\n",
       "<table border=\"1\" class=\"dataframe\">\n",
       "  <thead>\n",
       "    <tr style=\"text-align: right;\">\n",
       "      <th></th>\n",
       "      <th>Высота потолков, м</th>\n",
       "    </tr>\n",
       "  </thead>\n",
       "  <tbody>\n",
       "    <tr>\n",
       "      <th>2.75</th>\n",
       "      <td>9356</td>\n",
       "    </tr>\n",
       "    <tr>\n",
       "      <th>2.64</th>\n",
       "      <td>4492</td>\n",
       "    </tr>\n",
       "    <tr>\n",
       "      <th>3.00</th>\n",
       "      <td>1191</td>\n",
       "    </tr>\n",
       "    <tr>\n",
       "      <th>2.70</th>\n",
       "      <td>929</td>\n",
       "    </tr>\n",
       "    <tr>\n",
       "      <th>2.48</th>\n",
       "      <td>675</td>\n",
       "    </tr>\n",
       "    <tr>\n",
       "      <th>...</th>\n",
       "      <td>...</td>\n",
       "    </tr>\n",
       "    <tr>\n",
       "      <th>2.73</th>\n",
       "      <td>1</td>\n",
       "    </tr>\n",
       "    <tr>\n",
       "      <th>4.05</th>\n",
       "      <td>1</td>\n",
       "    </tr>\n",
       "    <tr>\n",
       "      <th>2.52</th>\n",
       "      <td>1</td>\n",
       "    </tr>\n",
       "    <tr>\n",
       "      <th>2.43</th>\n",
       "      <td>1</td>\n",
       "    </tr>\n",
       "    <tr>\n",
       "      <th>3.21</th>\n",
       "      <td>1</td>\n",
       "    </tr>\n",
       "  </tbody>\n",
       "</table>\n",
       "<p>73 rows × 1 columns</p>\n",
       "</div>"
      ],
      "text/plain": [
       "      Высота потолков, м\n",
       "2.75                9356\n",
       "2.64                4492\n",
       "3.00                1191\n",
       "2.70                 929\n",
       "2.48                 675\n",
       "...                  ...\n",
       "2.73                   1\n",
       "4.05                   1\n",
       "2.52                   1\n",
       "2.43                   1\n",
       "3.21                   1\n",
       "\n",
       "[73 rows x 1 columns]"
      ]
     },
     "execution_count": 286,
     "metadata": {},
     "output_type": "execute_result"
    }
   ],
   "source": [
    "pd.DataFrame(df_msk['Высота потолков, м'].value_counts(dropna=False))"
   ]
  },
  {
   "cell_type": "markdown",
   "id": "8d76283b-0057-4990-8308-9245bcaabf9e",
   "metadata": {},
   "source": [
    "### Обрабатываем колонку \"Балкон\""
   ]
  },
  {
   "cell_type": "code",
   "execution_count": 287,
   "id": "523d7dee-39d7-4af8-9ab7-8cdfad2a171c",
   "metadata": {
    "tags": []
   },
   "outputs": [],
   "source": [
    "df_msk['Балкон'] = df_msk['Балкон'].fillna('Балкон (0), Лоджия (0)') # заполняем пустые значения\n",
    "df_msk['Кол-во лоджий'] = [row.split(' ')[-1] if (row.split(' ')[-2]) == 'Лоджия' else '(0)' for row in df_msk['Балкон']] # добавляем колонку 'Кол-во лоджий'\n",
    "df_msk['Кол-во балконов'] = [row.split(' ')[1] if row.split(' ')[0] == 'Балкон' else '(0)' for row in df_msk['Балкон']] # добавляем колонку 'Кол-во балконов'"
   ]
  },
  {
   "cell_type": "code",
   "execution_count": 288,
   "id": "72e6fc4c-9015-44a1-afb9-22667f137e3e",
   "metadata": {
    "tags": []
   },
   "outputs": [],
   "source": [
    "# заполняем колонки значениями типа int\n",
    "df_msk['Кол-во лоджий'] = [row.split('(')[1] for row in df_msk['Кол-во лоджий']]\n",
    "df_msk['Кол-во лоджий'] = [int(row.split(')')[0]) for row in df_msk['Кол-во лоджий']]\n",
    "df_msk['Кол-во балконов'] = [row.split('(')[1] for row in df_msk['Кол-во балконов']]\n",
    "df_msk['Кол-во балконов'] = [int(row.split(')')[0]) for row in df_msk['Кол-во балконов']]"
   ]
  },
  {
   "cell_type": "code",
   "execution_count": 289,
   "id": "6a74d041-471a-4044-b86d-3b21f573e93c",
   "metadata": {
    "tags": []
   },
   "outputs": [
    {
     "data": {
      "text/html": [
       "<div>\n",
       "<style scoped>\n",
       "    .dataframe tbody tr th:only-of-type {\n",
       "        vertical-align: middle;\n",
       "    }\n",
       "\n",
       "    .dataframe tbody tr th {\n",
       "        vertical-align: top;\n",
       "    }\n",
       "\n",
       "    .dataframe thead th {\n",
       "        text-align: right;\n",
       "    }\n",
       "</style>\n",
       "<table border=\"1\" class=\"dataframe\">\n",
       "  <thead>\n",
       "    <tr style=\"text-align: right;\">\n",
       "      <th></th>\n",
       "      <th></th>\n",
       "      <th>0</th>\n",
       "    </tr>\n",
       "    <tr>\n",
       "      <th>Кол-во балконов</th>\n",
       "      <th>Кол-во лоджий</th>\n",
       "      <th></th>\n",
       "    </tr>\n",
       "  </thead>\n",
       "  <tbody>\n",
       "    <tr>\n",
       "      <th>0</th>\n",
       "      <th>0</th>\n",
       "      <td>6630</td>\n",
       "    </tr>\n",
       "    <tr>\n",
       "      <th>1</th>\n",
       "      <th>0</th>\n",
       "      <td>6335</td>\n",
       "    </tr>\n",
       "    <tr>\n",
       "      <th>0</th>\n",
       "      <th>1</th>\n",
       "      <td>5031</td>\n",
       "    </tr>\n",
       "    <tr>\n",
       "      <th>1</th>\n",
       "      <th>1</th>\n",
       "      <td>610</td>\n",
       "    </tr>\n",
       "    <tr>\n",
       "      <th>0</th>\n",
       "      <th>2</th>\n",
       "      <td>537</td>\n",
       "    </tr>\n",
       "    <tr>\n",
       "      <th>2</th>\n",
       "      <th>0</th>\n",
       "      <td>423</td>\n",
       "    </tr>\n",
       "    <tr>\n",
       "      <th>3</th>\n",
       "      <th>0</th>\n",
       "      <td>45</td>\n",
       "    </tr>\n",
       "    <tr>\n",
       "      <th>0</th>\n",
       "      <th>3</th>\n",
       "      <td>42</td>\n",
       "    </tr>\n",
       "    <tr>\n",
       "      <th>1</th>\n",
       "      <th>2</th>\n",
       "      <td>21</td>\n",
       "    </tr>\n",
       "    <tr>\n",
       "      <th rowspan=\"2\" valign=\"top\">2</th>\n",
       "      <th>2</th>\n",
       "      <td>21</td>\n",
       "    </tr>\n",
       "    <tr>\n",
       "      <th>1</th>\n",
       "      <td>16</td>\n",
       "    </tr>\n",
       "    <tr>\n",
       "      <th>0</th>\n",
       "      <th>4</th>\n",
       "      <td>5</td>\n",
       "    </tr>\n",
       "    <tr>\n",
       "      <th>4</th>\n",
       "      <th>0</th>\n",
       "      <td>4</td>\n",
       "    </tr>\n",
       "    <tr>\n",
       "      <th>1</th>\n",
       "      <th>3</th>\n",
       "      <td>4</td>\n",
       "    </tr>\n",
       "    <tr>\n",
       "      <th>3</th>\n",
       "      <th>1</th>\n",
       "      <td>4</td>\n",
       "    </tr>\n",
       "    <tr>\n",
       "      <th>2</th>\n",
       "      <th>3</th>\n",
       "      <td>3</td>\n",
       "    </tr>\n",
       "    <tr>\n",
       "      <th>1</th>\n",
       "      <th>4</th>\n",
       "      <td>2</td>\n",
       "    </tr>\n",
       "    <tr>\n",
       "      <th>3</th>\n",
       "      <th>3</th>\n",
       "      <td>1</td>\n",
       "    </tr>\n",
       "    <tr>\n",
       "      <th>4</th>\n",
       "      <th>4</th>\n",
       "      <td>1</td>\n",
       "    </tr>\n",
       "  </tbody>\n",
       "</table>\n",
       "</div>"
      ],
      "text/plain": [
       "                                  0\n",
       "Кол-во балконов Кол-во лоджий      \n",
       "0               0              6630\n",
       "1               0              6335\n",
       "0               1              5031\n",
       "1               1               610\n",
       "0               2               537\n",
       "2               0               423\n",
       "3               0                45\n",
       "0               3                42\n",
       "1               2                21\n",
       "2               2                21\n",
       "                1                16\n",
       "0               4                 5\n",
       "4               0                 4\n",
       "1               3                 4\n",
       "3               1                 4\n",
       "2               3                 3\n",
       "1               4                 2\n",
       "3               3                 1\n",
       "4               4                 1"
      ]
     },
     "execution_count": 289,
     "metadata": {},
     "output_type": "execute_result"
    }
   ],
   "source": [
    "pd.DataFrame(df_msk[['Кол-во балконов', 'Кол-во лоджий']].value_counts(dropna=False))"
   ]
  },
  {
   "cell_type": "markdown",
   "id": "957b1524-9d65-47ae-b809-817497ab9a75",
   "metadata": {},
   "source": [
    "### Количество комнат¶"
   ]
  },
  {
   "cell_type": "markdown",
   "id": "e4043ae9-32bd-40a6-b606-e5e9e941033f",
   "metadata": {},
   "source": [
    "Оставляем только NaN и количество комнат, затем заменяем NaN на медиану и приводит все в тип int"
   ]
  },
  {
   "cell_type": "code",
   "execution_count": 290,
   "id": "a61f640b-8b8b-41c4-8fa0-12d2a45e7d02",
   "metadata": {
    "tags": []
   },
   "outputs": [
    {
     "data": {
      "text/plain": [
       "1                   6644\n",
       "2, Изолированная    4149\n",
       "2                   2228\n",
       "3                   1463\n",
       "3, Изолированная    1404\n",
       "3, Оба варианта      721\n",
       "4                    601\n",
       "2, Смежная           571\n",
       "NaN                  535\n",
       "2, Оба варианта      459\n",
       "5                    214\n",
       "4, Оба варианта      209\n",
       "4, Изолированная     188\n",
       "6                     83\n",
       "3, Смежная            80\n",
       "5, Оба варианта       75\n",
       "5, Изолированная      40\n",
       "6, Оба варианта       26\n",
       "6, Изолированная      16\n",
       "4, Смежная            13\n",
       "1, Изолированная       6\n",
       "5, Смежная             4\n",
       "6, Смежная             3\n",
       "1, Оба варианта        2\n",
       "1, Смежная             1\n",
       "Name: Количество комнат, dtype: int64"
      ]
     },
     "execution_count": 290,
     "metadata": {},
     "output_type": "execute_result"
    }
   ],
   "source": [
    "df_msk['Количество комнат'].value_counts(dropna=False)"
   ]
  },
  {
   "cell_type": "code",
   "execution_count": 291,
   "id": "5d74deb9-6a06-441e-928f-310f4dcd1eeb",
   "metadata": {
    "tags": []
   },
   "outputs": [],
   "source": [
    "df_msk['Количество комнат'] = df_msk['Количество комнат'].apply(lambda x: float(x.split(', ')[0]) if type(x) != float else x)"
   ]
  },
  {
   "cell_type": "code",
   "execution_count": 292,
   "id": "504ecb0f-6d8e-4428-916a-7317d8e4df83",
   "metadata": {
    "tags": []
   },
   "outputs": [],
   "source": [
    "df_msk['Количество комнат'].fillna(df_msk['Количество комнат'].median(), inplace=True)"
   ]
  },
  {
   "cell_type": "code",
   "execution_count": 293,
   "id": "31a2291a-e159-4d16-9434-278d726f746e",
   "metadata": {
    "tags": []
   },
   "outputs": [],
   "source": [
    "df_msk['Количество комнат'] = df_msk['Количество комнат'].astype(int)"
   ]
  },
  {
   "cell_type": "code",
   "execution_count": 294,
   "id": "21151504-cd96-4df4-8ba0-19ae14031989",
   "metadata": {
    "tags": []
   },
   "outputs": [
    {
     "data": {
      "text/plain": [
       "ID  объявления                int64\n",
       "Количество комнат             int64\n",
       "Метро                        object\n",
       "Адрес                        object\n",
       "Площадь, м2                  object\n",
       "Дом                          object\n",
       "Парковка                     object\n",
       "Цена                         object\n",
       "Ремонт                       object\n",
       "Балкон                       object\n",
       "Окна                         object\n",
       "Санузел                      object\n",
       "Можно с детьми/животными     object\n",
       "Дополнительно                object\n",
       "Высота потолков, м          float64\n",
       "Лифт                         object\n",
       "Мусоропровод                 object\n",
       "Цена за месяц числом        float64\n",
       "Цена залог                  float64\n",
       "Комунальные услуги           object\n",
       "Кол-во лоджий                 int64\n",
       "Кол-во балконов               int64\n",
       "dtype: object"
      ]
     },
     "execution_count": 294,
     "metadata": {},
     "output_type": "execute_result"
    }
   ],
   "source": [
    "df_msk.dtypes"
   ]
  },
  {
   "cell_type": "code",
   "execution_count": 295,
   "id": "3abdfc02-2a1b-4c92-9f11-b588fc929094",
   "metadata": {
    "tags": []
   },
   "outputs": [
    {
     "data": {
      "text/plain": [
       "2    7942\n",
       "1    6653\n",
       "3    3668\n",
       "4    1011\n",
       "5     333\n",
       "6     128\n",
       "Name: Количество комнат, dtype: int64"
      ]
     },
     "execution_count": 295,
     "metadata": {},
     "output_type": "execute_result"
    }
   ],
   "source": [
    "df_msk['Количество комнат'].value_counts(dropna=False)"
   ]
  },
  {
   "cell_type": "markdown",
   "id": "045dbf00-527e-4d8a-afe0-2c480cd80449",
   "metadata": {},
   "source": [
    "### Строим графики"
   ]
  },
  {
   "cell_type": "code",
   "execution_count": 296,
   "id": "17911833-29a5-4b58-a168-615c6ea6a617",
   "metadata": {
    "tags": []
   },
   "outputs": [
    {
     "data": {
      "image/png": "[encoded data removed]",
      "text/plain": [
       "<Figure size 640x480 with 1 Axes>"
      ]
     },
     "metadata": {},
     "output_type": "display_data"
    }
   ],
   "source": [
    "sns.countplot(x=df_msk['Количество комнат']);"
   ]
  },
  {
   "cell_type": "code",
   "execution_count": 297,
   "id": "0621c6a5-cb01-41e2-9dbd-b476301c87e9",
   "metadata": {
    "tags": []
   },
   "outputs": [
    {
     "data": {
      "application/vnd.plotly.v1+json": {
       "config": {
        "plotlyServerURL": "https://plot.ly"
       },
       "data": [
        {
         "domain": {
          "x": [
           0,
           1
          ],
          "y": [
           0,
           1
          ]
         },
         "hovertemplate": "index=%{label}<br>Количество комнат=%{value}<extra></extra>",
         "labels": [
          2,
          1,
          3,
          4,
          5,
          6
         ],
         "legendgroup": "",
         "name": "",
         "showlegend": true,
         "type": "pie",
         "values": [
          7942,
          6653,
          3668,
          1011,
          333,
          128
         ]
        }
       ],
       "layout": {
        "legend": {
         "tracegroupgap": 0
        },
        "margin": {
         "t": 60
        },
        "template": {
         "data": {
          "bar": [
           {
            "error_x": {
             "color": "#2a3f5f"
            },
            "error_y": {
             "color": "#2a3f5f"
            },
            "marker": {
             "line": {
              "color": "#E5ECF6",
              "width": 0.5
             },
             "pattern": {
              "fillmode": "overlay",
              "size": 10,
              "solidity": 0.2
             }
            },
            "type": "bar"
           }
          ],
          "barpolar": [
           {
            "marker": {
             "line": {
              "color": "#E5ECF6",
              "width": 0.5
             },
             "pattern": {
              "fillmode": "overlay",
              "size": 10,
              "solidity": 0.2
             }
            },
            "type": "barpolar"
           }
          ],
          "carpet": [
           {
            "aaxis": {
             "endlinecolor": "#2a3f5f",
             "gridcolor": "white",
             "linecolor": "white",
             "minorgridcolor": "white",
             "startlinecolor": "#2a3f5f"
            },
            "baxis": {
             "endlinecolor": "#2a3f5f",
             "gridcolor": "white",
             "linecolor": "white",
             "minorgridcolor": "white",
             "startlinecolor": "#2a3f5f"
            },
            "type": "carpet"
           }
          ],
          "choropleth": [
           {
            "colorbar": {
             "outlinewidth": 0,
             "ticks": ""
            },
            "type": "choropleth"
           }
          ],
          "contour": [
           {
            "colorbar": {
             "outlinewidth": 0,
             "ticks": ""
            },
            "colorscale": [
             [
              0,
              "#0d0887"
             ],
             [
              0.1111111111111111,
              "#46039f"
             ],
             [
              0.2222222222222222,
              "#7201a8"
             ],
             [
              0.3333333333333333,
              "#9c179e"
             ],
             [
              0.4444444444444444,
              "#bd3786"
             ],
             [
              0.5555555555555556,
              "#d8576b"
             ],
             [
              0.6666666666666666,
              "#ed7953"
             ],
             [
              0.7777777777777778,
              "#fb9f3a"
             ],
             [
              0.8888888888888888,
              "#fdca26"
             ],
             [
              1,
              "#f0f921"
             ]
            ],
            "type": "contour"
           }
          ],
          "contourcarpet": [
           {
            "colorbar": {
             "outlinewidth": 0,
             "ticks": ""
            },
            "type": "contourcarpet"
           }
          ],
          "heatmap": [
           {
            "colorbar": {
             "outlinewidth": 0,
             "ticks": ""
            },
            "colorscale": [
             [
              0,
              "#0d0887"
             ],
             [
              0.1111111111111111,
              "#46039f"
             ],
             [
              0.2222222222222222,
              "#7201a8"
             ],
             [
              0.3333333333333333,
              "#9c179e"
             ],
             [
              0.4444444444444444,
              "#bd3786"
             ],
             [
              0.5555555555555556,
              "#d8576b"
             ],
             [
              0.6666666666666666,
              "#ed7953"
             ],
             [
              0.7777777777777778,
              "#fb9f3a"
             ],
             [
              0.8888888888888888,
              "#fdca26"
             ],
             [
              1,
              "#f0f921"
             ]
            ],
            "type": "heatmap"
           }
          ],
          "heatmapgl": [
           {
            "colorbar": {
             "outlinewidth": 0,
             "ticks": ""
            },
            "colorscale": [
             [
              0,
              "#0d0887"
             ],
             [
              0.1111111111111111,
              "#46039f"
             ],
             [
              0.2222222222222222,
              "#7201a8"
             ],
             [
              0.3333333333333333,
              "#9c179e"
             ],
             [
              0.4444444444444444,
              "#bd3786"
             ],
             [
              0.5555555555555556,
              "#d8576b"
             ],
             [
              0.6666666666666666,
              "#ed7953"
             ],
             [
              0.7777777777777778,
              "#fb9f3a"
             ],
             [
              0.8888888888888888,
              "#fdca26"
             ],
             [
              1,
              "#f0f921"
             ]
            ],
            "type": "heatmapgl"
           }
          ],
          "histogram": [
           {
            "marker": {
             "pattern": {
              "fillmode": "overlay",
              "size": 10,
              "solidity": 0.2
             }
            },
            "type": "histogram"
           }
          ],
          "histogram2d": [
           {
            "colorbar": {
             "outlinewidth": 0,
             "ticks": ""
            },
            "colorscale": [
             [
              0,
              "#0d0887"
             ],
             [
              0.1111111111111111,
              "#46039f"
             ],
             [
              0.2222222222222222,
              "#7201a8"
             ],
             [
              0.3333333333333333,
              "#9c179e"
             ],
             [
              0.4444444444444444,
              "#bd3786"
             ],
             [
              0.5555555555555556,
              "#d8576b"
             ],
             [
              0.6666666666666666,
              "#ed7953"
             ],
             [
              0.7777777777777778,
              "#fb9f3a"
             ],
             [
              0.8888888888888888,
              "#fdca26"
             ],
             [
              1,
              "#f0f921"
             ]
            ],
            "type": "histogram2d"
           }
          ],
          "histogram2dcontour": [
           {
            "colorbar": {
             "outlinewidth": 0,
             "ticks": ""
            },
            "colorscale": [
             [
              0,
              "#0d0887"
             ],
             [
              0.1111111111111111,
              "#46039f"
             ],
             [
              0.2222222222222222,
              "#7201a8"
             ],
             [
              0.3333333333333333,
              "#9c179e"
             ],
             [
              0.4444444444444444,
              "#bd3786"
             ],
             [
              0.5555555555555556,
              "#d8576b"
             ],
             [
              0.6666666666666666,
              "#ed7953"
             ],
             [
              0.7777777777777778,
              "#fb9f3a"
             ],
             [
              0.8888888888888888,
              "#fdca26"
             ],
             [
              1,
              "#f0f921"
             ]
            ],
            "type": "histogram2dcontour"
           }
          ],
          "mesh3d": [
           {
            "colorbar": {
             "outlinewidth": 0,
             "ticks": ""
            },
            "type": "mesh3d"
           }
          ],
          "parcoords": [
           {
            "line": {
             "colorbar": {
              "outlinewidth": 0,
              "ticks": ""
             }
            },
            "type": "parcoords"
           }
          ],
          "pie": [
           {
            "automargin": true,
            "type": "pie"
           }
          ],
          "scatter": [
           {
            "fillpattern": {
             "fillmode": "overlay",
             "size": 10,
             "solidity": 0.2
            },
            "type": "scatter"
           }
          ],
          "scatter3d": [
           {
            "line": {
             "colorbar": {
              "outlinewidth": 0,
              "ticks": ""
             }
            },
            "marker": {
             "colorbar": {
              "outlinewidth": 0,
              "ticks": ""
             }
            },
            "type": "scatter3d"
           }
          ],
          "scattercarpet": [
           {
            "marker": {
             "colorbar": {
              "outlinewidth": 0,
              "ticks": ""
             }
            },
            "type": "scattercarpet"
           }
          ],
          "scattergeo": [
           {
            "marker": {
             "colorbar": {
              "outlinewidth": 0,
              "ticks": ""
             }
            },
            "type": "scattergeo"
           }
          ],
          "scattergl": [
           {
            "marker": {
             "colorbar": {
              "outlinewidth": 0,
              "ticks": ""
             }
            },
            "type": "scattergl"
           }
          ],
          "scattermapbox": [
           {
            "marker": {
             "colorbar": {
              "outlinewidth": 0,
              "ticks": ""
             }
            },
            "type": "scattermapbox"
           }
          ],
          "scatterpolar": [
           {
            "marker": {
             "colorbar": {
              "outlinewidth": 0,
              "ticks": ""
             }
            },
            "type": "scatterpolar"
           }
          ],
          "scatterpolargl": [
           {
            "marker": {
             "colorbar": {
              "outlinewidth": 0,
              "ticks": ""
             }
            },
            "type": "scatterpolargl"
           }
          ],
          "scatterternary": [
           {
            "marker": {
             "colorbar": {
              "outlinewidth": 0,
              "ticks": ""
             }
            },
            "type": "scatterternary"
           }
          ],
          "surface": [
           {
            "colorbar": {
             "outlinewidth": 0,
             "ticks": ""
            },
            "colorscale": [
             [
              0,
              "#0d0887"
             ],
             [
              0.1111111111111111,
              "#46039f"
             ],
             [
              0.2222222222222222,
              "#7201a8"
             ],
             [
              0.3333333333333333,
              "#9c179e"
             ],
             [
              0.4444444444444444,
              "#bd3786"
             ],
             [
              0.5555555555555556,
              "#d8576b"
             ],
             [
              0.6666666666666666,
              "#ed7953"
             ],
             [
              0.7777777777777778,
              "#fb9f3a"
             ],
             [
              0.8888888888888888,
              "#fdca26"
             ],
             [
              1,
              "#f0f921"
             ]
            ],
            "type": "surface"
           }
          ],
          "table": [
           {
            "cells": {
             "fill": {
              "color": "#EBF0F8"
             },
             "line": {
              "color": "white"
             }
            },
            "header": {
             "fill": {
              "color": "#C8D4E3"
             },
             "line": {
              "color": "white"
             }
            },
            "type": "table"
           }
          ]
         },
         "layout": {
          "annotationdefaults": {
           "arrowcolor": "#2a3f5f",
           "arrowhead": 0,
           "arrowwidth": 1
          },
          "autotypenumbers": "strict",
          "coloraxis": {
           "colorbar": {
            "outlinewidth": 0,
            "ticks": ""
           }
          },
          "colorscale": {
           "diverging": [
            [
             0,
             "#8e0152"
            ],
            [
             0.1,
             "#c51b7d"
            ],
            [
             0.2,
             "#de77ae"
            ],
            [
             0.3,
             "#f1b6da"
            ],
            [
             0.4,
             "#fde0ef"
            ],
            [
             0.5,
             "#f7f7f7"
            ],
            [
             0.6,
             "#e6f5d0"
            ],
            [
             0.7,
             "#b8e186"
            ],
            [
             0.8,
             "#7fbc41"
            ],
            [
             0.9,
             "#4d9221"
            ],
            [
             1,
             "#276419"
            ]
           ],
           "sequential": [
            [
             0,
             "#0d0887"
            ],
            [
             0.1111111111111111,
             "#46039f"
            ],
            [
             0.2222222222222222,
             "#7201a8"
            ],
            [
             0.3333333333333333,
             "#9c179e"
            ],
            [
             0.4444444444444444,
             "#bd3786"
            ],
            [
             0.5555555555555556,
             "#d8576b"
            ],
            [
             0.6666666666666666,
             "#ed7953"
            ],
            [
             0.7777777777777778,
             "#fb9f3a"
            ],
            [
             0.8888888888888888,
             "#fdca26"
            ],
            [
             1,
             "#f0f921"
            ]
           ],
           "sequentialminus": [
            [
             0,
             "#0d0887"
            ],
            [
             0.1111111111111111,
             "#46039f"
            ],
            [
             0.2222222222222222,
             "#7201a8"
            ],
            [
             0.3333333333333333,
             "#9c179e"
            ],
            [
             0.4444444444444444,
             "#bd3786"
            ],
            [
             0.5555555555555556,
             "#d8576b"
            ],
            [
             0.6666666666666666,
             "#ed7953"
            ],
            [
             0.7777777777777778,
             "#fb9f3a"
            ],
            [
             0.8888888888888888,
             "#fdca26"
            ],
            [
             1,
             "#f0f921"
            ]
           ]
          },
          "colorway": [
           "#636efa",
           "#EF553B",
           "#00cc96",
           "#ab63fa",
           "#FFA15A",
           "#19d3f3",
           "#FF6692",
           "#B6E880",
           "#FF97FF",
           "#FECB52"
          ],
          "font": {
           "color": "#2a3f5f"
          },
          "geo": {
           "bgcolor": "white",
           "lakecolor": "white",
           "landcolor": "#E5ECF6",
           "showlakes": true,
           "showland": true,
           "subunitcolor": "white"
          },
          "hoverlabel": {
           "align": "left"
          },
          "hovermode": "closest",
          "mapbox": {
           "style": "light"
          },
          "paper_bgcolor": "white",
          "plot_bgcolor": "#E5ECF6",
          "polar": {
           "angularaxis": {
            "gridcolor": "white",
            "linecolor": "white",
            "ticks": ""
           },
           "bgcolor": "#E5ECF6",
           "radialaxis": {
            "gridcolor": "white",
            "linecolor": "white",
            "ticks": ""
           }
          },
          "scene": {
           "xaxis": {
            "backgroundcolor": "#E5ECF6",
            "gridcolor": "white",
            "gridwidth": 2,
            "linecolor": "white",
            "showbackground": true,
            "ticks": "",
            "zerolinecolor": "white"
           },
           "yaxis": {
            "backgroundcolor": "#E5ECF6",
            "gridcolor": "white",
            "gridwidth": 2,
            "linecolor": "white",
            "showbackground": true,
            "ticks": "",
            "zerolinecolor": "white"
           },
           "zaxis": {
            "backgroundcolor": "#E5ECF6",
            "gridcolor": "white",
            "gridwidth": 2,
            "linecolor": "white",
            "showbackground": true,
            "ticks": "",
            "zerolinecolor": "white"
           }
          },
          "shapedefaults": {
           "line": {
            "color": "#2a3f5f"
           }
          },
          "ternary": {
           "aaxis": {
            "gridcolor": "white",
            "linecolor": "white",
            "ticks": ""
           },
           "baxis": {
            "gridcolor": "white",
            "linecolor": "white",
            "ticks": ""
           },
           "bgcolor": "#E5ECF6",
           "caxis": {
            "gridcolor": "white",
            "linecolor": "white",
            "ticks": ""
           }
          },
          "title": {
           "x": 0.05
          },
          "xaxis": {
           "automargin": true,
           "gridcolor": "white",
           "linecolor": "white",
           "ticks": "",
           "title": {
            "standoff": 15
           },
           "zerolinecolor": "white",
           "zerolinewidth": 2
          },
          "yaxis": {
           "automargin": true,
           "gridcolor": "white",
           "linecolor": "white",
           "ticks": "",
           "title": {
            "standoff": 15
           },
           "zerolinecolor": "white",
           "zerolinewidth": 2
          }
         }
        }
       }
      }
     },
     "metadata": {},
     "output_type": "display_data"
    }
   ],
   "source": [
    "data = pd.DataFrame(df_msk['Количество комнат'].value_counts())\n",
    "px.pie(data, values='Количество комнат', names=data.index)"
   ]
  },
  {
   "cell_type": "code",
   "execution_count": 298,
   "id": "ffc66772-4a76-4b3c-9d37-4ce625a0d3f5",
   "metadata": {
    "tags": []
   },
   "outputs": [
    {
     "data": {
      "image/png": "[encoded data removed]",
      "text/plain": [
       "<Figure size 640x480 with 1 Axes>"
      ]
     },
     "metadata": {},
     "output_type": "display_data"
    }
   ],
   "source": [
    "sns.lineplot(data=df_msk, x='Количество комнат', y='Цена за месяц числом');"
   ]
  },
  {
   "cell_type": "markdown",
   "id": "6c34b8c9-45b7-4b90-b499-06529e94a26a",
   "metadata": {},
   "source": [
    "Как видно из графиков значительную долю занимают 2-х комнатные квартиры, кроме того, стоимость квартиры напримую зависит от количества комнат."
   ]
  },
  {
   "cell_type": "markdown",
   "id": "43041ef0-12f8-44cb-8af1-48b651519993",
   "metadata": {
    "tags": []
   },
   "source": [
    "### Колонка \"Окна\"¶"
   ]
  },
  {
   "cell_type": "markdown",
   "id": "e753a75b-f14c-4ddf-bb1b-e853519bf773",
   "metadata": {},
   "source": [
    "NaN значения заполним Модой, поскольку это категориальный признак"
   ]
  },
  {
   "cell_type": "code",
   "execution_count": 299,
   "id": "de3277da-a6ab-4e13-a15a-5e5b7c165034",
   "metadata": {
    "tags": []
   },
   "outputs": [
    {
     "data": {
      "text/plain": [
       "Во двор            9707\n",
       "NaN                5149\n",
       "На улицу и двор    2762\n",
       "На улицу           2117\n",
       "Name: Окна, dtype: int64"
      ]
     },
     "execution_count": 299,
     "metadata": {},
     "output_type": "execute_result"
    }
   ],
   "source": [
    "df_msk['Окна'].value_counts(dropna=False)"
   ]
  },
  {
   "cell_type": "code",
   "execution_count": 300,
   "id": "27f95b0c-313c-4477-ab04-fbd48ea6ac07",
   "metadata": {
    "tags": []
   },
   "outputs": [],
   "source": [
    "df_msk['Окна'].fillna(method='bfill', inplace=True)"
   ]
  },
  {
   "cell_type": "code",
   "execution_count": 301,
   "id": "de6ebde3-d23c-4fbe-8667-6e061f817d62",
   "metadata": {
    "tags": []
   },
   "outputs": [
    {
     "data": {
      "text/plain": [
       "Во двор            13130\n",
       "На улицу и двор     3639\n",
       "На улицу            2966\n",
       "Name: Окна, dtype: int64"
      ]
     },
     "execution_count": 301,
     "metadata": {},
     "output_type": "execute_result"
    }
   ],
   "source": [
    "df_msk['Окна'].value_counts(dropna=False)"
   ]
  },
  {
   "cell_type": "markdown",
   "id": "7048ead5-eb62-4765-af36-d3b4fc4c763c",
   "metadata": {},
   "source": [
    "## Строим графики"
   ]
  },
  {
   "cell_type": "code",
   "execution_count": 302,
   "id": "90b5f971-729f-4fde-9faf-c45e54bb8afe",
   "metadata": {
    "tags": []
   },
   "outputs": [
    {
     "data": {
      "application/vnd.plotly.v1+json": {
       "config": {
        "plotlyServerURL": "https://plot.ly"
       },
       "data": [
        {
         "domain": {
          "x": [
           0,
           1
          ],
          "y": [
           0,
           1
          ]
         },
         "hovertemplate": "index=%{label}<br>Окна=%{value}<extra></extra>",
         "labels": [
          "Во двор",
          "На улицу и двор",
          "На улицу"
         ],
         "legendgroup": "",
         "name": "",
         "showlegend": true,
         "type": "pie",
         "values": [
          13130,
          3639,
          2966
         ]
        }
       ],
       "layout": {
        "legend": {
         "tracegroupgap": 0
        },
        "margin": {
         "t": 60
        },
        "template": {
         "data": {
          "bar": [
           {
            "error_x": {
             "color": "#2a3f5f"
            },
            "error_y": {
             "color": "#2a3f5f"
            },
            "marker": {
             "line": {
              "color": "#E5ECF6",
              "width": 0.5
             },
             "pattern": {
              "fillmode": "overlay",
              "size": 10,
              "solidity": 0.2
             }
            },
            "type": "bar"
           }
          ],
          "barpolar": [
           {
            "marker": {
             "line": {
              "color": "#E5ECF6",
              "width": 0.5
             },
             "pattern": {
              "fillmode": "overlay",
              "size": 10,
              "solidity": 0.2
             }
            },
            "type": "barpolar"
           }
          ],
          "carpet": [
           {
            "aaxis": {
             "endlinecolor": "#2a3f5f",
             "gridcolor": "white",
             "linecolor": "white",
             "minorgridcolor": "white",
             "startlinecolor": "#2a3f5f"
            },
            "baxis": {
             "endlinecolor": "#2a3f5f",
             "gridcolor": "white",
             "linecolor": "white",
             "minorgridcolor": "white",
             "startlinecolor": "#2a3f5f"
            },
            "type": "carpet"
           }
          ],
          "choropleth": [
           {
            "colorbar": {
             "outlinewidth": 0,
             "ticks": ""
            },
            "type": "choropleth"
           }
          ],
          "contour": [
           {
            "colorbar": {
             "outlinewidth": 0,
             "ticks": ""
            },
            "colorscale": [
             [
              0,
              "#0d0887"
             ],
             [
              0.1111111111111111,
              "#46039f"
             ],
             [
              0.2222222222222222,
              "#7201a8"
             ],
             [
              0.3333333333333333,
              "#9c179e"
             ],
             [
              0.4444444444444444,
              "#bd3786"
             ],
             [
              0.5555555555555556,
              "#d8576b"
             ],
             [
              0.6666666666666666,
              "#ed7953"
             ],
             [
              0.7777777777777778,
              "#fb9f3a"
             ],
             [
              0.8888888888888888,
              "#fdca26"
             ],
             [
              1,
              "#f0f921"
             ]
            ],
            "type": "contour"
           }
          ],
          "contourcarpet": [
           {
            "colorbar": {
             "outlinewidth": 0,
             "ticks": ""
            },
            "type": "contourcarpet"
           }
          ],
          "heatmap": [
           {
            "colorbar": {
             "outlinewidth": 0,
             "ticks": ""
            },
            "colorscale": [
             [
              0,
              "#0d0887"
             ],
             [
              0.1111111111111111,
              "#46039f"
             ],
             [
              0.2222222222222222,
              "#7201a8"
             ],
             [
              0.3333333333333333,
              "#9c179e"
             ],
             [
              0.4444444444444444,
              "#bd3786"
             ],
             [
              0.5555555555555556,
              "#d8576b"
             ],
             [
              0.6666666666666666,
              "#ed7953"
             ],
             [
              0.7777777777777778,
              "#fb9f3a"
             ],
             [
              0.8888888888888888,
              "#fdca26"
             ],
             [
              1,
              "#f0f921"
             ]
            ],
            "type": "heatmap"
           }
          ],
          "heatmapgl": [
           {
            "colorbar": {
             "outlinewidth": 0,
             "ticks": ""
            },
            "colorscale": [
             [
              0,
              "#0d0887"
             ],
             [
              0.1111111111111111,
              "#46039f"
             ],
             [
              0.2222222222222222,
              "#7201a8"
             ],
             [
              0.3333333333333333,
              "#9c179e"
             ],
             [
              0.4444444444444444,
              "#bd3786"
             ],
             [
              0.5555555555555556,
              "#d8576b"
             ],
             [
              0.6666666666666666,
              "#ed7953"
             ],
             [
              0.7777777777777778,
              "#fb9f3a"
             ],
             [
              0.8888888888888888,
              "#fdca26"
             ],
             [
              1,
              "#f0f921"
             ]
            ],
            "type": "heatmapgl"
           }
          ],
          "histogram": [
           {
            "marker": {
             "pattern": {
              "fillmode": "overlay",
              "size": 10,
              "solidity": 0.2
             }
            },
            "type": "histogram"
           }
          ],
          "histogram2d": [
           {
            "colorbar": {
             "outlinewidth": 0,
             "ticks": ""
            },
            "colorscale": [
             [
              0,
              "#0d0887"
             ],
             [
              0.1111111111111111,
              "#46039f"
             ],
             [
              0.2222222222222222,
              "#7201a8"
             ],
             [
              0.3333333333333333,
              "#9c179e"
             ],
             [
              0.4444444444444444,
              "#bd3786"
             ],
             [
              0.5555555555555556,
              "#d8576b"
             ],
             [
              0.6666666666666666,
              "#ed7953"
             ],
             [
              0.7777777777777778,
              "#fb9f3a"
             ],
             [
              0.8888888888888888,
              "#fdca26"
             ],
             [
              1,
              "#f0f921"
             ]
            ],
            "type": "histogram2d"
           }
          ],
          "histogram2dcontour": [
           {
            "colorbar": {
             "outlinewidth": 0,
             "ticks": ""
            },
            "colorscale": [
             [
              0,
              "#0d0887"
             ],
             [
              0.1111111111111111,
              "#46039f"
             ],
             [
              0.2222222222222222,
              "#7201a8"
             ],
             [
              0.3333333333333333,
              "#9c179e"
             ],
             [
              0.4444444444444444,
              "#bd3786"
             ],
             [
              0.5555555555555556,
              "#d8576b"
             ],
             [
              0.6666666666666666,
              "#ed7953"
             ],
             [
              0.7777777777777778,
              "#fb9f3a"
             ],
             [
              0.8888888888888888,
              "#fdca26"
             ],
             [
              1,
              "#f0f921"
             ]
            ],
            "type": "histogram2dcontour"
           }
          ],
          "mesh3d": [
           {
            "colorbar": {
             "outlinewidth": 0,
             "ticks": ""
            },
            "type": "mesh3d"
           }
          ],
          "parcoords": [
           {
            "line": {
             "colorbar": {
              "outlinewidth": 0,
              "ticks": ""
             }
            },
            "type": "parcoords"
           }
          ],
          "pie": [
           {
            "automargin": true,
            "type": "pie"
           }
          ],
          "scatter": [
           {
            "fillpattern": {
             "fillmode": "overlay",
             "size": 10,
             "solidity": 0.2
            },
            "type": "scatter"
           }
          ],
          "scatter3d": [
           {
            "line": {
             "colorbar": {
              "outlinewidth": 0,
              "ticks": ""
             }
            },
            "marker": {
             "colorbar": {
              "outlinewidth": 0,
              "ticks": ""
             }
            },
            "type": "scatter3d"
           }
          ],
          "scattercarpet": [
           {
            "marker": {
             "colorbar": {
              "outlinewidth": 0,
              "ticks": ""
             }
            },
            "type": "scattercarpet"
           }
          ],
          "scattergeo": [
           {
            "marker": {
             "colorbar": {
              "outlinewidth": 0,
              "ticks": ""
             }
            },
            "type": "scattergeo"
           }
          ],
          "scattergl": [
           {
            "marker": {
             "colorbar": {
              "outlinewidth": 0,
              "ticks": ""
             }
            },
            "type": "scattergl"
           }
          ],
          "scattermapbox": [
           {
            "marker": {
             "colorbar": {
              "outlinewidth": 0,
              "ticks": ""
             }
            },
            "type": "scattermapbox"
           }
          ],
          "scatterpolar": [
           {
            "marker": {
             "colorbar": {
              "outlinewidth": 0,
              "ticks": ""
             }
            },
            "type": "scatterpolar"
           }
          ],
          "scatterpolargl": [
           {
            "marker": {
             "colorbar": {
              "outlinewidth": 0,
              "ticks": ""
             }
            },
            "type": "scatterpolargl"
           }
          ],
          "scatterternary": [
           {
            "marker": {
             "colorbar": {
              "outlinewidth": 0,
              "ticks": ""
             }
            },
            "type": "scatterternary"
           }
          ],
          "surface": [
           {
            "colorbar": {
             "outlinewidth": 0,
             "ticks": ""
            },
            "colorscale": [
             [
              0,
              "#0d0887"
             ],
             [
              0.1111111111111111,
              "#46039f"
             ],
             [
              0.2222222222222222,
              "#7201a8"
             ],
             [
              0.3333333333333333,
              "#9c179e"
             ],
             [
              0.4444444444444444,
              "#bd3786"
             ],
             [
              0.5555555555555556,
              "#d8576b"
             ],
             [
              0.6666666666666666,
              "#ed7953"
             ],
             [
              0.7777777777777778,
              "#fb9f3a"
             ],
             [
              0.8888888888888888,
              "#fdca26"
             ],
             [
              1,
              "#f0f921"
             ]
            ],
            "type": "surface"
           }
          ],
          "table": [
           {
            "cells": {
             "fill": {
              "color": "#EBF0F8"
             },
             "line": {
              "color": "white"
             }
            },
            "header": {
             "fill": {
              "color": "#C8D4E3"
             },
             "line": {
              "color": "white"
             }
            },
            "type": "table"
           }
          ]
         },
         "layout": {
          "annotationdefaults": {
           "arrowcolor": "#2a3f5f",
           "arrowhead": 0,
           "arrowwidth": 1
          },
          "autotypenumbers": "strict",
          "coloraxis": {
           "colorbar": {
            "outlinewidth": 0,
            "ticks": ""
           }
          },
          "colorscale": {
           "diverging": [
            [
             0,
             "#8e0152"
            ],
            [
             0.1,
             "#c51b7d"
            ],
            [
             0.2,
             "#de77ae"
            ],
            [
             0.3,
             "#f1b6da"
            ],
            [
             0.4,
             "#fde0ef"
            ],
            [
             0.5,
             "#f7f7f7"
            ],
            [
             0.6,
             "#e6f5d0"
            ],
            [
             0.7,
             "#b8e186"
            ],
            [
             0.8,
             "#7fbc41"
            ],
            [
             0.9,
             "#4d9221"
            ],
            [
             1,
             "#276419"
            ]
           ],
           "sequential": [
            [
             0,
             "#0d0887"
            ],
            [
             0.1111111111111111,
             "#46039f"
            ],
            [
             0.2222222222222222,
             "#7201a8"
            ],
            [
             0.3333333333333333,
             "#9c179e"
            ],
            [
             0.4444444444444444,
             "#bd3786"
            ],
            [
             0.5555555555555556,
             "#d8576b"
            ],
            [
             0.6666666666666666,
             "#ed7953"
            ],
            [
             0.7777777777777778,
             "#fb9f3a"
            ],
            [
             0.8888888888888888,
             "#fdca26"
            ],
            [
             1,
             "#f0f921"
            ]
           ],
           "sequentialminus": [
            [
             0,
             "#0d0887"
            ],
            [
             0.1111111111111111,
             "#46039f"
            ],
            [
             0.2222222222222222,
             "#7201a8"
            ],
            [
             0.3333333333333333,
             "#9c179e"
            ],
            [
             0.4444444444444444,
             "#bd3786"
            ],
            [
             0.5555555555555556,
             "#d8576b"
            ],
            [
             0.6666666666666666,
             "#ed7953"
            ],
            [
             0.7777777777777778,
             "#fb9f3a"
            ],
            [
             0.8888888888888888,
             "#fdca26"
            ],
            [
             1,
             "#f0f921"
            ]
           ]
          },
          "colorway": [
           "#636efa",
           "#EF553B",
           "#00cc96",
           "#ab63fa",
           "#FFA15A",
           "#19d3f3",
           "#FF6692",
           "#B6E880",
           "#FF97FF",
           "#FECB52"
          ],
          "font": {
           "color": "#2a3f5f"
          },
          "geo": {
           "bgcolor": "white",
           "lakecolor": "white",
           "landcolor": "#E5ECF6",
           "showlakes": true,
           "showland": true,
           "subunitcolor": "white"
          },
          "hoverlabel": {
           "align": "left"
          },
          "hovermode": "closest",
          "mapbox": {
           "style": "light"
          },
          "paper_bgcolor": "white",
          "plot_bgcolor": "#E5ECF6",
          "polar": {
           "angularaxis": {
            "gridcolor": "white",
            "linecolor": "white",
            "ticks": ""
           },
           "bgcolor": "#E5ECF6",
           "radialaxis": {
            "gridcolor": "white",
            "linecolor": "white",
            "ticks": ""
           }
          },
          "scene": {
           "xaxis": {
            "backgroundcolor": "#E5ECF6",
            "gridcolor": "white",
            "gridwidth": 2,
            "linecolor": "white",
            "showbackground": true,
            "ticks": "",
            "zerolinecolor": "white"
           },
           "yaxis": {
            "backgroundcolor": "#E5ECF6",
            "gridcolor": "white",
            "gridwidth": 2,
            "linecolor": "white",
            "showbackground": true,
            "ticks": "",
            "zerolinecolor": "white"
           },
           "zaxis": {
            "backgroundcolor": "#E5ECF6",
            "gridcolor": "white",
            "gridwidth": 2,
            "linecolor": "white",
            "showbackground": true,
            "ticks": "",
            "zerolinecolor": "white"
           }
          },
          "shapedefaults": {
           "line": {
            "color": "#2a3f5f"
           }
          },
          "ternary": {
           "aaxis": {
            "gridcolor": "white",
            "linecolor": "white",
            "ticks": ""
           },
           "baxis": {
            "gridcolor": "white",
            "linecolor": "white",
            "ticks": ""
           },
           "bgcolor": "#E5ECF6",
           "caxis": {
            "gridcolor": "white",
            "linecolor": "white",
            "ticks": ""
           }
          },
          "title": {
           "x": 0.05
          },
          "xaxis": {
           "automargin": true,
           "gridcolor": "white",
           "linecolor": "white",
           "ticks": "",
           "title": {
            "standoff": 15
           },
           "zerolinecolor": "white",
           "zerolinewidth": 2
          },
          "yaxis": {
           "automargin": true,
           "gridcolor": "white",
           "linecolor": "white",
           "ticks": "",
           "title": {
            "standoff": 15
           },
           "zerolinecolor": "white",
           "zerolinewidth": 2
          }
         }
        }
       }
      }
     },
     "metadata": {},
     "output_type": "display_data"
    }
   ],
   "source": [
    "data = pd.DataFrame(df_msk['Окна'].value_counts())\n",
    "px.pie(data, values='Окна', names=data.index)"
   ]
  },
  {
   "cell_type": "code",
   "execution_count": 303,
   "id": "c73a833a-3473-4d6c-b4d6-5406dd6065df",
   "metadata": {
    "tags": []
   },
   "outputs": [
    {
     "data": {
      "image/png": "[encoded data removed]",
      "text/plain": [
       "<Figure size 500x500 with 1 Axes>"
      ]
     },
     "metadata": {},
     "output_type": "display_data"
    }
   ],
   "source": [
    "sns.catplot(data=df_msk, x='Окна', y='Цена за месяц числом');"
   ]
  },
  {
   "cell_type": "code",
   "execution_count": 304,
   "id": "4eddaebb-768e-40bc-990a-922d0705429f",
   "metadata": {
    "tags": []
   },
   "outputs": [
    {
     "data": {
      "image/png": "[encoded data removed]",
      "text/plain": [
       "<Figure size 640x480 with 1 Axes>"
      ]
     },
     "metadata": {},
     "output_type": "display_data"
    }
   ],
   "source": [
    "x = df_msk.groupby('Окна')['Цена за месяц числом'].mean().index.to_list()\n",
    "y = df_msk.groupby('Окна')['Цена за месяц числом'].mean().values\n",
    "\n",
    "fig, ax = plt.subplots()\n",
    "\n",
    "ax.bar(x, y)\n",
    "ax.set_title(\"Средняя цена/Окна\")\n",
    "ax.set_ylabel('Средняя цена');"
   ]
  },
  {
   "cell_type": "markdown",
   "id": "79ed51d2-21e0-4bd3-8c1d-645589b231c5",
   "metadata": {},
   "source": [
    "Как можно видеть большинство окон выходит во двор, но средняя цена выше при наличие в квартирах, как окон на улицу, так и во двор."
   ]
  },
  {
   "cell_type": "markdown",
   "id": "1d7769e8-8227-457c-8aac-c840c1213672",
   "metadata": {},
   "source": [
    "## Колонка \"Можно с детьми/животными\"¶"
   ]
  },
  {
   "cell_type": "markdown",
   "id": "6ea74583-c5ae-43ca-ba3c-785c2c89dccf",
   "metadata": {},
   "source": [
    "Разбили на две колонки \"Можно с детьми\" и \"Можно с животными\", со значениями 0 или 1"
   ]
  },
  {
   "cell_type": "code",
   "execution_count": 305,
   "id": "66ec43f3-c907-44b5-9622-5576769b6940",
   "metadata": {
    "tags": []
   },
   "outputs": [
    {
     "data": {
      "text/plain": [
       "Можно с детьми                       8540\n",
       "Можно с детьми, Можно с животными    6075\n",
       "NaN                                  4913\n",
       "Можно с животными                     207\n",
       "Name: Можно с детьми/животными, dtype: int64"
      ]
     },
     "execution_count": 305,
     "metadata": {},
     "output_type": "execute_result"
    }
   ],
   "source": [
    "df_msk['Можно с детьми/животными'].value_counts(dropna=False)"
   ]
  },
  {
   "cell_type": "code",
   "execution_count": 306,
   "id": "eac5f450-3d85-45c6-9fcd-a2be6f2e1580",
   "metadata": {
    "tags": []
   },
   "outputs": [],
   "source": [
    "df_msk['Можно с детьми/животными'].fillna('Нет', inplace=True)"
   ]
  },
  {
   "cell_type": "code",
   "execution_count": 307,
   "id": "0fe7b6d9-f4ec-45cc-9d6e-af8c9d5f7c0a",
   "metadata": {
    "tags": []
   },
   "outputs": [],
   "source": [
    "df_msk['Можно с детьми'] = 0\n",
    "df_msk['Можно с животными'] = 0"
   ]
  },
  {
   "cell_type": "code",
   "execution_count": 308,
   "id": "1062ab59-b559-406e-bcfd-f70916057bd4",
   "metadata": {
    "tags": []
   },
   "outputs": [],
   "source": [
    "for item in df_msk['Можно с детьми/животными'].index:\n",
    "    if 'Можно с детьми' in df_msk.loc[item, 'Можно с детьми/животными']:\n",
    "        df_msk.loc[item, 'Можно с детьми'] = 1\n",
    "    if 'Можно с животными' in df_msk.loc[item, 'Можно с детьми/животными']:\n",
    "        df_msk.loc[item, 'Можно с животными'] = 1"
   ]
  },
  {
   "cell_type": "code",
   "execution_count": 309,
   "id": "657a81e4-c44b-4d38-adda-5d524627be84",
   "metadata": {
    "tags": []
   },
   "outputs": [
    {
     "data": {
      "text/plain": [
       "Можно с детьми       0\n",
       "Можно с животными    0\n",
       "dtype: int64"
      ]
     },
     "execution_count": 309,
     "metadata": {},
     "output_type": "execute_result"
    }
   ],
   "source": [
    "df_msk.loc[:, ['Можно с детьми', 'Можно с животными']].isnull().sum()"
   ]
  },
  {
   "cell_type": "code",
   "execution_count": 310,
   "id": "b95df534-3410-43d7-bafd-1f6c5d265b98",
   "metadata": {
    "tags": []
   },
   "outputs": [
    {
     "data": {
      "text/html": [
       "<div>\n",
       "<style scoped>\n",
       "    .dataframe tbody tr th:only-of-type {\n",
       "        vertical-align: middle;\n",
       "    }\n",
       "\n",
       "    .dataframe tbody tr th {\n",
       "        vertical-align: top;\n",
       "    }\n",
       "\n",
       "    .dataframe thead th {\n",
       "        text-align: right;\n",
       "    }\n",
       "</style>\n",
       "<table border=\"1\" class=\"dataframe\">\n",
       "  <thead>\n",
       "    <tr style=\"text-align: right;\">\n",
       "      <th></th>\n",
       "      <th>ID  объявления</th>\n",
       "      <th>Количество комнат</th>\n",
       "      <th>Метро</th>\n",
       "      <th>Адрес</th>\n",
       "      <th>Площадь, м2</th>\n",
       "      <th>Дом</th>\n",
       "      <th>Парковка</th>\n",
       "      <th>Цена</th>\n",
       "      <th>Ремонт</th>\n",
       "      <th>Балкон</th>\n",
       "      <th>...</th>\n",
       "      <th>Высота потолков, м</th>\n",
       "      <th>Лифт</th>\n",
       "      <th>Мусоропровод</th>\n",
       "      <th>Цена за месяц числом</th>\n",
       "      <th>Цена залог</th>\n",
       "      <th>Комунальные услуги</th>\n",
       "      <th>Кол-во лоджий</th>\n",
       "      <th>Кол-во балконов</th>\n",
       "      <th>Можно с детьми</th>\n",
       "      <th>Можно с животными</th>\n",
       "    </tr>\n",
       "  </thead>\n",
       "  <tbody>\n",
       "    <tr>\n",
       "      <th>0</th>\n",
       "      <td>271271157</td>\n",
       "      <td>4</td>\n",
       "      <td>м. Смоленская (9 мин пешком)</td>\n",
       "      <td>Москва</td>\n",
       "      <td>200.0/20.0</td>\n",
       "      <td>5/16, Монолитный</td>\n",
       "      <td>подземная</td>\n",
       "      <td>500000.0 руб./ За месяц, Залог - 500000 руб., ...</td>\n",
       "      <td>Дизайнерский</td>\n",
       "      <td>Балкон (0), Лоджия (0)</td>\n",
       "      <td>...</td>\n",
       "      <td>3.0</td>\n",
       "      <td>Пасс (4), Груз (1)</td>\n",
       "      <td>Да</td>\n",
       "      <td>500000.0</td>\n",
       "      <td>500000.0</td>\n",
       "      <td>Да</td>\n",
       "      <td>0</td>\n",
       "      <td>0</td>\n",
       "      <td>1</td>\n",
       "      <td>1</td>\n",
       "    </tr>\n",
       "    <tr>\n",
       "      <th>1</th>\n",
       "      <td>271634126</td>\n",
       "      <td>4</td>\n",
       "      <td>м. Смоленская (8 мин пешком)</td>\n",
       "      <td>Москва</td>\n",
       "      <td>198.0/95.0/18.0</td>\n",
       "      <td>5/16, Монолитно-кирпичный</td>\n",
       "      <td>подземная</td>\n",
       "      <td>500000.0 руб./ За месяц, Залог - 500000 руб., ...</td>\n",
       "      <td>Дизайнерский</td>\n",
       "      <td>Балкон (0), Лоджия (0)</td>\n",
       "      <td>...</td>\n",
       "      <td>3.5</td>\n",
       "      <td>Пасс (1), Груз (1)</td>\n",
       "      <td>Нет</td>\n",
       "      <td>500000.0</td>\n",
       "      <td>500000.0</td>\n",
       "      <td>Да</td>\n",
       "      <td>0</td>\n",
       "      <td>0</td>\n",
       "      <td>1</td>\n",
       "      <td>0</td>\n",
       "    </tr>\n",
       "    <tr>\n",
       "      <th>2</th>\n",
       "      <td>271173086</td>\n",
       "      <td>4</td>\n",
       "      <td>м. Смоленская (7 мин пешком)</td>\n",
       "      <td>Москва</td>\n",
       "      <td>200.0/116.0/4.0</td>\n",
       "      <td>5/16</td>\n",
       "      <td>подземная</td>\n",
       "      <td>500000.0 руб./ За месяц, Залог - 500000 руб., ...</td>\n",
       "      <td>Евроремонт</td>\n",
       "      <td>Балкон (0), Лоджия (0)</td>\n",
       "      <td>...</td>\n",
       "      <td>3.2</td>\n",
       "      <td>Пасс (1)</td>\n",
       "      <td>NaN</td>\n",
       "      <td>500000.0</td>\n",
       "      <td>500000.0</td>\n",
       "      <td>Нет</td>\n",
       "      <td>0</td>\n",
       "      <td>0</td>\n",
       "      <td>1</td>\n",
       "      <td>0</td>\n",
       "    </tr>\n",
       "    <tr>\n",
       "      <th>3</th>\n",
       "      <td>272197456</td>\n",
       "      <td>4</td>\n",
       "      <td>м. Смоленская (3 мин пешком)</td>\n",
       "      <td>Москва</td>\n",
       "      <td>170.0/95.0/17.0</td>\n",
       "      <td>5/6</td>\n",
       "      <td>подземная</td>\n",
       "      <td>400000.0 руб./ За месяц, Залог - 400000 руб., ...</td>\n",
       "      <td>Евроремонт</td>\n",
       "      <td>Балкон (0), Лоджия (0)</td>\n",
       "      <td>...</td>\n",
       "      <td>3.2</td>\n",
       "      <td>Пасс (1)</td>\n",
       "      <td>NaN</td>\n",
       "      <td>400000.0</td>\n",
       "      <td>400000.0</td>\n",
       "      <td>Нет</td>\n",
       "      <td>0</td>\n",
       "      <td>0</td>\n",
       "      <td>0</td>\n",
       "      <td>1</td>\n",
       "    </tr>\n",
       "    <tr>\n",
       "      <th>4</th>\n",
       "      <td>273614615</td>\n",
       "      <td>2</td>\n",
       "      <td>м. Арбатская (7 мин пешком)</td>\n",
       "      <td>Москва</td>\n",
       "      <td>58.0/38.0/5.0</td>\n",
       "      <td>12/26, Панельный</td>\n",
       "      <td>отсутствует</td>\n",
       "      <td>225000.0 руб./ За месяц, Залог - 225000 руб., ...</td>\n",
       "      <td>Евроремонт</td>\n",
       "      <td>Балкон (0), Лоджия (0)</td>\n",
       "      <td>...</td>\n",
       "      <td>3.9</td>\n",
       "      <td>Пасс (1), Груз (1)</td>\n",
       "      <td>Да</td>\n",
       "      <td>225000.0</td>\n",
       "      <td>225000.0</td>\n",
       "      <td>Да</td>\n",
       "      <td>0</td>\n",
       "      <td>0</td>\n",
       "      <td>0</td>\n",
       "      <td>0</td>\n",
       "    </tr>\n",
       "  </tbody>\n",
       "</table>\n",
       "<p>5 rows × 24 columns</p>\n",
       "</div>"
      ],
      "text/plain": [
       "   ID  объявления  Количество комнат                         Метро   Адрес  \\\n",
       "0       271271157                  4  м. Смоленская (9 мин пешком)  Москва   \n",
       "1       271634126                  4  м. Смоленская (8 мин пешком)  Москва   \n",
       "2       271173086                  4  м. Смоленская (7 мин пешком)  Москва   \n",
       "3       272197456                  4  м. Смоленская (3 мин пешком)  Москва   \n",
       "4       273614615                  2   м. Арбатская (7 мин пешком)  Москва   \n",
       "\n",
       "       Площадь, м2                        Дом     Парковка  \\\n",
       "0       200.0/20.0           5/16, Монолитный    подземная   \n",
       "1  198.0/95.0/18.0  5/16, Монолитно-кирпичный    подземная   \n",
       "2  200.0/116.0/4.0                       5/16    подземная   \n",
       "3  170.0/95.0/17.0                        5/6    подземная   \n",
       "4    58.0/38.0/5.0           12/26, Панельный  отсутствует   \n",
       "\n",
       "                                                Цена        Ремонт  \\\n",
       "0  500000.0 руб./ За месяц, Залог - 500000 руб., ...  Дизайнерский   \n",
       "1  500000.0 руб./ За месяц, Залог - 500000 руб., ...  Дизайнерский   \n",
       "2  500000.0 руб./ За месяц, Залог - 500000 руб., ...    Евроремонт   \n",
       "3  400000.0 руб./ За месяц, Залог - 400000 руб., ...    Евроремонт   \n",
       "4  225000.0 руб./ За месяц, Залог - 225000 руб., ...    Евроремонт   \n",
       "\n",
       "                   Балкон  ... Высота потолков, м                Лифт  \\\n",
       "0  Балкон (0), Лоджия (0)  ...                3.0  Пасс (4), Груз (1)   \n",
       "1  Балкон (0), Лоджия (0)  ...                3.5  Пасс (1), Груз (1)   \n",
       "2  Балкон (0), Лоджия (0)  ...                3.2            Пасс (1)   \n",
       "3  Балкон (0), Лоджия (0)  ...                3.2            Пасс (1)   \n",
       "4  Балкон (0), Лоджия (0)  ...                3.9  Пасс (1), Груз (1)   \n",
       "\n",
       "  Мусоропровод Цена за месяц числом  Цена залог Комунальные услуги  \\\n",
       "0           Да             500000.0    500000.0                 Да   \n",
       "1          Нет             500000.0    500000.0                 Да   \n",
       "2          NaN             500000.0    500000.0                Нет   \n",
       "3          NaN             400000.0    400000.0                Нет   \n",
       "4           Да             225000.0    225000.0                 Да   \n",
       "\n",
       "  Кол-во лоджий  Кол-во балконов  Можно с детьми Можно с животными  \n",
       "0             0                0               1                 1  \n",
       "1             0                0               1                 0  \n",
       "2             0                0               1                 0  \n",
       "3             0                0               0                 1  \n",
       "4             0                0               0                 0  \n",
       "\n",
       "[5 rows x 24 columns]"
      ]
     },
     "execution_count": 310,
     "metadata": {},
     "output_type": "execute_result"
    }
   ],
   "source": [
    "df_msk.head()"
   ]
  },
  {
   "cell_type": "markdown",
   "id": "38d00feb-73fa-4e85-87b7-afb18bf53066",
   "metadata": {},
   "source": [
    "## Строим графики"
   ]
  },
  {
   "cell_type": "code",
   "execution_count": 311,
   "id": "468ab61a-35e4-44bf-9862-24f11d75984d",
   "metadata": {
    "tags": []
   },
   "outputs": [
    {
     "data": {
      "image/png": "[encoded data removed]",
      "text/plain": [
       "<Figure size 640x480 with 1 Axes>"
      ]
     },
     "metadata": {},
     "output_type": "display_data"
    }
   ],
   "source": [
    "sns.lineplot(data=df_msk, x='Можно с детьми', y='Цена за месяц числом');"
   ]
  },
  {
   "cell_type": "code",
   "execution_count": 312,
   "id": "49c142cb-cd09-4232-b623-5b8a9c85ee35",
   "metadata": {
    "tags": []
   },
   "outputs": [
    {
     "data": {
      "image/png": "[encoded data removed]",
      "text/plain": [
       "<Figure size 640x480 with 1 Axes>"
      ]
     },
     "metadata": {},
     "output_type": "display_data"
    }
   ],
   "source": [
    "x = df_msk.groupby('Можно с детьми')['Цена за месяц числом'].mean().index.to_list()\n",
    "y = df_msk.groupby('Можно с детьми')['Цена за месяц числом'].mean().values\n",
    "\n",
    "fig, ax = plt.subplots()\n",
    "\n",
    "ax.bar(x, y)\n",
    "ax.set_title(\"Средняя цена/Можно с детьми\")\n",
    "ax.set_ylabel('Средняя цена');"
   ]
  },
  {
   "cell_type": "code",
   "execution_count": 313,
   "id": "1c8b9103-0933-40ec-a0e9-07509793bd09",
   "metadata": {
    "tags": []
   },
   "outputs": [
    {
     "data": {
      "image/png": "[encoded data removed]",
      "text/plain": [
       "<Figure size 640x480 with 1 Axes>"
      ]
     },
     "metadata": {},
     "output_type": "display_data"
    }
   ],
   "source": [
    "sns.lineplot(data=df_msk, x='Можно с животными', y='Цена за месяц числом');"
   ]
  },
  {
   "cell_type": "code",
   "execution_count": 314,
   "id": "cb1cf880-8c7d-4e22-a47a-1a23f2636565",
   "metadata": {
    "tags": []
   },
   "outputs": [
    {
     "data": {
      "image/png": "[encoded data removed]",
      "text/plain": [
       "<Figure size 640x480 with 1 Axes>"
      ]
     },
     "metadata": {},
     "output_type": "display_data"
    }
   ],
   "source": [
    "x = df_msk.groupby('Можно с животными')['Цена за месяц числом'].mean().index.to_list()\n",
    "y = df_msk.groupby('Можно с животными')['Цена за месяц числом'].mean().values\n",
    "\n",
    "fig, ax = plt.subplots()\n",
    "\n",
    "ax.bar(x, y)\n",
    "ax.set_title(\"Средняя цена/Можно с животными\")\n",
    "ax.set_ylabel('Средняя цена');"
   ]
  },
  {
   "cell_type": "markdown",
   "id": "1db1daf1-42da-4f91-b11e-8ad288b1ae23",
   "metadata": {},
   "source": [
    "Из графиков видно, что квартиры в которых моожно проживать с животными и/или детьми выше, чем квартиры в которых это запрещено."
   ]
  },
  {
   "cell_type": "markdown",
   "id": "66da34e2",
   "metadata": {},
   "source": [
    "## Колонка \"Мусоропровод\""
   ]
  },
  {
   "cell_type": "markdown",
   "id": "1005dd0b-ed45-40b9-b5d8-e67b41a87ef3",
   "metadata": {},
   "source": [
    "Заменим NaN"
   ]
  },
  {
   "cell_type": "code",
   "execution_count": 315,
   "id": "817ff82f-c43e-4e1a-856f-22ba63b1cc16",
   "metadata": {
    "tags": []
   },
   "outputs": [
    {
     "data": {
      "text/plain": [
       "Да     10262\n",
       "NaN     8005\n",
       "Нет     1468\n",
       "Name: Мусоропровод, dtype: int64"
      ]
     },
     "execution_count": 315,
     "metadata": {},
     "output_type": "execute_result"
    }
   ],
   "source": [
    "df_msk['Мусоропровод'].value_counts(dropna=False)"
   ]
  },
  {
   "cell_type": "code",
   "execution_count": 316,
   "id": "cca516cf-c5ef-4f65-890d-be2aed92a005",
   "metadata": {
    "tags": []
   },
   "outputs": [],
   "source": [
    "df_msk['Мусоропровод'].fillna('Нет', inplace=True)"
   ]
  },
  {
   "cell_type": "code",
   "execution_count": 317,
   "id": "20b1fdcd-b048-40e4-b0da-524750cb7202",
   "metadata": {
    "tags": []
   },
   "outputs": [
    {
     "data": {
      "text/plain": [
       "Да     10262\n",
       "Нет     9473\n",
       "Name: Мусоропровод, dtype: int64"
      ]
     },
     "execution_count": 317,
     "metadata": {},
     "output_type": "execute_result"
    }
   ],
   "source": [
    "df_msk['Мусоропровод'].value_counts(dropna=False)"
   ]
  },
  {
   "cell_type": "markdown",
   "id": "8430619e-292f-4059-8acc-b735a6e4eb33",
   "metadata": {},
   "source": [
    "## Строим график"
   ]
  },
  {
   "cell_type": "code",
   "execution_count": 318,
   "id": "da0a1213-e25b-4621-96d5-9caeef4fa19b",
   "metadata": {
    "tags": []
   },
   "outputs": [
    {
     "data": {
      "image/png": "[encoded data removed]",
      "text/plain": [
       "<Figure size 640x480 with 1 Axes>"
      ]
     },
     "metadata": {},
     "output_type": "display_data"
    }
   ],
   "source": [
    "x = df_msk.groupby('Мусоропровод')['Цена за месяц числом'].mean().index.to_list()\n",
    "y = df_msk.groupby('Мусоропровод')['Цена за месяц числом'].mean().values\n",
    "\n",
    "fig, ax = plt.subplots()\n",
    "\n",
    "ax.bar(x, y)\n",
    "ax.set_title(\"Средняя цена/Наличие мусоропровода\")\n",
    "ax.set_ylabel('Средняя цена');"
   ]
  },
  {
   "cell_type": "code",
   "execution_count": 319,
   "id": "46e73c37",
   "metadata": {},
   "outputs": [
    {
     "data": {
      "image/png": "[encoded data removed]",
      "text/plain": [
       "<Figure size 700x400 with 1 Axes>"
      ]
     },
     "metadata": {},
     "output_type": "display_data"
    }
   ],
   "source": [
    "plt.figure(figsize=(7, 4))\n",
    "mean_price = df_msk.groupby('Цена залог')['Цена за месяц числом'].mean().reset_index()\n",
    "sns.barplot(data=mean_price, x='Цена залог', y='Цена за месяц числом')\n",
    "plt.xticks(fontsize=7)\n",
    "plt.title(\"Распределение цен\")\n",
    "plt.yticks()\n",
    "plt.show()"
   ]
  },
  {
   "cell_type": "markdown",
   "id": "f71f658c",
   "metadata": {},
   "source": [
    "* Из графика явна видна связь цены от залога"
   ]
  },
  {
   "cell_type": "markdown",
   "id": "7ba56505",
   "metadata": {},
   "source": [
    "### Колонка Площадь, м2"
   ]
  },
  {
   "cell_type": "code",
   "execution_count": 320,
   "id": "0959fd83",
   "metadata": {},
   "outputs": [],
   "source": [
    "# отсавляем только общую площадь\n",
    "df_msk['Площадь, м2'] = df_msk['Площадь, м2'].apply(lambda elem: elem.split('/')[0])\n",
    "df_msk['Площадь, м2'].value_counts(dropna=False)\n",
    "df_msk[\"Площадь, м2\"] = df_msk[\"Площадь, м2\"].astype(float)"
   ]
  },
  {
   "cell_type": "code",
   "execution_count": 321,
   "id": "578b9f9e",
   "metadata": {},
   "outputs": [
    {
     "data": {
      "image/png": "[encoded data removed]",
      "text/plain": [
       "<Figure size 700x400 with 1 Axes>"
      ]
     },
     "metadata": {},
     "output_type": "display_data"
    }
   ],
   "source": [
    "mean_price = df_msk.groupby('Площадь, м2')['Цена за месяц числом'].mean().reset_index()\n",
    "plt.figure(figsize=(7, 4))\n",
    "sns.barplot(data=mean_price, x='Площадь, м2', y='Цена за месяц числом')\n",
    "plt.xticks(fontsize=7)\n",
    "plt.title(\"Распределение цен\")\n",
    "plt.yticks()\n",
    "plt.show()"
   ]
  },
  {
   "cell_type": "markdown",
   "id": "2e26c20a",
   "metadata": {},
   "source": [
    "* Из графика явна видна связь цены от от площади"
   ]
  },
  {
   "cell_type": "markdown",
   "id": "80276300",
   "metadata": {},
   "source": [
    "##  Колонка Санузел"
   ]
  },
  {
   "cell_type": "code",
   "execution_count": 322,
   "id": "97ac3cf7",
   "metadata": {},
   "outputs": [
    {
     "data": {
      "text/html": [
       "<div>\n",
       "<style scoped>\n",
       "    .dataframe tbody tr th:only-of-type {\n",
       "        vertical-align: middle;\n",
       "    }\n",
       "\n",
       "    .dataframe tbody tr th {\n",
       "        vertical-align: top;\n",
       "    }\n",
       "\n",
       "    .dataframe thead th {\n",
       "        text-align: right;\n",
       "    }\n",
       "</style>\n",
       "<table border=\"1\" class=\"dataframe\">\n",
       "  <thead>\n",
       "    <tr style=\"text-align: right;\">\n",
       "      <th></th>\n",
       "      <th>Санузел</th>\n",
       "      <th>Тип санузла</th>\n",
       "      <th>Число санузлов</th>\n",
       "    </tr>\n",
       "  </thead>\n",
       "  <tbody>\n",
       "    <tr>\n",
       "      <th>0</th>\n",
       "      <td>(1)</td>\n",
       "      <td>Нет</td>\n",
       "      <td>1</td>\n",
       "    </tr>\n",
       "    <tr>\n",
       "      <th>1</th>\n",
       "      <td>Совмещенный (2), Раздельный (1)</td>\n",
       "      <td>Оба</td>\n",
       "      <td>3</td>\n",
       "    </tr>\n",
       "    <tr>\n",
       "      <th>2</th>\n",
       "      <td>Совмещенный (3)</td>\n",
       "      <td>Совмещенный</td>\n",
       "      <td>3</td>\n",
       "    </tr>\n",
       "    <tr>\n",
       "      <th>3</th>\n",
       "      <td>Совмещенный (3)</td>\n",
       "      <td>Совмещенный</td>\n",
       "      <td>3</td>\n",
       "    </tr>\n",
       "    <tr>\n",
       "      <th>4</th>\n",
       "      <td>Совмещенный (2)</td>\n",
       "      <td>Совмещенный</td>\n",
       "      <td>2</td>\n",
       "    </tr>\n",
       "    <tr>\n",
       "      <th>...</th>\n",
       "      <td>...</td>\n",
       "      <td>...</td>\n",
       "      <td>...</td>\n",
       "    </tr>\n",
       "    <tr>\n",
       "      <th>23363</th>\n",
       "      <td>Совмещенный (1)</td>\n",
       "      <td>Совмещенный</td>\n",
       "      <td>1</td>\n",
       "    </tr>\n",
       "    <tr>\n",
       "      <th>23364</th>\n",
       "      <td>Совмещенный (1)</td>\n",
       "      <td>Совмещенный</td>\n",
       "      <td>1</td>\n",
       "    </tr>\n",
       "    <tr>\n",
       "      <th>23365</th>\n",
       "      <td>Совмещенный (1)</td>\n",
       "      <td>Совмещенный</td>\n",
       "      <td>1</td>\n",
       "    </tr>\n",
       "    <tr>\n",
       "      <th>23366</th>\n",
       "      <td>Совмещенный (1), Раздельный (1)</td>\n",
       "      <td>Оба</td>\n",
       "      <td>2</td>\n",
       "    </tr>\n",
       "    <tr>\n",
       "      <th>23367</th>\n",
       "      <td>Раздельный (1)</td>\n",
       "      <td>Раздельный</td>\n",
       "      <td>1</td>\n",
       "    </tr>\n",
       "  </tbody>\n",
       "</table>\n",
       "<p>19735 rows × 3 columns</p>\n",
       "</div>"
      ],
      "text/plain": [
       "                               Санузел  Тип санузла  Число санузлов\n",
       "0                                  (1)          Нет               1\n",
       "1      Совмещенный (2), Раздельный (1)          Оба               3\n",
       "2                      Совмещенный (3)  Совмещенный               3\n",
       "3                      Совмещенный (3)  Совмещенный               3\n",
       "4                      Совмещенный (2)  Совмещенный               2\n",
       "...                                ...          ...             ...\n",
       "23363                  Совмещенный (1)  Совмещенный               1\n",
       "23364                  Совмещенный (1)  Совмещенный               1\n",
       "23365                  Совмещенный (1)  Совмещенный               1\n",
       "23366  Совмещенный (1), Раздельный (1)          Оба               2\n",
       "23367                   Раздельный (1)   Раздельный               1\n",
       "\n",
       "[19735 rows x 3 columns]"
      ]
     },
     "execution_count": 322,
     "metadata": {},
     "output_type": "execute_result"
    }
   ],
   "source": [
    "df_msk['Санузел'] = df_msk['Санузел'].fillna('(1)')\n",
    "def san_split(text):\n",
    "    if 'Совмещенный' in text and 'Раздельный' in text:\n",
    "        return 'Оба'\n",
    "    elif 'Совмещенный' in text:\n",
    "        return 'Совмещенный'\n",
    "    elif 'Раздельный' in text:\n",
    "        return 'Раздельный'\n",
    "    else:\n",
    "        return 'Нет'\n",
    "#разьиваем колонку\n",
    "df_msk['Тип санузла'] = df_msk['Санузел'].apply(san_split)\n",
    "#считаем количество\n",
    "pattern = r'\\((\\d+)\\)'\n",
    "numbers = [re.findall(pattern, s) for s in df_msk['Санузел']]\n",
    "numbers = [sum([int(n) for n in ns]) for ns in numbers]\n",
    "df_msk['Число санузлов'] = numbers\n",
    "df_msk[['Санузел','Тип санузла','Число санузлов']]\n"
   ]
  },
  {
   "cell_type": "markdown",
   "id": "453c446d",
   "metadata": {},
   "source": [
    "* Разбиваем на две колонки тип санузла и число \n",
    "* Заполняем Nan '(1)'"
   ]
  },
  {
   "cell_type": "code",
   "execution_count": 323,
   "id": "00f1cbca",
   "metadata": {},
   "outputs": [
    {
     "data": {
      "image/png": "[encoded data removed]",
      "text/plain": [
       "<Figure size 700x400 with 1 Axes>"
      ]
     },
     "metadata": {},
     "output_type": "display_data"
    }
   ],
   "source": [
    "plt.figure(figsize=(7, 4))\n",
    "sns.lineplot(data=df_msk, x='Число санузлов', y='Цена за месяц числом')\n",
    "plt.title(\"Распределение цен\")\n",
    "plt.xticks(fontsize=7)\n",
    "plt.yticks()\n",
    "plt.show()\n"
   ]
  },
  {
   "cell_type": "code",
   "execution_count": 324,
   "id": "c23ac1ec",
   "metadata": {},
   "outputs": [
    {
     "data": {
      "image/png": "[encoded data removed]",
      "text/plain": [
       "<Figure size 700x400 with 1 Axes>"
      ]
     },
     "metadata": {},
     "output_type": "display_data"
    }
   ],
   "source": [
    "plt.figure(figsize=(7, 4))\n",
    "sns.barplot(data=df_msk, x=\"Число санузлов\", y=\"Цена за месяц числом\")\n",
    "#sns.lineplot(data=df_msk, x='Число санузлов', y='Цена за месяц числом')\n",
    "plt.xticks(fontsize=7)\n",
    "plt.title(\"Распределение цен\")\n",
    "plt.yticks()\n",
    "plt.show()\n"
   ]
  },
  {
   "cell_type": "code",
   "execution_count": 325,
   "id": "f43ab5b9",
   "metadata": {},
   "outputs": [
    {
     "data": {
      "image/png": "[encoded data removed]",
      "text/plain": [
       "<Figure size 700x400 with 1 Axes>"
      ]
     },
     "metadata": {},
     "output_type": "display_data"
    }
   ],
   "source": [
    "mean_price = df_msk.groupby('Тип санузла')['Цена за месяц числом'].mean().reset_index()\n",
    "plt.figure(figsize=(7, 4))\n",
    "sns.barplot(data=mean_price, x='Тип санузла', y='Цена за месяц числом')\n",
    "#sns.displot(data=mean_price, x='Тип санузла', y='Цена за месяц числом')\n",
    "plt.title(\"Распределение цен\")\n",
    "plt.xticks(fontsize=7)\n",
    "plt.yticks()\n",
    "plt.show()"
   ]
  },
  {
   "cell_type": "markdown",
   "id": "e719196a",
   "metadata": {},
   "source": [
    "### Колонка Метро"
   ]
  },
  {
   "cell_type": "code",
   "execution_count": 326,
   "id": "ef18b9ba",
   "metadata": {},
   "outputs": [
    {
     "data": {
      "text/html": [
       "<div>\n",
       "<style scoped>\n",
       "    .dataframe tbody tr th:only-of-type {\n",
       "        vertical-align: middle;\n",
       "    }\n",
       "\n",
       "    .dataframe tbody tr th {\n",
       "        vertical-align: top;\n",
       "    }\n",
       "\n",
       "    .dataframe thead th {\n",
       "        text-align: right;\n",
       "    }\n",
       "</style>\n",
       "<table border=\"1\" class=\"dataframe\">\n",
       "  <thead>\n",
       "    <tr style=\"text-align: right;\">\n",
       "      <th></th>\n",
       "      <th>Метро</th>\n",
       "      <th>Название метро</th>\n",
       "      <th>Время до метро пешком</th>\n",
       "    </tr>\n",
       "  </thead>\n",
       "  <tbody>\n",
       "    <tr>\n",
       "      <th>0</th>\n",
       "      <td>м. Смоленская (9 мин пешком)</td>\n",
       "      <td>м. Смоленская</td>\n",
       "      <td>9</td>\n",
       "    </tr>\n",
       "    <tr>\n",
       "      <th>1</th>\n",
       "      <td>м. Смоленская (8 мин пешком)</td>\n",
       "      <td>м. Смоленская</td>\n",
       "      <td>8</td>\n",
       "    </tr>\n",
       "    <tr>\n",
       "      <th>2</th>\n",
       "      <td>м. Смоленская (7 мин пешком)</td>\n",
       "      <td>м. Смоленская</td>\n",
       "      <td>7</td>\n",
       "    </tr>\n",
       "    <tr>\n",
       "      <th>3</th>\n",
       "      <td>м. Смоленская (3 мин пешком)</td>\n",
       "      <td>м. Смоленская</td>\n",
       "      <td>3</td>\n",
       "    </tr>\n",
       "    <tr>\n",
       "      <th>4</th>\n",
       "      <td>м. Арбатская (7 мин пешком)</td>\n",
       "      <td>м. Арбатская</td>\n",
       "      <td>7</td>\n",
       "    </tr>\n",
       "    <tr>\n",
       "      <th>...</th>\n",
       "      <td>...</td>\n",
       "      <td>...</td>\n",
       "      <td>...</td>\n",
       "    </tr>\n",
       "    <tr>\n",
       "      <th>23363</th>\n",
       "      <td>м. Говорово (8 мин пешком)</td>\n",
       "      <td>м. Говорово</td>\n",
       "      <td>8</td>\n",
       "    </tr>\n",
       "    <tr>\n",
       "      <th>23364</th>\n",
       "      <td>м. Солнцево (7 мин пешком)</td>\n",
       "      <td>м. Солнцево</td>\n",
       "      <td>7</td>\n",
       "    </tr>\n",
       "    <tr>\n",
       "      <th>23365</th>\n",
       "      <td>м. Солнцево (6 мин пешком)</td>\n",
       "      <td>м. Солнцево</td>\n",
       "      <td>6</td>\n",
       "    </tr>\n",
       "    <tr>\n",
       "      <th>23366</th>\n",
       "      <td>м. Солнцево (11 мин пешком)</td>\n",
       "      <td>м. Солнцево</td>\n",
       "      <td>11</td>\n",
       "    </tr>\n",
       "    <tr>\n",
       "      <th>23367</th>\n",
       "      <td>м. Говорово (10 мин пешком)</td>\n",
       "      <td>м. Говорово</td>\n",
       "      <td>10</td>\n",
       "    </tr>\n",
       "  </tbody>\n",
       "</table>\n",
       "<p>19735 rows × 3 columns</p>\n",
       "</div>"
      ],
      "text/plain": [
       "                              Метро  Название метро Время до метро пешком\n",
       "0      м. Смоленская (9 мин пешком)  м. Смоленская                      9\n",
       "1      м. Смоленская (8 мин пешком)  м. Смоленская                      8\n",
       "2      м. Смоленская (7 мин пешком)  м. Смоленская                      7\n",
       "3      м. Смоленская (3 мин пешком)  м. Смоленская                      3\n",
       "4       м. Арбатская (7 мин пешком)   м. Арбатская                      7\n",
       "...                             ...             ...                   ...\n",
       "23363    м. Говорово (8 мин пешком)    м. Говорово                      8\n",
       "23364    м. Солнцево (7 мин пешком)    м. Солнцево                      7\n",
       "23365    м. Солнцево (6 мин пешком)    м. Солнцево                      6\n",
       "23366   м. Солнцево (11 мин пешком)    м. Солнцево                     11\n",
       "23367   м. Говорово (10 мин пешком)    м. Говорово                     10\n",
       "\n",
       "[19735 rows x 3 columns]"
      ]
     },
     "execution_count": 326,
     "metadata": {},
     "output_type": "execute_result"
    }
   ],
   "source": [
    "\n",
    "df_msk['Метро'] = df_msk['Метро'].fillna(method='bfill') \n",
    "\n",
    "new_df = df_msk['Метро'].str.split('(', n=1, expand=True)\n",
    "new_df.columns = ['Название метро', 'Время до метро пешком']\n",
    "df_msk['Время до метро пешком'] = new_df['Время до метро пешком'].str.extract('(\\d+)')\n",
    "df_msk['Название метро'] = new_df['Название метро']\n",
    "\n",
    "df_msk[['Метро','Название метро','Время до метро пешком']]\n"
   ]
  },
  {
   "cell_type": "code",
   "execution_count": 327,
   "id": "5b26c5f2",
   "metadata": {},
   "outputs": [],
   "source": [
    "df_msk['Метро'] = df_msk['Метро'].fillna(method='ffill')  \n",
    "new_df = df_msk['Метро'].str.split('(', n=1, expand=True)\n",
    "new_df.columns = ['Название метро', 'Время до метро пешком']\n",
    "df_msk['Время до метро пешком'] = new_df['Время до метро пешком'].str.extract('(\\d+)')\n",
    "df_msk['Название метро'] = new_df['Название метро']\n",
    "df_msk['Время до метро пешком'] = df_msk['Время до метро пешком'].astype(float)\n"
   ]
  },
  {
   "cell_type": "code",
   "execution_count": 328,
   "id": "802dfd2e",
   "metadata": {},
   "outputs": [],
   "source": [
    "df_msk['Время до метро пешком'] = df_msk['Время до метро пешком'].fillna(df_msk['Время до метро пешком'].mean()) \n"
   ]
  },
  {
   "cell_type": "markdown",
   "id": "b6f006d9",
   "metadata": {},
   "source": [
    "* Заполняем Nan занченями из следующей строки\n",
    "* Разбиваем на две колонки содержащих название и время до метро"
   ]
  },
  {
   "cell_type": "code",
   "execution_count": 329,
   "id": "44cbeb42",
   "metadata": {},
   "outputs": [
    {
     "data": {
      "image/png": "[encoded data removed]",
      "text/plain": [
       "<Figure size 700x400 with 1 Axes>"
      ]
     },
     "metadata": {},
     "output_type": "display_data"
    }
   ],
   "source": [
    "plt.figure(figsize=(7, 4))\n",
    "sns.scatterplot(data=df_msk, x=\"Название метро\", y=\"Цена за месяц числом\")\n",
    "plt.xticks(fontsize=7)\n",
    "plt.title(\"Распределение цен\")\n",
    "plt.yticks()\n",
    "plt.show()\n"
   ]
  },
  {
   "cell_type": "code",
   "execution_count": 330,
   "id": "0069152f",
   "metadata": {},
   "outputs": [
    {
     "data": {
      "image/png": "[encoded data removed]",
      "text/plain": [
       "<Figure size 700x400 with 1 Axes>"
      ]
     },
     "metadata": {},
     "output_type": "display_data"
    }
   ],
   "source": [
    "mean_price = df_msk.groupby('Время до метро пешком')['Цена за месяц числом'].mean().reset_index()\n",
    "plt.figure(figsize=(7, 4))\n",
    "sns.scatterplot(data=mean_price, x='Время до метро пешком', y='Цена за месяц числом')\n",
    "plt.title(\"Распределение средней цены\")\n",
    "plt.xticks(fontsize=7)\n",
    "plt.yticks()\n",
    "plt.show()"
   ]
  },
  {
   "cell_type": "markdown",
   "id": "1141d71c",
   "metadata": {},
   "source": [
    "* Заполняем Nan занченями из следующей строки\n",
    "* Разбиваем на две колонки содержащих название и время до метро\n",
    "* Удаляем колонку Метро, поскольку в ней слишком много категориальных меток, что может плохо сказаться на обучении модели\n"
   ]
  },
  {
   "cell_type": "code",
   "execution_count": 331,
   "id": "85b1748a-ed56-4e8b-8324-341860a3a5e7",
   "metadata": {
    "tags": []
   },
   "outputs": [],
   "source": [
    "df_msk = df_msk.drop(columns=['Название метро'])"
   ]
  },
  {
   "cell_type": "markdown",
   "id": "79704b10",
   "metadata": {},
   "source": [
    "## Колонка Дом"
   ]
  },
  {
   "cell_type": "code",
   "execution_count": 332,
   "id": "52c53aa7",
   "metadata": {},
   "outputs": [],
   "source": [
    "df_msk['Дом'].value_counts(dropna=False)\n",
    "# ячейка упрояющая разбивку\n",
    "df_msk['Описание этажности'] = df_msk['Дом'].apply(lambda elem: elem.split(',')[0])\n",
    "# разбиваем\n",
    "df_msk['Этажность дома'] = df_msk['Описание этажности'].apply(lambda elem: elem.split('/')[1])\n",
    "df_msk['Этаж квартиры'] = df_msk['Описание этажности'].apply(lambda elem: elem.split('/')[0])\n",
    "df_msk['Тип дома'] = df_msk['Дом'].apply(lambda elem: elem.split(',')[1][1:] if len(elem) > 6 else 'Нет')\n",
    "df_msk[['Дом','Этажность дома','Этаж квартиры', 'Тип дома']]\n",
    "df_msk['Тип дома'].value_counts(dropna=False)\n",
    "df_msk[\"Этажность дома\"] = df_msk[\"Этажность дома\"].astype(int)\n",
    "df_msk[\"Этаж квартиры\"] = df_msk[\"Этаж квартиры\"].astype(int)\n"
   ]
  },
  {
   "cell_type": "markdown",
   "id": "06a09d05",
   "metadata": {},
   "source": [
    "* Разбиваем на три колонки содержащих тип дома и этажность дома и этаж квартиры"
   ]
  },
  {
   "cell_type": "code",
   "execution_count": 333,
   "id": "1a1a689c",
   "metadata": {},
   "outputs": [
    {
     "data": {
      "image/png": "[encoded data removed]",
      "text/plain": [
       "<Figure size 700x400 with 1 Axes>"
      ]
     },
     "metadata": {},
     "output_type": "display_data"
    }
   ],
   "source": [
    "mean_price = df_msk.groupby('Тип дома')['Цена за месяц числом'].mean().reset_index()\n",
    "plt.figure(figsize=(7, 4))\n",
    "sns.barplot(data=mean_price, x='Тип дома', y='Цена за месяц числом')\n",
    "plt.title(\"Распределение цен\")\n",
    "plt.xticks(fontsize=7)\n",
    "plt.yticks()\n",
    "plt.show()"
   ]
  },
  {
   "cell_type": "code",
   "execution_count": 334,
   "id": "026ec8e9",
   "metadata": {},
   "outputs": [
    {
     "data": {
      "image/png": "[encoded data removed]",
      "text/plain": [
       "<Figure size 700x400 with 1 Axes>"
      ]
     },
     "metadata": {},
     "output_type": "display_data"
    }
   ],
   "source": [
    "mean_price = df_msk.groupby('Этаж квартиры')['Цена за месяц числом'].mean().reset_index()\n",
    "plt.figure(figsize=(7, 4))\n",
    "sns.barplot(data=mean_price, x='Этаж квартиры', y='Цена за месяц числом')\n",
    "plt.title(\"Распределение цен\")\n",
    "plt.xticks(fontsize=7)\n",
    "plt.yticks()\n",
    "plt.show()"
   ]
  },
  {
   "cell_type": "markdown",
   "id": "ac3a3da8",
   "metadata": {},
   "source": [
    "* Видно что есть отрицательный этаж удаляем эту строку"
   ]
  },
  {
   "cell_type": "code",
   "execution_count": 335,
   "id": "fee033a7",
   "metadata": {},
   "outputs": [],
   "source": [
    "df_msk['Этаж квартиры'].sort_values()\n",
    "df_msk = df_msk.drop(index=[217])"
   ]
  },
  {
   "cell_type": "markdown",
   "id": "bea11cc8",
   "metadata": {},
   "source": [
    "## Лифт"
   ]
  },
  {
   "cell_type": "code",
   "execution_count": 336,
   "id": "88519b5a",
   "metadata": {},
   "outputs": [
    {
     "data": {
      "text/html": [
       "<div>\n",
       "<style scoped>\n",
       "    .dataframe tbody tr th:only-of-type {\n",
       "        vertical-align: middle;\n",
       "    }\n",
       "\n",
       "    .dataframe tbody tr th {\n",
       "        vertical-align: top;\n",
       "    }\n",
       "\n",
       "    .dataframe thead th {\n",
       "        text-align: right;\n",
       "    }\n",
       "</style>\n",
       "<table border=\"1\" class=\"dataframe\">\n",
       "  <thead>\n",
       "    <tr style=\"text-align: right;\">\n",
       "      <th></th>\n",
       "      <th>Лифт</th>\n",
       "      <th>Тип лифта</th>\n",
       "      <th>Число лифтов</th>\n",
       "    </tr>\n",
       "  </thead>\n",
       "  <tbody>\n",
       "    <tr>\n",
       "      <th>0</th>\n",
       "      <td>Пасс (4), Груз (1)</td>\n",
       "      <td>Оба</td>\n",
       "      <td>5</td>\n",
       "    </tr>\n",
       "    <tr>\n",
       "      <th>1</th>\n",
       "      <td>Пасс (1), Груз (1)</td>\n",
       "      <td>Оба</td>\n",
       "      <td>2</td>\n",
       "    </tr>\n",
       "    <tr>\n",
       "      <th>2</th>\n",
       "      <td>Пасс (1)</td>\n",
       "      <td>Пасс</td>\n",
       "      <td>1</td>\n",
       "    </tr>\n",
       "    <tr>\n",
       "      <th>3</th>\n",
       "      <td>Пасс (1)</td>\n",
       "      <td>Пасс</td>\n",
       "      <td>1</td>\n",
       "    </tr>\n",
       "    <tr>\n",
       "      <th>4</th>\n",
       "      <td>Пасс (1), Груз (1)</td>\n",
       "      <td>Оба</td>\n",
       "      <td>2</td>\n",
       "    </tr>\n",
       "    <tr>\n",
       "      <th>...</th>\n",
       "      <td>...</td>\n",
       "      <td>...</td>\n",
       "      <td>...</td>\n",
       "    </tr>\n",
       "    <tr>\n",
       "      <th>23363</th>\n",
       "      <td>Пасс (1), Груз (1)</td>\n",
       "      <td>Оба</td>\n",
       "      <td>2</td>\n",
       "    </tr>\n",
       "    <tr>\n",
       "      <th>23364</th>\n",
       "      <td>Пасс (1), Груз (1)</td>\n",
       "      <td>Оба</td>\n",
       "      <td>2</td>\n",
       "    </tr>\n",
       "    <tr>\n",
       "      <th>23365</th>\n",
       "      <td>Нет</td>\n",
       "      <td>Нет</td>\n",
       "      <td>0</td>\n",
       "    </tr>\n",
       "    <tr>\n",
       "      <th>23366</th>\n",
       "      <td>Пасс (3)</td>\n",
       "      <td>Пасс</td>\n",
       "      <td>3</td>\n",
       "    </tr>\n",
       "    <tr>\n",
       "      <th>23367</th>\n",
       "      <td>Пасс (3)</td>\n",
       "      <td>Пасс</td>\n",
       "      <td>3</td>\n",
       "    </tr>\n",
       "  </tbody>\n",
       "</table>\n",
       "<p>19734 rows × 3 columns</p>\n",
       "</div>"
      ],
      "text/plain": [
       "                     Лифт Тип лифта  Число лифтов\n",
       "0      Пасс (4), Груз (1)       Оба             5\n",
       "1      Пасс (1), Груз (1)       Оба             2\n",
       "2                Пасс (1)      Пасс             1\n",
       "3                Пасс (1)      Пасс             1\n",
       "4      Пасс (1), Груз (1)       Оба             2\n",
       "...                   ...       ...           ...\n",
       "23363  Пасс (1), Груз (1)       Оба             2\n",
       "23364  Пасс (1), Груз (1)       Оба             2\n",
       "23365                 Нет       Нет             0\n",
       "23366            Пасс (3)      Пасс             3\n",
       "23367            Пасс (3)      Пасс             3\n",
       "\n",
       "[19734 rows x 3 columns]"
      ]
     },
     "execution_count": 336,
     "metadata": {},
     "output_type": "execute_result"
    }
   ],
   "source": [
    "df_msk['Лифт'] = df_msk['Лифт'].fillna('Нет')\n",
    "def san_split(text):\n",
    "    if 'Пасс' in text and 'Груз' in text:\n",
    "        return 'Оба'\n",
    "    elif 'Пасс' in text:\n",
    "        return 'Пасс'\n",
    "    elif 'Груз' in text:\n",
    "        return 'Груз'\n",
    "    else:\n",
    "        return 'Нет'\n",
    "#разьиваем колонку\n",
    "df_msk['Тип лифта'] = df_msk['Лифт'].apply(san_split)\n",
    "#считаем количество\n",
    "pattern = r'\\((\\d+)\\)'\n",
    "numbers = [re.findall(pattern, s) for s in df_msk['Лифт']]\n",
    "numbers = [sum([int(n) for n in ns]) for ns in numbers]\n",
    "df_msk['Число лифтов'] = numbers\n",
    "df_msk[['Лифт','Тип лифта','Число лифтов']]"
   ]
  },
  {
   "cell_type": "markdown",
   "id": "2bfa5858",
   "metadata": {},
   "source": [
    "* Разбиваем на две колонки тип лифта и число \n",
    "* Заполняем Nan 'Нет'"
   ]
  },
  {
   "cell_type": "code",
   "execution_count": 337,
   "id": "2515d8eb-7d0d-4952-b722-d96c8ccc18f8",
   "metadata": {
    "tags": []
   },
   "outputs": [],
   "source": [
    "# Избавляемся от явных некорректных значений\n",
    "\n",
    "df_msk['Число лифтов'] = np.where(df_msk['Число лифтов'] > 20, df_msk['Число лифтов'].median(), df_msk['Число лифтов'])"
   ]
  },
  {
   "cell_type": "code",
   "execution_count": 338,
   "id": "66a937cb-7a8b-4f17-a33e-56728727fee3",
   "metadata": {
    "tags": []
   },
   "outputs": [
    {
     "data": {
      "image/png": "[encoded data removed]",
      "text/plain": [
       "<Figure size 640x480 with 1 Axes>"
      ]
     },
     "metadata": {},
     "output_type": "display_data"
    }
   ],
   "source": [
    "x = df_msk.groupby('Число лифтов')['Цена за месяц числом'].mean().index.to_list()\n",
    "y = df_msk.groupby('Число лифтов')['Цена за месяц числом'].mean().values\n",
    "\n",
    "fig, ax = plt.subplots()\n",
    "\n",
    "ax.bar(x, y)\n",
    "ax.set_title(\"Средняя цена/Число лифтов\")\n",
    "ax.set_ylabel('Средняя цена');"
   ]
  },
  {
   "cell_type": "markdown",
   "id": "514a25ec",
   "metadata": {},
   "source": [
    "## Удаляем лишние колонки"
   ]
  },
  {
   "cell_type": "code",
   "execution_count": 339,
   "id": "f889ee66",
   "metadata": {},
   "outputs": [],
   "source": [
    "df_msk = df_msk.drop(columns=['Метро', 'Дом', 'Цена', 'Балкон', 'Санузел', 'Можно с детьми/животными', 'Дополнительно', 'Лифт', 'Описание этажности'])"
   ]
  },
  {
   "cell_type": "code",
   "execution_count": 340,
   "id": "cc3f10a9",
   "metadata": {},
   "outputs": [
    {
     "data": {
      "text/plain": [
       "24"
      ]
     },
     "execution_count": 340,
     "metadata": {},
     "output_type": "execute_result"
    }
   ],
   "source": [
    "len(df_msk.columns)"
   ]
  },
  {
   "cell_type": "markdown",
   "id": "a5e808c8-2cc4-4bbd-9654-105a833f5b30",
   "metadata": {},
   "source": [
    "### Зависимость наличия и типа парковки и стоимости месячной аренды квартиры"
   ]
  },
  {
   "cell_type": "code",
   "execution_count": 341,
   "id": "fe26bcff-f7b3-4012-8e9b-cb3a7e59c7da",
   "metadata": {},
   "outputs": [
    {
     "data": {
      "image/png": "[encoded data removed]",
      "text/plain": [
       "<Figure size 700x400 with 1 Axes>"
      ]
     },
     "metadata": {},
     "output_type": "display_data"
    }
   ],
   "source": [
    "plt.figure(figsize=(7, 4))\n",
    "sns.lineplot(data=df_msk, x='Парковка', y='Цена за месяц числом')\n",
    "plt.xticks(fontsize=7)\n",
    "plt.show()"
   ]
  },
  {
   "cell_type": "markdown",
   "id": "69cfb19b-26a5-4c8d-8e98-6cc4da751aee",
   "metadata": {},
   "source": [
    "### Корреляция цены за месяц и высоты потолков"
   ]
  },
  {
   "cell_type": "code",
   "execution_count": 342,
   "id": "cc2c0d1b-d1eb-4a24-b6a7-4ad50998db53",
   "metadata": {},
   "outputs": [
    {
     "data": {
      "image/png": "[encoded data removed]",
      "text/plain": [
       "<Figure size 700x400 with 1 Axes>"
      ]
     },
     "metadata": {},
     "output_type": "display_data"
    }
   ],
   "source": [
    "plt.figure(figsize=(7, 4))\n",
    "sns.scatterplot(data=df_msk, x='Высота потолков, м', y='Цена за месяц числом')\n",
    "plt.xticks(fontsize=7)\n",
    "plt.show()"
   ]
  },
  {
   "cell_type": "markdown",
   "id": "cd24875d-0702-4ce3-b2ea-e79dca47a134",
   "metadata": {},
   "source": [
    "### Соотношение стоимости месячной аренды и типа ремонта квартиры"
   ]
  },
  {
   "cell_type": "code",
   "execution_count": 343,
   "id": "7664dd78-444c-4eb5-9823-47e6fec868cf",
   "metadata": {},
   "outputs": [
    {
     "data": {
      "image/png": "[encoded data removed]",
      "text/plain": [
       "<Figure size 700x400 with 1 Axes>"
      ]
     },
     "metadata": {},
     "output_type": "display_data"
    }
   ],
   "source": [
    "plt.figure(figsize=(7, 4))\n",
    "sns.lineplot(data=df_msk, x='Ремонт', y='Цена за месяц числом')\n",
    "plt.xticks(fontsize=7)\n",
    "plt.show()"
   ]
  },
  {
   "cell_type": "markdown",
   "id": "b67492d5-bdfc-4cf9-9e6a-7b0e6bfee3ce",
   "metadata": {},
   "source": [
    "### Соотношение цены квартиры и суммы количества балконов и лоджий "
   ]
  },
  {
   "cell_type": "code",
   "execution_count": 344,
   "id": "77d509fb-3c34-4efd-934a-48ee715ecc55",
   "metadata": {},
   "outputs": [
    {
     "data": {
      "image/png": "[encoded data removed]",
      "text/plain": [
       "<Figure size 700x400 with 1 Axes>"
      ]
     },
     "metadata": {},
     "output_type": "display_data"
    }
   ],
   "source": [
    "plt.figure(figsize=(7, 4))\n",
    "sns.barplot(data=df_msk, x=df_msk['Кол-во балконов'] + df_msk['Кол-во лоджий'], y='Цена за месяц числом')\n",
    "plt.xticks(fontsize=7)\n",
    "plt.show()"
   ]
  },
  {
   "cell_type": "markdown",
   "id": "9eb9cf52-16e5-4c7f-a9d5-36d3b758fe29",
   "metadata": {},
   "source": [
    "### Переименовываем колонки"
   ]
  },
  {
   "cell_type": "code",
   "execution_count": 345,
   "id": "05c4146e-7bf0-4fd4-aaae-f1ca2be021c6",
   "metadata": {},
   "outputs": [],
   "source": [
    "df_msk.rename(columns={'ID  объявления': 'Listing_ID',\n",
    "        'Количество комнат': 'Rooms_qty',\n",
    "        'Название метро': 'Subway_station',\n",
    "        'Адрес': 'Address',\n",
    "        'Площадь, м2': 'Square_area',\n",
    "        'Тип дома': 'Builging_type',\n",
    "        'Парковка': 'Parking',\n",
    "        'Цена за месяц числом': 'Monthly_payment',\n",
    "        'Ремонт': 'Renovation',\n",
    "        'Окна': 'Windows',\n",
    "        'Число санузлов': 'Bathrooms_qty',\n",
    "        'Можно с детьми': 'Children_allowed',\n",
    "        'Можно с животными': 'Pets_allowed',\n",
    "        'Дополнительно': 'Additional_info',\n",
    "        'Высота потолков, м': 'Ceilings_height',\n",
    "        'Тип лифта': 'Lift_type',\n",
    "        'Мусоропровод': 'Trash_duct',\n",
    "        'Кол-во лоджий': 'Loggia_qty',\n",
    "        'Кол-во балконов': 'Balcony_qty',\n",
    "        'Цена залог': 'Advance_payment',\n",
    "        'Комунальные услуги': 'Utilities_bill',\n",
    "        'Тип санузла': 'Bathroom_type',\n",
    "        'Время до метро пешком': 'Time_to_metro',\n",
    "        'Этажность дома': 'floor_qty',\n",
    "        'Этаж квартиры': 'Apartment_floor',\n",
    "        'Число лифтов': 'Lifts_qty'}, inplace=True)"
   ]
  },
  {
   "cell_type": "code",
   "execution_count": 346,
   "id": "65af08d6-1296-419d-8aa3-d551c7e038d2",
   "metadata": {},
   "outputs": [
    {
     "name": "stdout",
     "output_type": "stream",
     "text": [
      "<class 'pandas.core.frame.DataFrame'>\n",
      "Int64Index: 19734 entries, 0 to 23367\n",
      "Data columns (total 24 columns):\n",
      " #   Column            Non-Null Count  Dtype  \n",
      "---  ------            --------------  -----  \n",
      " 0   Listing_ID        19734 non-null  int64  \n",
      " 1   Rooms_qty         19734 non-null  int64  \n",
      " 2   Address           19734 non-null  object \n",
      " 3   Square_area       19734 non-null  float64\n",
      " 4   Parking           19734 non-null  object \n",
      " 5   Renovation        19734 non-null  object \n",
      " 6   Windows           19734 non-null  object \n",
      " 7   Ceilings_height   19734 non-null  float64\n",
      " 8   Trash_duct        19734 non-null  object \n",
      " 9   Monthly_payment   19734 non-null  float64\n",
      " 10  Advance_payment   19734 non-null  float64\n",
      " 11  Utilities_bill    19734 non-null  object \n",
      " 12  Loggia_qty        19734 non-null  int64  \n",
      " 13  Balcony_qty       19734 non-null  int64  \n",
      " 14  Children_allowed  19734 non-null  int64  \n",
      " 15  Pets_allowed      19734 non-null  int64  \n",
      " 16  Bathroom_type     19734 non-null  object \n",
      " 17  Bathrooms_qty     19734 non-null  int64  \n",
      " 18  Time_to_metro     19734 non-null  float64\n",
      " 19  floor_qty         19734 non-null  int64  \n",
      " 20  Apartment_floor   19734 non-null  int64  \n",
      " 21  Builging_type     19734 non-null  object \n",
      " 22  Lift_type         19734 non-null  object \n",
      " 23  Lifts_qty         19734 non-null  float64\n",
      "dtypes: float64(6), int64(9), object(9)\n",
      "memory usage: 3.8+ MB\n"
     ]
    }
   ],
   "source": [
    "df_msk.info()"
   ]
  },
  {
   "cell_type": "code",
   "execution_count": 347,
   "id": "b56e035a-e426-4e60-a405-9a96f68c6930",
   "metadata": {
    "tags": []
   },
   "outputs": [
    {
     "data": {
      "text/html": [
       "<div>\n",
       "<style scoped>\n",
       "    .dataframe tbody tr th:only-of-type {\n",
       "        vertical-align: middle;\n",
       "    }\n",
       "\n",
       "    .dataframe tbody tr th {\n",
       "        vertical-align: top;\n",
       "    }\n",
       "\n",
       "    .dataframe thead th {\n",
       "        text-align: right;\n",
       "    }\n",
       "</style>\n",
       "<table border=\"1\" class=\"dataframe\">\n",
       "  <thead>\n",
       "    <tr style=\"text-align: right;\">\n",
       "      <th></th>\n",
       "      <th>Listing_ID</th>\n",
       "      <th>Rooms_qty</th>\n",
       "      <th>Address</th>\n",
       "      <th>Square_area</th>\n",
       "      <th>Parking</th>\n",
       "      <th>Renovation</th>\n",
       "      <th>Windows</th>\n",
       "      <th>Ceilings_height</th>\n",
       "      <th>Trash_duct</th>\n",
       "      <th>Monthly_payment</th>\n",
       "      <th>...</th>\n",
       "      <th>Children_allowed</th>\n",
       "      <th>Pets_allowed</th>\n",
       "      <th>Bathroom_type</th>\n",
       "      <th>Bathrooms_qty</th>\n",
       "      <th>Time_to_metro</th>\n",
       "      <th>floor_qty</th>\n",
       "      <th>Apartment_floor</th>\n",
       "      <th>Builging_type</th>\n",
       "      <th>Lift_type</th>\n",
       "      <th>Lifts_qty</th>\n",
       "    </tr>\n",
       "  </thead>\n",
       "  <tbody>\n",
       "    <tr>\n",
       "      <th>0</th>\n",
       "      <td>271271157</td>\n",
       "      <td>4</td>\n",
       "      <td>Москва</td>\n",
       "      <td>200.0</td>\n",
       "      <td>подземная</td>\n",
       "      <td>Дизайнерский</td>\n",
       "      <td>На улицу и двор</td>\n",
       "      <td>3.00</td>\n",
       "      <td>Да</td>\n",
       "      <td>500000.0</td>\n",
       "      <td>...</td>\n",
       "      <td>1</td>\n",
       "      <td>1</td>\n",
       "      <td>Нет</td>\n",
       "      <td>1</td>\n",
       "      <td>9.0</td>\n",
       "      <td>16</td>\n",
       "      <td>5</td>\n",
       "      <td>Монолитный</td>\n",
       "      <td>Оба</td>\n",
       "      <td>5.0</td>\n",
       "    </tr>\n",
       "    <tr>\n",
       "      <th>1</th>\n",
       "      <td>271634126</td>\n",
       "      <td>4</td>\n",
       "      <td>Москва</td>\n",
       "      <td>198.0</td>\n",
       "      <td>подземная</td>\n",
       "      <td>Дизайнерский</td>\n",
       "      <td>На улицу и двор</td>\n",
       "      <td>3.50</td>\n",
       "      <td>Нет</td>\n",
       "      <td>500000.0</td>\n",
       "      <td>...</td>\n",
       "      <td>1</td>\n",
       "      <td>0</td>\n",
       "      <td>Оба</td>\n",
       "      <td>3</td>\n",
       "      <td>8.0</td>\n",
       "      <td>16</td>\n",
       "      <td>5</td>\n",
       "      <td>Монолитно-кирпичный</td>\n",
       "      <td>Оба</td>\n",
       "      <td>2.0</td>\n",
       "    </tr>\n",
       "    <tr>\n",
       "      <th>2</th>\n",
       "      <td>271173086</td>\n",
       "      <td>4</td>\n",
       "      <td>Москва</td>\n",
       "      <td>200.0</td>\n",
       "      <td>подземная</td>\n",
       "      <td>Евроремонт</td>\n",
       "      <td>На улицу и двор</td>\n",
       "      <td>3.20</td>\n",
       "      <td>Нет</td>\n",
       "      <td>500000.0</td>\n",
       "      <td>...</td>\n",
       "      <td>1</td>\n",
       "      <td>0</td>\n",
       "      <td>Совмещенный</td>\n",
       "      <td>3</td>\n",
       "      <td>7.0</td>\n",
       "      <td>16</td>\n",
       "      <td>5</td>\n",
       "      <td>Нет</td>\n",
       "      <td>Пасс</td>\n",
       "      <td>1.0</td>\n",
       "    </tr>\n",
       "    <tr>\n",
       "      <th>3</th>\n",
       "      <td>272197456</td>\n",
       "      <td>4</td>\n",
       "      <td>Москва</td>\n",
       "      <td>170.0</td>\n",
       "      <td>подземная</td>\n",
       "      <td>Евроремонт</td>\n",
       "      <td>На улицу и двор</td>\n",
       "      <td>3.20</td>\n",
       "      <td>Нет</td>\n",
       "      <td>400000.0</td>\n",
       "      <td>...</td>\n",
       "      <td>0</td>\n",
       "      <td>1</td>\n",
       "      <td>Совмещенный</td>\n",
       "      <td>3</td>\n",
       "      <td>3.0</td>\n",
       "      <td>6</td>\n",
       "      <td>5</td>\n",
       "      <td>Нет</td>\n",
       "      <td>Пасс</td>\n",
       "      <td>1.0</td>\n",
       "    </tr>\n",
       "    <tr>\n",
       "      <th>4</th>\n",
       "      <td>273614615</td>\n",
       "      <td>2</td>\n",
       "      <td>Москва</td>\n",
       "      <td>58.0</td>\n",
       "      <td>отсутствует</td>\n",
       "      <td>Евроремонт</td>\n",
       "      <td>На улицу и двор</td>\n",
       "      <td>3.90</td>\n",
       "      <td>Да</td>\n",
       "      <td>225000.0</td>\n",
       "      <td>...</td>\n",
       "      <td>0</td>\n",
       "      <td>0</td>\n",
       "      <td>Совмещенный</td>\n",
       "      <td>2</td>\n",
       "      <td>7.0</td>\n",
       "      <td>26</td>\n",
       "      <td>12</td>\n",
       "      <td>Панельный</td>\n",
       "      <td>Оба</td>\n",
       "      <td>2.0</td>\n",
       "    </tr>\n",
       "    <tr>\n",
       "      <th>...</th>\n",
       "      <td>...</td>\n",
       "      <td>...</td>\n",
       "      <td>...</td>\n",
       "      <td>...</td>\n",
       "      <td>...</td>\n",
       "      <td>...</td>\n",
       "      <td>...</td>\n",
       "      <td>...</td>\n",
       "      <td>...</td>\n",
       "      <td>...</td>\n",
       "      <td>...</td>\n",
       "      <td>...</td>\n",
       "      <td>...</td>\n",
       "      <td>...</td>\n",
       "      <td>...</td>\n",
       "      <td>...</td>\n",
       "      <td>...</td>\n",
       "      <td>...</td>\n",
       "      <td>...</td>\n",
       "      <td>...</td>\n",
       "      <td>...</td>\n",
       "    </tr>\n",
       "    <tr>\n",
       "      <th>23363</th>\n",
       "      <td>215565511</td>\n",
       "      <td>2</td>\n",
       "      <td>Москва</td>\n",
       "      <td>35.0</td>\n",
       "      <td>отсутствует</td>\n",
       "      <td>Евроремонт</td>\n",
       "      <td>Во двор</td>\n",
       "      <td>2.75</td>\n",
       "      <td>Нет</td>\n",
       "      <td>42000.0</td>\n",
       "      <td>...</td>\n",
       "      <td>0</td>\n",
       "      <td>0</td>\n",
       "      <td>Совмещенный</td>\n",
       "      <td>1</td>\n",
       "      <td>8.0</td>\n",
       "      <td>14</td>\n",
       "      <td>10</td>\n",
       "      <td>Нет</td>\n",
       "      <td>Оба</td>\n",
       "      <td>2.0</td>\n",
       "    </tr>\n",
       "    <tr>\n",
       "      <th>23364</th>\n",
       "      <td>274654844</td>\n",
       "      <td>1</td>\n",
       "      <td>Москва</td>\n",
       "      <td>38.7</td>\n",
       "      <td>отсутствует</td>\n",
       "      <td>Евроремонт</td>\n",
       "      <td>Во двор</td>\n",
       "      <td>2.75</td>\n",
       "      <td>Нет</td>\n",
       "      <td>45000.0</td>\n",
       "      <td>...</td>\n",
       "      <td>0</td>\n",
       "      <td>0</td>\n",
       "      <td>Совмещенный</td>\n",
       "      <td>1</td>\n",
       "      <td>7.0</td>\n",
       "      <td>18</td>\n",
       "      <td>5</td>\n",
       "      <td>Монолитный</td>\n",
       "      <td>Оба</td>\n",
       "      <td>2.0</td>\n",
       "    </tr>\n",
       "    <tr>\n",
       "      <th>23365</th>\n",
       "      <td>268679909</td>\n",
       "      <td>2</td>\n",
       "      <td>Москва</td>\n",
       "      <td>43.1</td>\n",
       "      <td>отсутствует</td>\n",
       "      <td>Дизайнерский</td>\n",
       "      <td>На улицу и двор</td>\n",
       "      <td>2.75</td>\n",
       "      <td>Нет</td>\n",
       "      <td>50000.0</td>\n",
       "      <td>...</td>\n",
       "      <td>1</td>\n",
       "      <td>0</td>\n",
       "      <td>Совмещенный</td>\n",
       "      <td>1</td>\n",
       "      <td>6.0</td>\n",
       "      <td>5</td>\n",
       "      <td>5</td>\n",
       "      <td>Кирпичный</td>\n",
       "      <td>Нет</td>\n",
       "      <td>0.0</td>\n",
       "    </tr>\n",
       "    <tr>\n",
       "      <th>23366</th>\n",
       "      <td>274807525</td>\n",
       "      <td>2</td>\n",
       "      <td>Москва</td>\n",
       "      <td>52.5</td>\n",
       "      <td>наземная</td>\n",
       "      <td>Евроремонт</td>\n",
       "      <td>Во двор</td>\n",
       "      <td>2.65</td>\n",
       "      <td>Да</td>\n",
       "      <td>55000.0</td>\n",
       "      <td>...</td>\n",
       "      <td>0</td>\n",
       "      <td>0</td>\n",
       "      <td>Оба</td>\n",
       "      <td>2</td>\n",
       "      <td>11.0</td>\n",
       "      <td>23</td>\n",
       "      <td>8</td>\n",
       "      <td>Монолитный</td>\n",
       "      <td>Пасс</td>\n",
       "      <td>3.0</td>\n",
       "    </tr>\n",
       "    <tr>\n",
       "      <th>23367</th>\n",
       "      <td>274672243</td>\n",
       "      <td>2</td>\n",
       "      <td>Москва</td>\n",
       "      <td>90.0</td>\n",
       "      <td>отсутствует</td>\n",
       "      <td>Косметический</td>\n",
       "      <td>Во двор</td>\n",
       "      <td>2.75</td>\n",
       "      <td>Да</td>\n",
       "      <td>57000.0</td>\n",
       "      <td>...</td>\n",
       "      <td>1</td>\n",
       "      <td>1</td>\n",
       "      <td>Раздельный</td>\n",
       "      <td>1</td>\n",
       "      <td>10.0</td>\n",
       "      <td>23</td>\n",
       "      <td>6</td>\n",
       "      <td>Панельный</td>\n",
       "      <td>Пасс</td>\n",
       "      <td>3.0</td>\n",
       "    </tr>\n",
       "  </tbody>\n",
       "</table>\n",
       "<p>19734 rows × 24 columns</p>\n",
       "</div>"
      ],
      "text/plain": [
       "       Listing_ID  Rooms_qty Address  Square_area      Parking     Renovation  \\\n",
       "0       271271157          4  Москва        200.0    подземная   Дизайнерский   \n",
       "1       271634126          4  Москва        198.0    подземная   Дизайнерский   \n",
       "2       271173086          4  Москва        200.0    подземная     Евроремонт   \n",
       "3       272197456          4  Москва        170.0    подземная     Евроремонт   \n",
       "4       273614615          2  Москва         58.0  отсутствует     Евроремонт   \n",
       "...           ...        ...     ...          ...          ...            ...   \n",
       "23363   215565511          2  Москва         35.0  отсутствует     Евроремонт   \n",
       "23364   274654844          1  Москва         38.7  отсутствует     Евроремонт   \n",
       "23365   268679909          2  Москва         43.1  отсутствует   Дизайнерский   \n",
       "23366   274807525          2  Москва         52.5     наземная     Евроремонт   \n",
       "23367   274672243          2  Москва         90.0  отсутствует  Косметический   \n",
       "\n",
       "               Windows  Ceilings_height Trash_duct  Monthly_payment  ...  \\\n",
       "0      На улицу и двор             3.00         Да         500000.0  ...   \n",
       "1      На улицу и двор             3.50        Нет         500000.0  ...   \n",
       "2      На улицу и двор             3.20        Нет         500000.0  ...   \n",
       "3      На улицу и двор             3.20        Нет         400000.0  ...   \n",
       "4      На улицу и двор             3.90         Да         225000.0  ...   \n",
       "...                ...              ...        ...              ...  ...   \n",
       "23363          Во двор             2.75        Нет          42000.0  ...   \n",
       "23364          Во двор             2.75        Нет          45000.0  ...   \n",
       "23365  На улицу и двор             2.75        Нет          50000.0  ...   \n",
       "23366          Во двор             2.65         Да          55000.0  ...   \n",
       "23367          Во двор             2.75         Да          57000.0  ...   \n",
       "\n",
       "       Children_allowed Pets_allowed  Bathroom_type  Bathrooms_qty  \\\n",
       "0                     1            1            Нет              1   \n",
       "1                     1            0            Оба              3   \n",
       "2                     1            0    Совмещенный              3   \n",
       "3                     0            1    Совмещенный              3   \n",
       "4                     0            0    Совмещенный              2   \n",
       "...                 ...          ...            ...            ...   \n",
       "23363                 0            0    Совмещенный              1   \n",
       "23364                 0            0    Совмещенный              1   \n",
       "23365                 1            0    Совмещенный              1   \n",
       "23366                 0            0            Оба              2   \n",
       "23367                 1            1     Раздельный              1   \n",
       "\n",
       "       Time_to_metro  floor_qty Apartment_floor        Builging_type  \\\n",
       "0                9.0         16               5           Монолитный   \n",
       "1                8.0         16               5  Монолитно-кирпичный   \n",
       "2                7.0         16               5                  Нет   \n",
       "3                3.0          6               5                  Нет   \n",
       "4                7.0         26              12            Панельный   \n",
       "...              ...        ...             ...                  ...   \n",
       "23363            8.0         14              10                  Нет   \n",
       "23364            7.0         18               5           Монолитный   \n",
       "23365            6.0          5               5            Кирпичный   \n",
       "23366           11.0         23               8           Монолитный   \n",
       "23367           10.0         23               6            Панельный   \n",
       "\n",
       "       Lift_type  Lifts_qty  \n",
       "0            Оба        5.0  \n",
       "1            Оба        2.0  \n",
       "2           Пасс        1.0  \n",
       "3           Пасс        1.0  \n",
       "4            Оба        2.0  \n",
       "...          ...        ...  \n",
       "23363        Оба        2.0  \n",
       "23364        Оба        2.0  \n",
       "23365        Нет        0.0  \n",
       "23366       Пасс        3.0  \n",
       "23367       Пасс        3.0  \n",
       "\n",
       "[19734 rows x 24 columns]"
      ]
     },
     "execution_count": 347,
     "metadata": {},
     "output_type": "execute_result"
    }
   ],
   "source": [
    "df_msk"
   ]
  },
  {
   "cell_type": "code",
   "execution_count": 348,
   "id": "616de70b",
   "metadata": {},
   "outputs": [],
   "source": [
    "df_msk['Rooms_qty'] = (df_msk['Rooms_qty'] - df_msk['Rooms_qty'].mean()) / df_msk['Rooms_qty'].std()\n",
    "df_msk['Square_area'] = (df_msk['Square_area'] - df_msk['Square_area'].mean()) / df_msk['Square_area'].std()\n",
    "df_msk['Ceilings_height'] = (df_msk['Ceilings_height'] - df_msk['Ceilings_height'].mean()) / df_msk['Ceilings_height'].std()\n",
    "df_msk['Monthly_payment'] = (df_msk['Monthly_payment'] - df_msk['Monthly_payment'].mean()) / df_msk['Monthly_payment'].std()\n",
    "df_msk['Advance_payment'] = (df_msk['Advance_payment'] - df_msk['Advance_payment'].mean()) / df_msk['Advance_payment'].std()\n",
    "df_msk['Loggia_qty'] = (df_msk['Loggia_qty'] - df_msk['Loggia_qty'].mean()) / df_msk['Loggia_qty'].std()\n",
    "df_msk['Balcony_qty'] = (df_msk['Balcony_qty'] - df_msk['Balcony_qty'].mean()) / df_msk['Balcony_qty'].std()\n",
    "df_msk['Children_allowed'] = (df_msk['Children_allowed'] - df_msk['Children_allowed'].mean()) / df_msk['Children_allowed'].std()\n",
    "df_msk['Pets_allowed'] = (df_msk['Pets_allowed'] - df_msk['Pets_allowed'].mean()) / df_msk['Pets_allowed'].std()\n",
    "df_msk['Bathrooms_qty'] = (df_msk['Bathrooms_qty'] - df_msk['Bathrooms_qty'].mean()) / df_msk['Bathrooms_qty'].std()\n",
    "df_msk['Time_to_metro'] = (df_msk['Time_to_metro'] - df_msk['Time_to_metro'].mean()) / df_msk['Time_to_metro'].std()\n",
    "df_msk['floor_qty'] = (df_msk['floor_qty'] - df_msk['floor_qty'].mean()) / df_msk['floor_qty'].std()\n",
    "df_msk['Apartment_floor'] = (df_msk['Apartment_floor'] - df_msk['Apartment_floor'].mean()) / df_msk['Apartment_floor'].std()\n",
    "df_msk['Lifts_qty'] = (df_msk['Lifts_qty'] - df_msk['Lifts_qty'].mean()) / df_msk['Lifts_qty'].std()"
   ]
  },
  {
   "cell_type": "code",
   "execution_count": 349,
   "id": "71e4ed62",
   "metadata": {},
   "outputs": [],
   "source": [
    "# создаем экземпляр класса LabelEncoder\n",
    "le = LabelEncoder()\n",
    "# кодируем категории в числа\n",
    "df_msk['Address'] = le.fit_transform(df_msk['Address'])\n",
    "df_msk['Parking'] = le.fit_transform(df_msk['Parking'])\n",
    "df_msk['Renovation'] = le.fit_transform(df_msk['Renovation'])\n",
    "df_msk['Windows'] = le.fit_transform(df_msk['Windows'])\n",
    "df_msk['Trash_duct'] = le.fit_transform(df_msk['Trash_duct'])\n",
    "df_msk['Utilities_bill'] = le.fit_transform(df_msk['Utilities_bill'])\n",
    "df_msk['Bathroom_type'] = le.fit_transform(df_msk['Bathroom_type'])\n",
    "df_msk['Builging_type'] = le.fit_transform(df_msk['Builging_type'])\n",
    "df_msk['Lift_type'] = le.fit_transform(df_msk['Lift_type'])"
   ]
  },
  {
   "cell_type": "code",
   "execution_count": 350,
   "id": "fd134aa5",
   "metadata": {},
   "outputs": [
    {
     "name": "stdout",
     "output_type": "stream",
     "text": [
      "<class 'pandas.core.frame.DataFrame'>\n",
      "Int64Index: 19734 entries, 0 to 23367\n",
      "Data columns (total 24 columns):\n",
      " #   Column            Non-Null Count  Dtype  \n",
      "---  ------            --------------  -----  \n",
      " 0   Listing_ID        19734 non-null  int64  \n",
      " 1   Rooms_qty         19734 non-null  float64\n",
      " 2   Address           19734 non-null  int64  \n",
      " 3   Square_area       19734 non-null  float64\n",
      " 4   Parking           19734 non-null  int64  \n",
      " 5   Renovation        19734 non-null  int64  \n",
      " 6   Windows           19734 non-null  int64  \n",
      " 7   Ceilings_height   19734 non-null  float64\n",
      " 8   Trash_duct        19734 non-null  int64  \n",
      " 9   Monthly_payment   19734 non-null  float64\n",
      " 10  Advance_payment   19734 non-null  float64\n",
      " 11  Utilities_bill    19734 non-null  int64  \n",
      " 12  Loggia_qty        19734 non-null  float64\n",
      " 13  Balcony_qty       19734 non-null  float64\n",
      " 14  Children_allowed  19734 non-null  float64\n",
      " 15  Pets_allowed      19734 non-null  float64\n",
      " 16  Bathroom_type     19734 non-null  int64  \n",
      " 17  Bathrooms_qty     19734 non-null  float64\n",
      " 18  Time_to_metro     19734 non-null  float64\n",
      " 19  floor_qty         19734 non-null  float64\n",
      " 20  Apartment_floor   19734 non-null  float64\n",
      " 21  Builging_type     19734 non-null  int64  \n",
      " 22  Lift_type         19734 non-null  int64  \n",
      " 23  Lifts_qty         19734 non-null  float64\n",
      "dtypes: float64(14), int64(10)\n",
      "memory usage: 3.8 MB\n"
     ]
    }
   ],
   "source": [
    "df_msk.info()"
   ]
  },
  {
   "cell_type": "code",
   "execution_count": null,
   "id": "7a20ce44",
   "metadata": {},
   "outputs": [],
   "source": []
  }
 ],
 "metadata": {
  "kernelspec": {
   "display_name": "Python 3 (ipykernel)",
   "language": "python",
   "name": "python3"
  },
  "language_info": {
   "codemirror_mode": {
    "name": "ipython",
    "version": 3
   },
   "file_extension": ".py",
   "mimetype": "text/x-python",
   "name": "python",
   "nbconvert_exporter": "python",
   "pygments_lexer": "ipython3",
   "version": "3.10.9"
  }
 },
 "nbformat": 4,
 "nbformat_minor": 5
}
