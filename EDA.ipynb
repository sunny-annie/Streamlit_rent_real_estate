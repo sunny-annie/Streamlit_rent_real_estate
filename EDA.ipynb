{
 "cells": [
  {
   "cell_type": "markdown",
   "source": [
    "## EDA"
   ],
   "metadata": {
    "collapsed": false
   }
  },
  {
   "cell_type": "code",
   "execution_count": 2,
   "metadata": {
    "collapsed": true
   },
   "outputs": [],
   "source": [
    "import pandas as pd"
   ]
  },
  {
   "cell_type": "markdown",
   "source": [
    "## Информация о данных исходного датасета"
   ],
   "metadata": {
    "collapsed": false
   }
  },
  {
   "cell_type": "markdown",
   "source": [
    "Датасет **_data.csv** представляет собой информацию по объявлениям об аренде квартир в Москве. Набор данных содержит сведения о типе недвижимости, расположении объекта, его основных характеристиках и условиях аренды."
   ],
   "metadata": {
    "collapsed": false
   }
  },
  {
   "cell_type": "code",
   "execution_count": 34,
   "outputs": [
    {
     "data": {
      "text/plain": "   Unnamed: 0  ID  объявления Количество комнат       Тип  \\\n0           0       271271157                 4  Квартира   \n1           1       271634126                 4  Квартира   \n2           2       271173086   4, Оба варианта  Квартира   \n3           3       272197456   4, Оба варианта  Квартира   \n4           4       273614615                 2  Квартира   \n\n                          Метро                             Адрес  \\\n0  м. Смоленская (9 мин пешком)     Москва, улица Новый Арбат, 27   \n1  м. Смоленская (8 мин пешком)     Москва, улица Новый Арбат, 27   \n2  м. Смоленская (7 мин пешком)     Москва, улица Новый Арбат, 27   \n3  м. Смоленская (3 мин пешком)  Москва, переулок Плотников, 21С1   \n4   м. Арбатская (7 мин пешком)     Москва, улица Новый Арбат, 15   \n\n       Площадь, м2                        Дом   Парковка  \\\n0       200.0/20.0           5/16, Монолитный  подземная   \n1  198.0/95.0/18.0  5/16, Монолитно-кирпичный  подземная   \n2  200.0/116.0/4.0                       5/16  подземная   \n3  170.0/95.0/17.0                        5/6  подземная   \n4    58.0/38.0/5.0           12/26, Панельный        NaN   \n\n                                                Цена  ...             Окна  \\\n0  500000.0 руб./ За месяц, Залог - 500000 руб., ...  ...              NaN   \n1  500000.0 руб./ За месяц, Залог - 500000 руб., ...  ...  На улицу и двор   \n2  500000.0 руб./ За месяц, Залог - 500000 руб., ...  ...  На улицу и двор   \n3  400000.0 руб./ За месяц, Залог - 400000 руб., ...  ...  На улицу и двор   \n4  225000.0 руб./ За месяц, Залог - 225000 руб., ...  ...  На улицу и двор   \n\n                           Санузел           Можно с детьми/животными  \\\n0                              NaN  Можно с детьми, Можно с животными   \n1  Совмещенный (2), Раздельный (1)                     Можно с детьми   \n2                  Совмещенный (3)                     Можно с детьми   \n3                  Совмещенный (3)                  Можно с животными   \n4                  Совмещенный (2)                                NaN   \n\n                                       Дополнительно        Название ЖК  \\\n0  Мебель в комнатах, Мебель на кухне, Ванна, Душ...  Новый Арбат, 2010   \n1  Мебель в комнатах, Мебель на кухне, Ванна, Душ...        Новый Арбат   \n2  Мебель в комнатах, Мебель на кухне, Ванна, Душ...        Новый Арбат   \n3  Мебель в комнатах, Мебель на кухне, Ванна, Душ...                NaN   \n4  Мебель в комнатах, Мебель на кухне, Ванна, Душ...           The Book   \n\n  Серия дома Высота потолков, м                Лифт Мусоропровод  \\\n0        NaN                3.0  Пасс (4), Груз (1)           Да   \n1        NaN                3.5  Пасс (1), Груз (1)          Нет   \n2        NaN                3.2            Пасс (1)          NaN   \n3        NaN                3.2            Пасс (1)          NaN   \n4        NaN                3.9  Пасс (1), Груз (1)           Да   \n\n                      Ссылка на объявление  \n0  https://www.cian.ru/rent/flat/271271157  \n1  https://www.cian.ru/rent/flat/271634126  \n2  https://www.cian.ru/rent/flat/271173086  \n3  https://www.cian.ru/rent/flat/272197456  \n4  https://www.cian.ru/rent/flat/273614615  \n\n[5 rows x 25 columns]",
      "text/html": "<div>\n<style scoped>\n    .dataframe tbody tr th:only-of-type {\n        vertical-align: middle;\n    }\n\n    .dataframe tbody tr th {\n        vertical-align: top;\n    }\n\n    .dataframe thead th {\n        text-align: right;\n    }\n</style>\n<table border=\"1\" class=\"dataframe\">\n  <thead>\n    <tr style=\"text-align: right;\">\n      <th></th>\n      <th>Unnamed: 0</th>\n      <th>ID  объявления</th>\n      <th>Количество комнат</th>\n      <th>Тип</th>\n      <th>Метро</th>\n      <th>Адрес</th>\n      <th>Площадь, м2</th>\n      <th>Дом</th>\n      <th>Парковка</th>\n      <th>Цена</th>\n      <th>...</th>\n      <th>Окна</th>\n      <th>Санузел</th>\n      <th>Можно с детьми/животными</th>\n      <th>Дополнительно</th>\n      <th>Название ЖК</th>\n      <th>Серия дома</th>\n      <th>Высота потолков, м</th>\n      <th>Лифт</th>\n      <th>Мусоропровод</th>\n      <th>Ссылка на объявление</th>\n    </tr>\n  </thead>\n  <tbody>\n    <tr>\n      <th>0</th>\n      <td>0</td>\n      <td>271271157</td>\n      <td>4</td>\n      <td>Квартира</td>\n      <td>м. Смоленская (9 мин пешком)</td>\n      <td>Москва, улица Новый Арбат, 27</td>\n      <td>200.0/20.0</td>\n      <td>5/16, Монолитный</td>\n      <td>подземная</td>\n      <td>500000.0 руб./ За месяц, Залог - 500000 руб., ...</td>\n      <td>...</td>\n      <td>NaN</td>\n      <td>NaN</td>\n      <td>Можно с детьми, Можно с животными</td>\n      <td>Мебель в комнатах, Мебель на кухне, Ванна, Душ...</td>\n      <td>Новый Арбат, 2010</td>\n      <td>NaN</td>\n      <td>3.0</td>\n      <td>Пасс (4), Груз (1)</td>\n      <td>Да</td>\n      <td>https://www.cian.ru/rent/flat/271271157</td>\n    </tr>\n    <tr>\n      <th>1</th>\n      <td>1</td>\n      <td>271634126</td>\n      <td>4</td>\n      <td>Квартира</td>\n      <td>м. Смоленская (8 мин пешком)</td>\n      <td>Москва, улица Новый Арбат, 27</td>\n      <td>198.0/95.0/18.0</td>\n      <td>5/16, Монолитно-кирпичный</td>\n      <td>подземная</td>\n      <td>500000.0 руб./ За месяц, Залог - 500000 руб., ...</td>\n      <td>...</td>\n      <td>На улицу и двор</td>\n      <td>Совмещенный (2), Раздельный (1)</td>\n      <td>Можно с детьми</td>\n      <td>Мебель в комнатах, Мебель на кухне, Ванна, Душ...</td>\n      <td>Новый Арбат</td>\n      <td>NaN</td>\n      <td>3.5</td>\n      <td>Пасс (1), Груз (1)</td>\n      <td>Нет</td>\n      <td>https://www.cian.ru/rent/flat/271634126</td>\n    </tr>\n    <tr>\n      <th>2</th>\n      <td>2</td>\n      <td>271173086</td>\n      <td>4, Оба варианта</td>\n      <td>Квартира</td>\n      <td>м. Смоленская (7 мин пешком)</td>\n      <td>Москва, улица Новый Арбат, 27</td>\n      <td>200.0/116.0/4.0</td>\n      <td>5/16</td>\n      <td>подземная</td>\n      <td>500000.0 руб./ За месяц, Залог - 500000 руб., ...</td>\n      <td>...</td>\n      <td>На улицу и двор</td>\n      <td>Совмещенный (3)</td>\n      <td>Можно с детьми</td>\n      <td>Мебель в комнатах, Мебель на кухне, Ванна, Душ...</td>\n      <td>Новый Арбат</td>\n      <td>NaN</td>\n      <td>3.2</td>\n      <td>Пасс (1)</td>\n      <td>NaN</td>\n      <td>https://www.cian.ru/rent/flat/271173086</td>\n    </tr>\n    <tr>\n      <th>3</th>\n      <td>3</td>\n      <td>272197456</td>\n      <td>4, Оба варианта</td>\n      <td>Квартира</td>\n      <td>м. Смоленская (3 мин пешком)</td>\n      <td>Москва, переулок Плотников, 21С1</td>\n      <td>170.0/95.0/17.0</td>\n      <td>5/6</td>\n      <td>подземная</td>\n      <td>400000.0 руб./ За месяц, Залог - 400000 руб., ...</td>\n      <td>...</td>\n      <td>На улицу и двор</td>\n      <td>Совмещенный (3)</td>\n      <td>Можно с животными</td>\n      <td>Мебель в комнатах, Мебель на кухне, Ванна, Душ...</td>\n      <td>NaN</td>\n      <td>NaN</td>\n      <td>3.2</td>\n      <td>Пасс (1)</td>\n      <td>NaN</td>\n      <td>https://www.cian.ru/rent/flat/272197456</td>\n    </tr>\n    <tr>\n      <th>4</th>\n      <td>4</td>\n      <td>273614615</td>\n      <td>2</td>\n      <td>Квартира</td>\n      <td>м. Арбатская (7 мин пешком)</td>\n      <td>Москва, улица Новый Арбат, 15</td>\n      <td>58.0/38.0/5.0</td>\n      <td>12/26, Панельный</td>\n      <td>NaN</td>\n      <td>225000.0 руб./ За месяц, Залог - 225000 руб., ...</td>\n      <td>...</td>\n      <td>На улицу и двор</td>\n      <td>Совмещенный (2)</td>\n      <td>NaN</td>\n      <td>Мебель в комнатах, Мебель на кухне, Ванна, Душ...</td>\n      <td>The Book</td>\n      <td>NaN</td>\n      <td>3.9</td>\n      <td>Пасс (1), Груз (1)</td>\n      <td>Да</td>\n      <td>https://www.cian.ru/rent/flat/273614615</td>\n    </tr>\n  </tbody>\n</table>\n<p>5 rows × 25 columns</p>\n</div>"
     },
     "execution_count": 34,
     "metadata": {},
     "output_type": "execute_result"
    }
   ],
   "source": [
    "df = pd.read_csv('/home/anya/ds_bootcamp/Streamlit_rent_real_estate/_data.csv')\n",
    "df.head()"
   ],
   "metadata": {
    "collapsed": false
   }
  },
  {
   "cell_type": "markdown",
   "source": [
    "### Сводная информация о наборе данных"
   ],
   "metadata": {
    "collapsed": false
   }
  },
  {
   "cell_type": "code",
   "execution_count": 30,
   "outputs": [
    {
     "name": "stdout",
     "output_type": "stream",
     "text": [
      "<class 'pandas.core.frame.DataFrame'>\n",
      "RangeIndex: 23368 entries, 0 to 23367\n",
      "Data columns (total 25 columns):\n",
      " #   Column                    Non-Null Count  Dtype  \n",
      "---  ------                    --------------  -----  \n",
      " 0   Unnamed: 0                23368 non-null  int64  \n",
      " 1   ID  объявления            23368 non-null  int64  \n",
      " 2   Количество комнат         22327 non-null  object \n",
      " 3   Тип                       23368 non-null  object \n",
      " 4   Метро                     22053 non-null  object \n",
      " 5   Адрес                     23368 non-null  object \n",
      " 6   Площадь, м2               23368 non-null  object \n",
      " 7   Дом                       23368 non-null  object \n",
      " 8   Парковка                  9951 non-null   object \n",
      " 9   Цена                      23368 non-null  object \n",
      " 10  Телефоны                  23368 non-null  object \n",
      " 11  Описание                  23368 non-null  object \n",
      " 12  Ремонт                    20613 non-null  object \n",
      " 13  Площадь комнат, м2        14458 non-null  object \n",
      " 14  Балкон                    15390 non-null  object \n",
      " 15  Окна                      16755 non-null  object \n",
      " 16  Санузел                   20696 non-null  object \n",
      " 17  Можно с детьми/животными  17272 non-null  object \n",
      " 18  Дополнительно             23011 non-null  object \n",
      " 19  Название ЖК               5848 non-null   object \n",
      " 20  Серия дома                2163 non-null   object \n",
      " 21  Высота потолков, м        11206 non-null  float64\n",
      " 22  Лифт                      17868 non-null  object \n",
      " 23  Мусоропровод              12846 non-null  object \n",
      " 24  Ссылка на объявление      23368 non-null  object \n",
      "dtypes: float64(1), int64(2), object(22)\n",
      "memory usage: 4.5+ MB\n"
     ]
    }
   ],
   "source": [
    "df.info()"
   ],
   "metadata": {
    "collapsed": false
   }
  },
  {
   "cell_type": "markdown",
   "source": [
    "# Размер набора данных"
   ],
   "metadata": {
    "collapsed": false
   }
  },
  {
   "cell_type": "code",
   "execution_count": 28,
   "outputs": [
    {
     "name": "stdout",
     "output_type": "stream",
     "text": [
      "Количество строк в датасете: 23368\n"
     ]
    }
   ],
   "source": [
    "print('Количество строк в датасете:', df.shape[0])"
   ],
   "metadata": {
    "collapsed": false
   }
  },
  {
   "cell_type": "code",
   "execution_count": 29,
   "outputs": [
    {
     "name": "stdout",
     "output_type": "stream",
     "text": [
      "Количество столбцов: 25\n"
     ]
    }
   ],
   "source": [
    "print('Количество столбцов:', df.shape[1])"
   ],
   "metadata": {
    "collapsed": false
   }
  },
  {
   "cell_type": "markdown",
   "source": [
    "### Столбцы датасета содержат следующую информацию:"
   ],
   "metadata": {
    "collapsed": false
   }
  },
  {
   "cell_type": "code",
   "execution_count": 39,
   "outputs": [
    {
     "name": "stdout",
     "output_type": "stream",
     "text": [
      "Unnamed: 0\n",
      " ID  объявления\n",
      " Количество комнат\n",
      " Тип\n",
      " Метро\n",
      " Адрес\n",
      " Площадь, м2\n",
      " Дом\n",
      " Парковка\n",
      " Цена\n",
      " Телефоны\n",
      " Описание\n",
      " Ремонт\n",
      " Площадь комнат, м2\n",
      " Балкон\n",
      " Окна\n",
      " Санузел\n",
      " Можно с детьми/животными\n",
      " Дополнительно\n",
      " Название ЖК\n",
      " Серия дома\n",
      " Высота потолков, м\n",
      " Лифт\n",
      " Мусоропровод\n",
      " Ссылка на объявление\n"
     ]
    }
   ],
   "source": [
    "column_names = list(df.columns.values)\n",
    "print(*column_names, sep='\\n ')"
   ],
   "metadata": {
    "collapsed": false
   }
  },
  {
   "cell_type": "markdown",
   "source": [
    "Набор данных не содержит повторяющихся объявлений, все ID являются уникальными:"
   ],
   "metadata": {
    "collapsed": false
   }
  },
  {
   "cell_type": "code",
   "execution_count": 12,
   "outputs": [
    {
     "data": {
      "text/plain": "True"
     },
     "execution_count": 12,
     "metadata": {},
     "output_type": "execute_result"
    }
   ],
   "source": [
    "df['ID  объявления'].unique().shape[0] == df.shape[0]"
   ],
   "metadata": {
    "collapsed": false
   }
  },
  {
   "cell_type": "markdown",
   "source": [
    "## Количество пропущенных значений"
   ],
   "metadata": {
    "collapsed": false
   }
  },
  {
   "cell_type": "code",
   "execution_count": 14,
   "outputs": [
    {
     "data": {
      "text/plain": "                          количество пропущенных значений\nСерия дома                                          21205\nНазвание ЖК                                         17520\nПарковка                                            13417\nВысота потолков, м                                  12162\nМусоропровод                                        10522\nПлощадь комнат, м2                                   8910\nБалкон                                               7978\nОкна                                                 6613\nМожно с детьми/животными                             6096\nЛифт                                                 5500\nРемонт                                               2755\nСанузел                                              2672\nМетро                                                1315\nКоличество комнат                                    1041\nДополнительно                                         357\nUnnamed: 0                                              0\nID  объявления                                          0\nОписание                                                0\nТелефоны                                                0\nЦена                                                    0\nДом                                                     0\nПлощадь, м2                                             0\nАдрес                                                   0\nТип                                                     0\nСсылка на объявление                                    0",
      "text/html": "<div>\n<style scoped>\n    .dataframe tbody tr th:only-of-type {\n        vertical-align: middle;\n    }\n\n    .dataframe tbody tr th {\n        vertical-align: top;\n    }\n\n    .dataframe thead th {\n        text-align: right;\n    }\n</style>\n<table border=\"1\" class=\"dataframe\">\n  <thead>\n    <tr style=\"text-align: right;\">\n      <th></th>\n      <th>количество пропущенных значений</th>\n    </tr>\n  </thead>\n  <tbody>\n    <tr>\n      <th>Серия дома</th>\n      <td>21205</td>\n    </tr>\n    <tr>\n      <th>Название ЖК</th>\n      <td>17520</td>\n    </tr>\n    <tr>\n      <th>Парковка</th>\n      <td>13417</td>\n    </tr>\n    <tr>\n      <th>Высота потолков, м</th>\n      <td>12162</td>\n    </tr>\n    <tr>\n      <th>Мусоропровод</th>\n      <td>10522</td>\n    </tr>\n    <tr>\n      <th>Площадь комнат, м2</th>\n      <td>8910</td>\n    </tr>\n    <tr>\n      <th>Балкон</th>\n      <td>7978</td>\n    </tr>\n    <tr>\n      <th>Окна</th>\n      <td>6613</td>\n    </tr>\n    <tr>\n      <th>Можно с детьми/животными</th>\n      <td>6096</td>\n    </tr>\n    <tr>\n      <th>Лифт</th>\n      <td>5500</td>\n    </tr>\n    <tr>\n      <th>Ремонт</th>\n      <td>2755</td>\n    </tr>\n    <tr>\n      <th>Санузел</th>\n      <td>2672</td>\n    </tr>\n    <tr>\n      <th>Метро</th>\n      <td>1315</td>\n    </tr>\n    <tr>\n      <th>Количество комнат</th>\n      <td>1041</td>\n    </tr>\n    <tr>\n      <th>Дополнительно</th>\n      <td>357</td>\n    </tr>\n    <tr>\n      <th>Unnamed: 0</th>\n      <td>0</td>\n    </tr>\n    <tr>\n      <th>ID  объявления</th>\n      <td>0</td>\n    </tr>\n    <tr>\n      <th>Описание</th>\n      <td>0</td>\n    </tr>\n    <tr>\n      <th>Телефоны</th>\n      <td>0</td>\n    </tr>\n    <tr>\n      <th>Цена</th>\n      <td>0</td>\n    </tr>\n    <tr>\n      <th>Дом</th>\n      <td>0</td>\n    </tr>\n    <tr>\n      <th>Площадь, м2</th>\n      <td>0</td>\n    </tr>\n    <tr>\n      <th>Адрес</th>\n      <td>0</td>\n    </tr>\n    <tr>\n      <th>Тип</th>\n      <td>0</td>\n    </tr>\n    <tr>\n      <th>Ссылка на объявление</th>\n      <td>0</td>\n    </tr>\n  </tbody>\n</table>\n</div>"
     },
     "execution_count": 14,
     "metadata": {},
     "output_type": "execute_result"
    }
   ],
   "source": [
    "pd.DataFrame(df.isnull().sum().sort_values(ascending=False), columns=['количество пропущенных значений'])"
   ],
   "metadata": {
    "collapsed": false
   }
  },
  {
   "cell_type": "markdown",
   "source": [
    "Принимая во внимание количество пропущенных значений и цели нашего исследования, было решено, что информация в следующих колонках не представляет для нас практического интереса:\n",
    "- Телефоны\n",
    "- Описание\n",
    "- Unnamed: 0\n",
    "- Серия дома\n",
    "- Ссылка на объявление\n",
    "- Название ЖК\n",
    "- Площадь комнат, м2"
   ],
   "metadata": {
    "collapsed": false
   }
  },
  {
   "cell_type": "code",
   "execution_count": 31,
   "outputs": [
    {
     "data": {
      "text/plain": "   ID  объявления Количество комнат       Тип                         Метро  \\\n0       271271157                 4  Квартира  м. Смоленская (9 мин пешком)   \n1       271634126                 4  Квартира  м. Смоленская (8 мин пешком)   \n2       271173086   4, Оба варианта  Квартира  м. Смоленская (7 мин пешком)   \n3       272197456   4, Оба варианта  Квартира  м. Смоленская (3 мин пешком)   \n4       273614615                 2  Квартира   м. Арбатская (7 мин пешком)   \n\n                              Адрес      Площадь, м2  \\\n0     Москва, улица Новый Арбат, 27       200.0/20.0   \n1     Москва, улица Новый Арбат, 27  198.0/95.0/18.0   \n2     Москва, улица Новый Арбат, 27  200.0/116.0/4.0   \n3  Москва, переулок Плотников, 21С1  170.0/95.0/17.0   \n4     Москва, улица Новый Арбат, 15    58.0/38.0/5.0   \n\n                         Дом   Парковка  \\\n0           5/16, Монолитный  подземная   \n1  5/16, Монолитно-кирпичный  подземная   \n2                       5/16  подземная   \n3                        5/6  подземная   \n4           12/26, Панельный        NaN   \n\n                                                Цена        Ремонт Балкон  \\\n0  500000.0 руб./ За месяц, Залог - 500000 руб., ...  Дизайнерский    NaN   \n1  500000.0 руб./ За месяц, Залог - 500000 руб., ...  Дизайнерский    NaN   \n2  500000.0 руб./ За месяц, Залог - 500000 руб., ...    Евроремонт    NaN   \n3  400000.0 руб./ За месяц, Залог - 400000 руб., ...    Евроремонт    NaN   \n4  225000.0 руб./ За месяц, Залог - 225000 руб., ...    Евроремонт    NaN   \n\n              Окна                          Санузел  \\\n0              NaN                              NaN   \n1  На улицу и двор  Совмещенный (2), Раздельный (1)   \n2  На улицу и двор                  Совмещенный (3)   \n3  На улицу и двор                  Совмещенный (3)   \n4  На улицу и двор                  Совмещенный (2)   \n\n            Можно с детьми/животными  \\\n0  Можно с детьми, Можно с животными   \n1                     Можно с детьми   \n2                     Можно с детьми   \n3                  Можно с животными   \n4                                NaN   \n\n                                       Дополнительно  Высота потолков, м  \\\n0  Мебель в комнатах, Мебель на кухне, Ванна, Душ...                 3.0   \n1  Мебель в комнатах, Мебель на кухне, Ванна, Душ...                 3.5   \n2  Мебель в комнатах, Мебель на кухне, Ванна, Душ...                 3.2   \n3  Мебель в комнатах, Мебель на кухне, Ванна, Душ...                 3.2   \n4  Мебель в комнатах, Мебель на кухне, Ванна, Душ...                 3.9   \n\n                 Лифт Мусоропровод  \n0  Пасс (4), Груз (1)           Да  \n1  Пасс (1), Груз (1)          Нет  \n2            Пасс (1)          NaN  \n3            Пасс (1)          NaN  \n4  Пасс (1), Груз (1)           Да  ",
      "text/html": "<div>\n<style scoped>\n    .dataframe tbody tr th:only-of-type {\n        vertical-align: middle;\n    }\n\n    .dataframe tbody tr th {\n        vertical-align: top;\n    }\n\n    .dataframe thead th {\n        text-align: right;\n    }\n</style>\n<table border=\"1\" class=\"dataframe\">\n  <thead>\n    <tr style=\"text-align: right;\">\n      <th></th>\n      <th>ID  объявления</th>\n      <th>Количество комнат</th>\n      <th>Тип</th>\n      <th>Метро</th>\n      <th>Адрес</th>\n      <th>Площадь, м2</th>\n      <th>Дом</th>\n      <th>Парковка</th>\n      <th>Цена</th>\n      <th>Ремонт</th>\n      <th>Балкон</th>\n      <th>Окна</th>\n      <th>Санузел</th>\n      <th>Можно с детьми/животными</th>\n      <th>Дополнительно</th>\n      <th>Высота потолков, м</th>\n      <th>Лифт</th>\n      <th>Мусоропровод</th>\n    </tr>\n  </thead>\n  <tbody>\n    <tr>\n      <th>0</th>\n      <td>271271157</td>\n      <td>4</td>\n      <td>Квартира</td>\n      <td>м. Смоленская (9 мин пешком)</td>\n      <td>Москва, улица Новый Арбат, 27</td>\n      <td>200.0/20.0</td>\n      <td>5/16, Монолитный</td>\n      <td>подземная</td>\n      <td>500000.0 руб./ За месяц, Залог - 500000 руб., ...</td>\n      <td>Дизайнерский</td>\n      <td>NaN</td>\n      <td>NaN</td>\n      <td>NaN</td>\n      <td>Можно с детьми, Можно с животными</td>\n      <td>Мебель в комнатах, Мебель на кухне, Ванна, Душ...</td>\n      <td>3.0</td>\n      <td>Пасс (4), Груз (1)</td>\n      <td>Да</td>\n    </tr>\n    <tr>\n      <th>1</th>\n      <td>271634126</td>\n      <td>4</td>\n      <td>Квартира</td>\n      <td>м. Смоленская (8 мин пешком)</td>\n      <td>Москва, улица Новый Арбат, 27</td>\n      <td>198.0/95.0/18.0</td>\n      <td>5/16, Монолитно-кирпичный</td>\n      <td>подземная</td>\n      <td>500000.0 руб./ За месяц, Залог - 500000 руб., ...</td>\n      <td>Дизайнерский</td>\n      <td>NaN</td>\n      <td>На улицу и двор</td>\n      <td>Совмещенный (2), Раздельный (1)</td>\n      <td>Можно с детьми</td>\n      <td>Мебель в комнатах, Мебель на кухне, Ванна, Душ...</td>\n      <td>3.5</td>\n      <td>Пасс (1), Груз (1)</td>\n      <td>Нет</td>\n    </tr>\n    <tr>\n      <th>2</th>\n      <td>271173086</td>\n      <td>4, Оба варианта</td>\n      <td>Квартира</td>\n      <td>м. Смоленская (7 мин пешком)</td>\n      <td>Москва, улица Новый Арбат, 27</td>\n      <td>200.0/116.0/4.0</td>\n      <td>5/16</td>\n      <td>подземная</td>\n      <td>500000.0 руб./ За месяц, Залог - 500000 руб., ...</td>\n      <td>Евроремонт</td>\n      <td>NaN</td>\n      <td>На улицу и двор</td>\n      <td>Совмещенный (3)</td>\n      <td>Можно с детьми</td>\n      <td>Мебель в комнатах, Мебель на кухне, Ванна, Душ...</td>\n      <td>3.2</td>\n      <td>Пасс (1)</td>\n      <td>NaN</td>\n    </tr>\n    <tr>\n      <th>3</th>\n      <td>272197456</td>\n      <td>4, Оба варианта</td>\n      <td>Квартира</td>\n      <td>м. Смоленская (3 мин пешком)</td>\n      <td>Москва, переулок Плотников, 21С1</td>\n      <td>170.0/95.0/17.0</td>\n      <td>5/6</td>\n      <td>подземная</td>\n      <td>400000.0 руб./ За месяц, Залог - 400000 руб., ...</td>\n      <td>Евроремонт</td>\n      <td>NaN</td>\n      <td>На улицу и двор</td>\n      <td>Совмещенный (3)</td>\n      <td>Можно с животными</td>\n      <td>Мебель в комнатах, Мебель на кухне, Ванна, Душ...</td>\n      <td>3.2</td>\n      <td>Пасс (1)</td>\n      <td>NaN</td>\n    </tr>\n    <tr>\n      <th>4</th>\n      <td>273614615</td>\n      <td>2</td>\n      <td>Квартира</td>\n      <td>м. Арбатская (7 мин пешком)</td>\n      <td>Москва, улица Новый Арбат, 15</td>\n      <td>58.0/38.0/5.0</td>\n      <td>12/26, Панельный</td>\n      <td>NaN</td>\n      <td>225000.0 руб./ За месяц, Залог - 225000 руб., ...</td>\n      <td>Евроремонт</td>\n      <td>NaN</td>\n      <td>На улицу и двор</td>\n      <td>Совмещенный (2)</td>\n      <td>NaN</td>\n      <td>Мебель в комнатах, Мебель на кухне, Ванна, Душ...</td>\n      <td>3.9</td>\n      <td>Пасс (1), Груз (1)</td>\n      <td>Да</td>\n    </tr>\n  </tbody>\n</table>\n</div>"
     },
     "execution_count": 31,
     "metadata": {},
     "output_type": "execute_result"
    }
   ],
   "source": [
    "df_cut = df = df.drop(columns=['Телефоны', 'Описание', 'Unnamed: 0', 'Серия дома', 'Ссылка на объявление', 'Название ЖК', 'Площадь комнат, м2'])\n",
    "df_cut.head()"
   ],
   "metadata": {
    "collapsed": false
   }
  },
  {
   "cell_type": "markdown",
   "source": [
    "## Колонки которые можем перевести в числовые значения\""
   ],
   "metadata": {
    "collapsed": false
   }
  },
  {
   "cell_type": "markdown",
   "source": [
    "Колонка 'цена': оставляем только цену за месяц; коммунальные услуги вынесем в отдельную колонку (True, False); срок аренды, также в отельную колонку\n",
    "\n",
    "Гистограмма: валюта\n",
    "\n",
    "Колонка 'Площадь': пример, оставляем общую площадь\n",
    "\n",
    "Количество комнат: оставим только количество, заполним NaN\n",
    "\n",
    "Гистограмма по количеству комнат"
   ],
   "metadata": {
    "collapsed": false
   }
  },
  {
   "cell_type": "markdown",
   "source": [
    "## Категориальные метки"
   ],
   "metadata": {
    "collapsed": false
   }
  },
  {
   "cell_type": "markdown",
   "source": [
    "Перечислить колонки, графики зависимости цены от каждой категории, количество значений каждой категории"
   ],
   "metadata": {
    "collapsed": false
   }
  },
  {
   "cell_type": "code",
   "execution_count": null,
   "outputs": [],
   "source": [],
   "metadata": {
    "collapsed": false
   }
  }
 ],
 "metadata": {
  "kernelspec": {
   "display_name": "Python 3",
   "language": "python",
   "name": "python3"
  },
  "language_info": {
   "codemirror_mode": {
    "name": "ipython",
    "version": 2
   },
   "file_extension": ".py",
   "mimetype": "text/x-python",
   "name": "python",
   "nbconvert_exporter": "python",
   "pygments_lexer": "ipython2",
   "version": "2.7.6"
  }
 },
 "nbformat": 4,
 "nbformat_minor": 0
}
