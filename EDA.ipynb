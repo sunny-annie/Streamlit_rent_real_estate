{
 "cells": [
  {
   "cell_type": "markdown",
   "metadata": {},
   "source": [
    "## EDA"
   ]
  },
  {
   "cell_type": "code",
   "execution_count": 4,
   "metadata": {
    "tags": []
   },
   "outputs": [],
   "source": [
    "import pandas as pd\n",
    "import numpy as np\n",
    "import seaborn as sns\n",
    "import matplotlib as mpl\n",
    "import matplotlib.pyplot as plt"
   ]
  },
  {
   "cell_type": "markdown",
   "metadata": {},
   "source": [
    "## Информация о данных исходного датасета"
   ]
  },
  {
   "cell_type": "markdown",
   "metadata": {},
   "source": [
    "Датасет **_data.csv** представляет собой информацию по объявлениям об аренде квартир в Москве. Набор данных содержит сведения о типе недвижимости, расположении объекта, его основных характеристиках и условиях аренды."
   ]
  },
  {
   "cell_type": "code",
   "execution_count": 34,
   "metadata": {
    "collapsed": false,
    "jupyter": {
     "outputs_hidden": false
    },
    "tags": []
   },
   "outputs": [
    {
     "data": {
      "text/html": [
       "<div>\n",
       "<style scoped>\n",
       "    .dataframe tbody tr th:only-of-type {\n",
       "        vertical-align: middle;\n",
       "    }\n",
       "\n",
       "    .dataframe tbody tr th {\n",
       "        vertical-align: top;\n",
       "    }\n",
       "\n",
       "    .dataframe thead th {\n",
       "        text-align: right;\n",
       "    }\n",
       "</style>\n",
       "<table border=\"1\" class=\"dataframe\">\n",
       "  <thead>\n",
       "    <tr style=\"text-align: right;\">\n",
       "      <th></th>\n",
       "      <th>Unnamed: 0</th>\n",
       "      <th>ID  объявления</th>\n",
       "      <th>Количество комнат</th>\n",
       "      <th>Тип</th>\n",
       "      <th>Метро</th>\n",
       "      <th>Адрес</th>\n",
       "      <th>Площадь, м2</th>\n",
       "      <th>Дом</th>\n",
       "      <th>Парковка</th>\n",
       "      <th>Цена</th>\n",
       "      <th>...</th>\n",
       "      <th>Окна</th>\n",
       "      <th>Санузел</th>\n",
       "      <th>Можно с детьми/животными</th>\n",
       "      <th>Дополнительно</th>\n",
       "      <th>Название ЖК</th>\n",
       "      <th>Серия дома</th>\n",
       "      <th>Высота потолков, м</th>\n",
       "      <th>Лифт</th>\n",
       "      <th>Мусоропровод</th>\n",
       "      <th>Ссылка на объявление</th>\n",
       "    </tr>\n",
       "  </thead>\n",
       "  <tbody>\n",
       "    <tr>\n",
       "      <th>0</th>\n",
       "      <td>0</td>\n",
       "      <td>271271157</td>\n",
       "      <td>4</td>\n",
       "      <td>Квартира</td>\n",
       "      <td>м. Смоленская (9 мин пешком)</td>\n",
       "      <td>Москва, улица Новый Арбат, 27</td>\n",
       "      <td>200.0/20.0</td>\n",
       "      <td>5/16, Монолитный</td>\n",
       "      <td>подземная</td>\n",
       "      <td>500000.0 руб./ За месяц, Залог - 500000 руб., ...</td>\n",
       "      <td>...</td>\n",
       "      <td>NaN</td>\n",
       "      <td>NaN</td>\n",
       "      <td>Можно с детьми, Можно с животными</td>\n",
       "      <td>Мебель в комнатах, Мебель на кухне, Ванна, Душ...</td>\n",
       "      <td>Новый Арбат, 2010</td>\n",
       "      <td>NaN</td>\n",
       "      <td>3.0</td>\n",
       "      <td>Пасс (4), Груз (1)</td>\n",
       "      <td>Да</td>\n",
       "      <td>https://www.cian.ru/rent/flat/271271157</td>\n",
       "    </tr>\n",
       "    <tr>\n",
       "      <th>1</th>\n",
       "      <td>1</td>\n",
       "      <td>271634126</td>\n",
       "      <td>4</td>\n",
       "      <td>Квартира</td>\n",
       "      <td>м. Смоленская (8 мин пешком)</td>\n",
       "      <td>Москва, улица Новый Арбат, 27</td>\n",
       "      <td>198.0/95.0/18.0</td>\n",
       "      <td>5/16, Монолитно-кирпичный</td>\n",
       "      <td>подземная</td>\n",
       "      <td>500000.0 руб./ За месяц, Залог - 500000 руб., ...</td>\n",
       "      <td>...</td>\n",
       "      <td>На улицу и двор</td>\n",
       "      <td>Совмещенный (2), Раздельный (1)</td>\n",
       "      <td>Можно с детьми</td>\n",
       "      <td>Мебель в комнатах, Мебель на кухне, Ванна, Душ...</td>\n",
       "      <td>Новый Арбат</td>\n",
       "      <td>NaN</td>\n",
       "      <td>3.5</td>\n",
       "      <td>Пасс (1), Груз (1)</td>\n",
       "      <td>Нет</td>\n",
       "      <td>https://www.cian.ru/rent/flat/271634126</td>\n",
       "    </tr>\n",
       "    <tr>\n",
       "      <th>2</th>\n",
       "      <td>2</td>\n",
       "      <td>271173086</td>\n",
       "      <td>4, Оба варианта</td>\n",
       "      <td>Квартира</td>\n",
       "      <td>м. Смоленская (7 мин пешком)</td>\n",
       "      <td>Москва, улица Новый Арбат, 27</td>\n",
       "      <td>200.0/116.0/4.0</td>\n",
       "      <td>5/16</td>\n",
       "      <td>подземная</td>\n",
       "      <td>500000.0 руб./ За месяц, Залог - 500000 руб., ...</td>\n",
       "      <td>...</td>\n",
       "      <td>На улицу и двор</td>\n",
       "      <td>Совмещенный (3)</td>\n",
       "      <td>Можно с детьми</td>\n",
       "      <td>Мебель в комнатах, Мебель на кухне, Ванна, Душ...</td>\n",
       "      <td>Новый Арбат</td>\n",
       "      <td>NaN</td>\n",
       "      <td>3.2</td>\n",
       "      <td>Пасс (1)</td>\n",
       "      <td>NaN</td>\n",
       "      <td>https://www.cian.ru/rent/flat/271173086</td>\n",
       "    </tr>\n",
       "    <tr>\n",
       "      <th>3</th>\n",
       "      <td>3</td>\n",
       "      <td>272197456</td>\n",
       "      <td>4, Оба варианта</td>\n",
       "      <td>Квартира</td>\n",
       "      <td>м. Смоленская (3 мин пешком)</td>\n",
       "      <td>Москва, переулок Плотников, 21С1</td>\n",
       "      <td>170.0/95.0/17.0</td>\n",
       "      <td>5/6</td>\n",
       "      <td>подземная</td>\n",
       "      <td>400000.0 руб./ За месяц, Залог - 400000 руб., ...</td>\n",
       "      <td>...</td>\n",
       "      <td>На улицу и двор</td>\n",
       "      <td>Совмещенный (3)</td>\n",
       "      <td>Можно с животными</td>\n",
       "      <td>Мебель в комнатах, Мебель на кухне, Ванна, Душ...</td>\n",
       "      <td>NaN</td>\n",
       "      <td>NaN</td>\n",
       "      <td>3.2</td>\n",
       "      <td>Пасс (1)</td>\n",
       "      <td>NaN</td>\n",
       "      <td>https://www.cian.ru/rent/flat/272197456</td>\n",
       "    </tr>\n",
       "    <tr>\n",
       "      <th>4</th>\n",
       "      <td>4</td>\n",
       "      <td>273614615</td>\n",
       "      <td>2</td>\n",
       "      <td>Квартира</td>\n",
       "      <td>м. Арбатская (7 мин пешком)</td>\n",
       "      <td>Москва, улица Новый Арбат, 15</td>\n",
       "      <td>58.0/38.0/5.0</td>\n",
       "      <td>12/26, Панельный</td>\n",
       "      <td>NaN</td>\n",
       "      <td>225000.0 руб./ За месяц, Залог - 225000 руб., ...</td>\n",
       "      <td>...</td>\n",
       "      <td>На улицу и двор</td>\n",
       "      <td>Совмещенный (2)</td>\n",
       "      <td>NaN</td>\n",
       "      <td>Мебель в комнатах, Мебель на кухне, Ванна, Душ...</td>\n",
       "      <td>The Book</td>\n",
       "      <td>NaN</td>\n",
       "      <td>3.9</td>\n",
       "      <td>Пасс (1), Груз (1)</td>\n",
       "      <td>Да</td>\n",
       "      <td>https://www.cian.ru/rent/flat/273614615</td>\n",
       "    </tr>\n",
       "  </tbody>\n",
       "</table>\n",
       "<p>5 rows × 25 columns</p>\n",
       "</div>"
      ],
      "text/plain": [
       "   Unnamed: 0  ID  объявления Количество комнат       Тип  \\\n",
       "0           0       271271157                 4  Квартира   \n",
       "1           1       271634126                 4  Квартира   \n",
       "2           2       271173086   4, Оба варианта  Квартира   \n",
       "3           3       272197456   4, Оба варианта  Квартира   \n",
       "4           4       273614615                 2  Квартира   \n",
       "\n",
       "                          Метро                             Адрес  \\\n",
       "0  м. Смоленская (9 мин пешком)     Москва, улица Новый Арбат, 27   \n",
       "1  м. Смоленская (8 мин пешком)     Москва, улица Новый Арбат, 27   \n",
       "2  м. Смоленская (7 мин пешком)     Москва, улица Новый Арбат, 27   \n",
       "3  м. Смоленская (3 мин пешком)  Москва, переулок Плотников, 21С1   \n",
       "4   м. Арбатская (7 мин пешком)     Москва, улица Новый Арбат, 15   \n",
       "\n",
       "       Площадь, м2                        Дом   Парковка  \\\n",
       "0       200.0/20.0           5/16, Монолитный  подземная   \n",
       "1  198.0/95.0/18.0  5/16, Монолитно-кирпичный  подземная   \n",
       "2  200.0/116.0/4.0                       5/16  подземная   \n",
       "3  170.0/95.0/17.0                        5/6  подземная   \n",
       "4    58.0/38.0/5.0           12/26, Панельный        NaN   \n",
       "\n",
       "                                                Цена  ...             Окна  \\\n",
       "0  500000.0 руб./ За месяц, Залог - 500000 руб., ...  ...              NaN   \n",
       "1  500000.0 руб./ За месяц, Залог - 500000 руб., ...  ...  На улицу и двор   \n",
       "2  500000.0 руб./ За месяц, Залог - 500000 руб., ...  ...  На улицу и двор   \n",
       "3  400000.0 руб./ За месяц, Залог - 400000 руб., ...  ...  На улицу и двор   \n",
       "4  225000.0 руб./ За месяц, Залог - 225000 руб., ...  ...  На улицу и двор   \n",
       "\n",
       "                           Санузел           Можно с детьми/животными  \\\n",
       "0                              NaN  Можно с детьми, Можно с животными   \n",
       "1  Совмещенный (2), Раздельный (1)                     Можно с детьми   \n",
       "2                  Совмещенный (3)                     Можно с детьми   \n",
       "3                  Совмещенный (3)                  Можно с животными   \n",
       "4                  Совмещенный (2)                                NaN   \n",
       "\n",
       "                                       Дополнительно        Название ЖК  \\\n",
       "0  Мебель в комнатах, Мебель на кухне, Ванна, Душ...  Новый Арбат, 2010   \n",
       "1  Мебель в комнатах, Мебель на кухне, Ванна, Душ...        Новый Арбат   \n",
       "2  Мебель в комнатах, Мебель на кухне, Ванна, Душ...        Новый Арбат   \n",
       "3  Мебель в комнатах, Мебель на кухне, Ванна, Душ...                NaN   \n",
       "4  Мебель в комнатах, Мебель на кухне, Ванна, Душ...           The Book   \n",
       "\n",
       "  Серия дома Высота потолков, м                Лифт Мусоропровод  \\\n",
       "0        NaN                3.0  Пасс (4), Груз (1)           Да   \n",
       "1        NaN                3.5  Пасс (1), Груз (1)          Нет   \n",
       "2        NaN                3.2            Пасс (1)          NaN   \n",
       "3        NaN                3.2            Пасс (1)          NaN   \n",
       "4        NaN                3.9  Пасс (1), Груз (1)           Да   \n",
       "\n",
       "                      Ссылка на объявление  \n",
       "0  https://www.cian.ru/rent/flat/271271157  \n",
       "1  https://www.cian.ru/rent/flat/271634126  \n",
       "2  https://www.cian.ru/rent/flat/271173086  \n",
       "3  https://www.cian.ru/rent/flat/272197456  \n",
       "4  https://www.cian.ru/rent/flat/273614615  \n",
       "\n",
       "[5 rows x 25 columns]"
      ]
     },
     "execution_count": 34,
     "metadata": {},
     "output_type": "execute_result"
    }
   ],
   "source": [
    "df = pd.read_csv('_data.csv')\n",
    "df.head()"
   ]
  },
  {
   "cell_type": "markdown",
   "metadata": {},
   "source": [
    "### Сводная информация о наборе данных и типах значений"
   ]
  },
  {
   "cell_type": "code",
   "execution_count": 22,
   "metadata": {
    "collapsed": false,
    "jupyter": {
     "outputs_hidden": false
    },
    "tags": []
   },
   "outputs": [
    {
     "name": "stdout",
     "output_type": "stream",
     "text": [
      "<class 'pandas.core.frame.DataFrame'>\n",
      "RangeIndex: 23368 entries, 0 to 23367\n",
      "Data columns (total 25 columns):\n",
      " #   Column                    Non-Null Count  Dtype  \n",
      "---  ------                    --------------  -----  \n",
      " 0   Unnamed: 0                23368 non-null  int64  \n",
      " 1   ID  объявления            23368 non-null  int64  \n",
      " 2   Количество комнат         22327 non-null  object \n",
      " 3   Тип                       23368 non-null  object \n",
      " 4   Метро                     22053 non-null  object \n",
      " 5   Адрес                     23368 non-null  object \n",
      " 6   Площадь, м2               23368 non-null  object \n",
      " 7   Дом                       23368 non-null  object \n",
      " 8   Парковка                  9951 non-null   object \n",
      " 9   Цена                      23368 non-null  object \n",
      " 10  Телефоны                  23368 non-null  object \n",
      " 11  Описание                  23368 non-null  object \n",
      " 12  Ремонт                    20613 non-null  object \n",
      " 13  Площадь комнат, м2        14458 non-null  object \n",
      " 14  Балкон                    15390 non-null  object \n",
      " 15  Окна                      16755 non-null  object \n",
      " 16  Санузел                   20696 non-null  object \n",
      " 17  Можно с детьми/животными  17272 non-null  object \n",
      " 18  Дополнительно             23011 non-null  object \n",
      " 19  Название ЖК               5848 non-null   object \n",
      " 20  Серия дома                2163 non-null   object \n",
      " 21  Высота потолков, м        11206 non-null  float64\n",
      " 22  Лифт                      17868 non-null  object \n",
      " 23  Мусоропровод              12846 non-null  object \n",
      " 24  Ссылка на объявление      23368 non-null  object \n",
      "dtypes: float64(1), int64(2), object(22)\n",
      "memory usage: 4.5+ MB\n"
     ]
    }
   ],
   "source": [
    "df.info()"
   ]
  },
  {
   "cell_type": "markdown",
   "metadata": {},
   "source": [
    "# Размер набора данных"
   ]
  },
  {
   "cell_type": "code",
   "execution_count": 23,
   "metadata": {
    "collapsed": false,
    "jupyter": {
     "outputs_hidden": false
    },
    "tags": []
   },
   "outputs": [
    {
     "name": "stdout",
     "output_type": "stream",
     "text": [
      "Количество строк в датасете: 23368\n"
     ]
    }
   ],
   "source": [
    "print('Количество строк в датасете:', df.shape[0])"
   ]
  },
  {
   "cell_type": "code",
   "execution_count": 24,
   "metadata": {
    "collapsed": false,
    "jupyter": {
     "outputs_hidden": false
    },
    "tags": []
   },
   "outputs": [
    {
     "name": "stdout",
     "output_type": "stream",
     "text": [
      "Количество столбцов: 25\n"
     ]
    }
   ],
   "source": [
    "print('Количество столбцов:', df.shape[1])"
   ]
  },
  {
   "cell_type": "markdown",
   "metadata": {},
   "source": [
    "### Столбцы датасета содержат следующую информацию:"
   ]
  },
  {
   "cell_type": "code",
   "execution_count": 25,
   "metadata": {
    "collapsed": false,
    "jupyter": {
     "outputs_hidden": false
    },
    "tags": []
   },
   "outputs": [
    {
     "name": "stdout",
     "output_type": "stream",
     "text": [
      "Unnamed: 0\n",
      " ID  объявления\n",
      " Количество комнат\n",
      " Тип\n",
      " Метро\n",
      " Адрес\n",
      " Площадь, м2\n",
      " Дом\n",
      " Парковка\n",
      " Цена\n",
      " Телефоны\n",
      " Описание\n",
      " Ремонт\n",
      " Площадь комнат, м2\n",
      " Балкон\n",
      " Окна\n",
      " Санузел\n",
      " Можно с детьми/животными\n",
      " Дополнительно\n",
      " Название ЖК\n",
      " Серия дома\n",
      " Высота потолков, м\n",
      " Лифт\n",
      " Мусоропровод\n",
      " Ссылка на объявление\n"
     ]
    }
   ],
   "source": [
    "column_names = list(df.columns.values)\n",
    "print(*column_names, sep='\\n ')"
   ]
  },
  {
   "cell_type": "markdown",
   "metadata": {},
   "source": [
    "Набор данных не содержит повторяющихся объявлений, все ID являются уникальными:"
   ]
  },
  {
   "cell_type": "code",
   "execution_count": 27,
   "metadata": {
    "collapsed": false,
    "jupyter": {
     "outputs_hidden": false
    },
    "tags": []
   },
   "outputs": [
    {
     "data": {
      "text/plain": [
       "True"
      ]
     },
     "execution_count": 27,
     "metadata": {},
     "output_type": "execute_result"
    }
   ],
   "source": [
    "df['ID  объявления'].unique().shape[0] == df.shape[0]"
   ]
  },
  {
   "cell_type": "markdown",
   "metadata": {},
   "source": [
    "## Количество пропущенных значений"
   ]
  },
  {
   "cell_type": "code",
   "execution_count": 8,
   "metadata": {
    "collapsed": false,
    "jupyter": {
     "outputs_hidden": false
    }
   },
   "outputs": [
    {
     "data": {
      "text/html": [
       "<div>\n",
       "<style scoped>\n",
       "    .dataframe tbody tr th:only-of-type {\n",
       "        vertical-align: middle;\n",
       "    }\n",
       "\n",
       "    .dataframe tbody tr th {\n",
       "        vertical-align: top;\n",
       "    }\n",
       "\n",
       "    .dataframe thead th {\n",
       "        text-align: right;\n",
       "    }\n",
       "</style>\n",
       "<table border=\"1\" class=\"dataframe\">\n",
       "  <thead>\n",
       "    <tr style=\"text-align: right;\">\n",
       "      <th></th>\n",
       "      <th>количество пропущенных значений</th>\n",
       "    </tr>\n",
       "  </thead>\n",
       "  <tbody>\n",
       "    <tr>\n",
       "      <th>Серия дома</th>\n",
       "      <td>21205</td>\n",
       "    </tr>\n",
       "    <tr>\n",
       "      <th>Название ЖК</th>\n",
       "      <td>17520</td>\n",
       "    </tr>\n",
       "    <tr>\n",
       "      <th>Парковка</th>\n",
       "      <td>13417</td>\n",
       "    </tr>\n",
       "    <tr>\n",
       "      <th>Высота потолков, м</th>\n",
       "      <td>12162</td>\n",
       "    </tr>\n",
       "    <tr>\n",
       "      <th>Мусоропровод</th>\n",
       "      <td>10522</td>\n",
       "    </tr>\n",
       "    <tr>\n",
       "      <th>Площадь комнат, м2</th>\n",
       "      <td>8910</td>\n",
       "    </tr>\n",
       "    <tr>\n",
       "      <th>Балкон</th>\n",
       "      <td>7978</td>\n",
       "    </tr>\n",
       "    <tr>\n",
       "      <th>Окна</th>\n",
       "      <td>6613</td>\n",
       "    </tr>\n",
       "    <tr>\n",
       "      <th>Можно с детьми/животными</th>\n",
       "      <td>6096</td>\n",
       "    </tr>\n",
       "    <tr>\n",
       "      <th>Лифт</th>\n",
       "      <td>5500</td>\n",
       "    </tr>\n",
       "    <tr>\n",
       "      <th>Ремонт</th>\n",
       "      <td>2755</td>\n",
       "    </tr>\n",
       "    <tr>\n",
       "      <th>Санузел</th>\n",
       "      <td>2672</td>\n",
       "    </tr>\n",
       "    <tr>\n",
       "      <th>Метро</th>\n",
       "      <td>1315</td>\n",
       "    </tr>\n",
       "    <tr>\n",
       "      <th>Количество комнат</th>\n",
       "      <td>1041</td>\n",
       "    </tr>\n",
       "    <tr>\n",
       "      <th>Дополнительно</th>\n",
       "      <td>357</td>\n",
       "    </tr>\n",
       "    <tr>\n",
       "      <th>Unnamed: 0</th>\n",
       "      <td>0</td>\n",
       "    </tr>\n",
       "    <tr>\n",
       "      <th>ID  объявления</th>\n",
       "      <td>0</td>\n",
       "    </tr>\n",
       "    <tr>\n",
       "      <th>Описание</th>\n",
       "      <td>0</td>\n",
       "    </tr>\n",
       "    <tr>\n",
       "      <th>Телефоны</th>\n",
       "      <td>0</td>\n",
       "    </tr>\n",
       "    <tr>\n",
       "      <th>Цена</th>\n",
       "      <td>0</td>\n",
       "    </tr>\n",
       "    <tr>\n",
       "      <th>Дом</th>\n",
       "      <td>0</td>\n",
       "    </tr>\n",
       "    <tr>\n",
       "      <th>Площадь, м2</th>\n",
       "      <td>0</td>\n",
       "    </tr>\n",
       "    <tr>\n",
       "      <th>Адрес</th>\n",
       "      <td>0</td>\n",
       "    </tr>\n",
       "    <tr>\n",
       "      <th>Тип</th>\n",
       "      <td>0</td>\n",
       "    </tr>\n",
       "    <tr>\n",
       "      <th>Ссылка на объявление</th>\n",
       "      <td>0</td>\n",
       "    </tr>\n",
       "  </tbody>\n",
       "</table>\n",
       "</div>"
      ],
      "text/plain": [
       "                          количество пропущенных значений\n",
       "Серия дома                                          21205\n",
       "Название ЖК                                         17520\n",
       "Парковка                                            13417\n",
       "Высота потолков, м                                  12162\n",
       "Мусоропровод                                        10522\n",
       "Площадь комнат, м2                                   8910\n",
       "Балкон                                               7978\n",
       "Окна                                                 6613\n",
       "Можно с детьми/животными                             6096\n",
       "Лифт                                                 5500\n",
       "Ремонт                                               2755\n",
       "Санузел                                              2672\n",
       "Метро                                                1315\n",
       "Количество комнат                                    1041\n",
       "Дополнительно                                         357\n",
       "Unnamed: 0                                              0\n",
       "ID  объявления                                          0\n",
       "Описание                                                0\n",
       "Телефоны                                                0\n",
       "Цена                                                    0\n",
       "Дом                                                     0\n",
       "Площадь, м2                                             0\n",
       "Адрес                                                   0\n",
       "Тип                                                     0\n",
       "Ссылка на объявление                                    0"
      ]
     },
     "execution_count": 8,
     "metadata": {},
     "output_type": "execute_result"
    }
   ],
   "source": [
    "pd.DataFrame(df.isnull().sum().sort_values(ascending=False), columns=['количество пропущенных значений'])"
   ]
  },
  {
   "cell_type": "markdown",
   "metadata": {},
   "source": [
    "Принимая во внимание количество пропущенных значений и цели нашего исследования, было решено, что информация в следующих колонках не представляет для нас практического интереса:\n",
    "- Телефоны\n",
    "- Описание\n",
    "- Unnamed: 0\n",
    "- Серия дома\n",
    "- Ссылка на объявление\n",
    "- Название ЖК\n",
    "- Площадь комнат, м2\n",
    "- Тип"
   ]
  },
  {
   "cell_type": "code",
   "execution_count": 35,
   "metadata": {
    "collapsed": false,
    "jupyter": {
     "outputs_hidden": false
    },
    "tags": []
   },
   "outputs": [
    {
     "data": {
      "text/html": [
       "<div>\n",
       "<style scoped>\n",
       "    .dataframe tbody tr th:only-of-type {\n",
       "        vertical-align: middle;\n",
       "    }\n",
       "\n",
       "    .dataframe tbody tr th {\n",
       "        vertical-align: top;\n",
       "    }\n",
       "\n",
       "    .dataframe thead th {\n",
       "        text-align: right;\n",
       "    }\n",
       "</style>\n",
       "<table border=\"1\" class=\"dataframe\">\n",
       "  <thead>\n",
       "    <tr style=\"text-align: right;\">\n",
       "      <th></th>\n",
       "      <th>ID  объявления</th>\n",
       "      <th>Количество комнат</th>\n",
       "      <th>Метро</th>\n",
       "      <th>Адрес</th>\n",
       "      <th>Площадь, м2</th>\n",
       "      <th>Дом</th>\n",
       "      <th>Парковка</th>\n",
       "      <th>Цена</th>\n",
       "      <th>Ремонт</th>\n",
       "      <th>Балкон</th>\n",
       "      <th>Окна</th>\n",
       "      <th>Санузел</th>\n",
       "      <th>Можно с детьми/животными</th>\n",
       "      <th>Дополнительно</th>\n",
       "      <th>Высота потолков, м</th>\n",
       "      <th>Лифт</th>\n",
       "      <th>Мусоропровод</th>\n",
       "    </tr>\n",
       "  </thead>\n",
       "  <tbody>\n",
       "    <tr>\n",
       "      <th>0</th>\n",
       "      <td>271271157</td>\n",
       "      <td>4</td>\n",
       "      <td>м. Смоленская (9 мин пешком)</td>\n",
       "      <td>Москва, улица Новый Арбат, 27</td>\n",
       "      <td>200.0/20.0</td>\n",
       "      <td>5/16, Монолитный</td>\n",
       "      <td>подземная</td>\n",
       "      <td>500000.0 руб./ За месяц, Залог - 500000 руб., ...</td>\n",
       "      <td>Дизайнерский</td>\n",
       "      <td>NaN</td>\n",
       "      <td>NaN</td>\n",
       "      <td>NaN</td>\n",
       "      <td>Можно с детьми, Можно с животными</td>\n",
       "      <td>Мебель в комнатах, Мебель на кухне, Ванна, Душ...</td>\n",
       "      <td>3.0</td>\n",
       "      <td>Пасс (4), Груз (1)</td>\n",
       "      <td>Да</td>\n",
       "    </tr>\n",
       "    <tr>\n",
       "      <th>1</th>\n",
       "      <td>271634126</td>\n",
       "      <td>4</td>\n",
       "      <td>м. Смоленская (8 мин пешком)</td>\n",
       "      <td>Москва, улица Новый Арбат, 27</td>\n",
       "      <td>198.0/95.0/18.0</td>\n",
       "      <td>5/16, Монолитно-кирпичный</td>\n",
       "      <td>подземная</td>\n",
       "      <td>500000.0 руб./ За месяц, Залог - 500000 руб., ...</td>\n",
       "      <td>Дизайнерский</td>\n",
       "      <td>NaN</td>\n",
       "      <td>На улицу и двор</td>\n",
       "      <td>Совмещенный (2), Раздельный (1)</td>\n",
       "      <td>Можно с детьми</td>\n",
       "      <td>Мебель в комнатах, Мебель на кухне, Ванна, Душ...</td>\n",
       "      <td>3.5</td>\n",
       "      <td>Пасс (1), Груз (1)</td>\n",
       "      <td>Нет</td>\n",
       "    </tr>\n",
       "    <tr>\n",
       "      <th>2</th>\n",
       "      <td>271173086</td>\n",
       "      <td>4, Оба варианта</td>\n",
       "      <td>м. Смоленская (7 мин пешком)</td>\n",
       "      <td>Москва, улица Новый Арбат, 27</td>\n",
       "      <td>200.0/116.0/4.0</td>\n",
       "      <td>5/16</td>\n",
       "      <td>подземная</td>\n",
       "      <td>500000.0 руб./ За месяц, Залог - 500000 руб., ...</td>\n",
       "      <td>Евроремонт</td>\n",
       "      <td>NaN</td>\n",
       "      <td>На улицу и двор</td>\n",
       "      <td>Совмещенный (3)</td>\n",
       "      <td>Можно с детьми</td>\n",
       "      <td>Мебель в комнатах, Мебель на кухне, Ванна, Душ...</td>\n",
       "      <td>3.2</td>\n",
       "      <td>Пасс (1)</td>\n",
       "      <td>NaN</td>\n",
       "    </tr>\n",
       "    <tr>\n",
       "      <th>3</th>\n",
       "      <td>272197456</td>\n",
       "      <td>4, Оба варианта</td>\n",
       "      <td>м. Смоленская (3 мин пешком)</td>\n",
       "      <td>Москва, переулок Плотников, 21С1</td>\n",
       "      <td>170.0/95.0/17.0</td>\n",
       "      <td>5/6</td>\n",
       "      <td>подземная</td>\n",
       "      <td>400000.0 руб./ За месяц, Залог - 400000 руб., ...</td>\n",
       "      <td>Евроремонт</td>\n",
       "      <td>NaN</td>\n",
       "      <td>На улицу и двор</td>\n",
       "      <td>Совмещенный (3)</td>\n",
       "      <td>Можно с животными</td>\n",
       "      <td>Мебель в комнатах, Мебель на кухне, Ванна, Душ...</td>\n",
       "      <td>3.2</td>\n",
       "      <td>Пасс (1)</td>\n",
       "      <td>NaN</td>\n",
       "    </tr>\n",
       "    <tr>\n",
       "      <th>4</th>\n",
       "      <td>273614615</td>\n",
       "      <td>2</td>\n",
       "      <td>м. Арбатская (7 мин пешком)</td>\n",
       "      <td>Москва, улица Новый Арбат, 15</td>\n",
       "      <td>58.0/38.0/5.0</td>\n",
       "      <td>12/26, Панельный</td>\n",
       "      <td>NaN</td>\n",
       "      <td>225000.0 руб./ За месяц, Залог - 225000 руб., ...</td>\n",
       "      <td>Евроремонт</td>\n",
       "      <td>NaN</td>\n",
       "      <td>На улицу и двор</td>\n",
       "      <td>Совмещенный (2)</td>\n",
       "      <td>NaN</td>\n",
       "      <td>Мебель в комнатах, Мебель на кухне, Ванна, Душ...</td>\n",
       "      <td>3.9</td>\n",
       "      <td>Пасс (1), Груз (1)</td>\n",
       "      <td>Да</td>\n",
       "    </tr>\n",
       "  </tbody>\n",
       "</table>\n",
       "</div>"
      ],
      "text/plain": [
       "   ID  объявления Количество комнат                         Метро  \\\n",
       "0       271271157                 4  м. Смоленская (9 мин пешком)   \n",
       "1       271634126                 4  м. Смоленская (8 мин пешком)   \n",
       "2       271173086   4, Оба варианта  м. Смоленская (7 мин пешком)   \n",
       "3       272197456   4, Оба варианта  м. Смоленская (3 мин пешком)   \n",
       "4       273614615                 2   м. Арбатская (7 мин пешком)   \n",
       "\n",
       "                              Адрес      Площадь, м2  \\\n",
       "0     Москва, улица Новый Арбат, 27       200.0/20.0   \n",
       "1     Москва, улица Новый Арбат, 27  198.0/95.0/18.0   \n",
       "2     Москва, улица Новый Арбат, 27  200.0/116.0/4.0   \n",
       "3  Москва, переулок Плотников, 21С1  170.0/95.0/17.0   \n",
       "4     Москва, улица Новый Арбат, 15    58.0/38.0/5.0   \n",
       "\n",
       "                         Дом   Парковка  \\\n",
       "0           5/16, Монолитный  подземная   \n",
       "1  5/16, Монолитно-кирпичный  подземная   \n",
       "2                       5/16  подземная   \n",
       "3                        5/6  подземная   \n",
       "4           12/26, Панельный        NaN   \n",
       "\n",
       "                                                Цена        Ремонт Балкон  \\\n",
       "0  500000.0 руб./ За месяц, Залог - 500000 руб., ...  Дизайнерский    NaN   \n",
       "1  500000.0 руб./ За месяц, Залог - 500000 руб., ...  Дизайнерский    NaN   \n",
       "2  500000.0 руб./ За месяц, Залог - 500000 руб., ...    Евроремонт    NaN   \n",
       "3  400000.0 руб./ За месяц, Залог - 400000 руб., ...    Евроремонт    NaN   \n",
       "4  225000.0 руб./ За месяц, Залог - 225000 руб., ...    Евроремонт    NaN   \n",
       "\n",
       "              Окна                          Санузел  \\\n",
       "0              NaN                              NaN   \n",
       "1  На улицу и двор  Совмещенный (2), Раздельный (1)   \n",
       "2  На улицу и двор                  Совмещенный (3)   \n",
       "3  На улицу и двор                  Совмещенный (3)   \n",
       "4  На улицу и двор                  Совмещенный (2)   \n",
       "\n",
       "            Можно с детьми/животными  \\\n",
       "0  Можно с детьми, Можно с животными   \n",
       "1                     Можно с детьми   \n",
       "2                     Можно с детьми   \n",
       "3                  Можно с животными   \n",
       "4                                NaN   \n",
       "\n",
       "                                       Дополнительно  Высота потолков, м  \\\n",
       "0  Мебель в комнатах, Мебель на кухне, Ванна, Душ...                 3.0   \n",
       "1  Мебель в комнатах, Мебель на кухне, Ванна, Душ...                 3.5   \n",
       "2  Мебель в комнатах, Мебель на кухне, Ванна, Душ...                 3.2   \n",
       "3  Мебель в комнатах, Мебель на кухне, Ванна, Душ...                 3.2   \n",
       "4  Мебель в комнатах, Мебель на кухне, Ванна, Душ...                 3.9   \n",
       "\n",
       "                 Лифт Мусоропровод  \n",
       "0  Пасс (4), Груз (1)           Да  \n",
       "1  Пасс (1), Груз (1)          Нет  \n",
       "2            Пасс (1)          NaN  \n",
       "3            Пасс (1)          NaN  \n",
       "4  Пасс (1), Груз (1)           Да  "
      ]
     },
     "execution_count": 35,
     "metadata": {},
     "output_type": "execute_result"
    }
   ],
   "source": [
    "df_cut = df = df.drop(columns=['Тип', 'Телефоны', 'Описание', 'Unnamed: 0', 'Серия дома', 'Ссылка на объявление', 'Название ЖК', 'Площадь комнат, м2'])\n",
    "df_cut.head()"
   ]
  },
  {
   "cell_type": "markdown",
   "metadata": {},
   "source": [
    "## Колонки которые можем перевести в числовые значения\""
   ]
  },
  {
   "cell_type": "markdown",
   "metadata": {},
   "source": [
    "Колонка 'цена': оставляем только цену за месяц; коммунальные услуги вынесем в отдельную колонку (True, False); срок аренды, также в отельную колонку\n",
    "\n",
    "Гистограмма: валюта\n",
    "\n",
    "Колонка 'Площадь': пример, оставляем общую площадь\n",
    "\n",
    "Количество комнат: оставим только количество, заполним NaN\n",
    "\n",
    "Гистограмма по количеству комнат"
   ]
  },
  {
   "cell_type": "markdown",
   "metadata": {},
   "source": [
    "## Категориальные метки"
   ]
  },
  {
   "cell_type": "markdown",
   "metadata": {},
   "source": [
    "Перечислить колонки, графики зависимости цены от каждой категории, количество значений каждой категории"
   ]
  },
  {
   "cell_type": "markdown",
   "metadata": {},
   "source": [
    "## Колонка \"Парковка\""
   ]
  },
  {
   "cell_type": "code",
   "execution_count": 19,
   "metadata": {
    "collapsed": false,
    "jupyter": {
     "outputs_hidden": false
    }
   },
   "outputs": [
    {
     "data": {
      "text/plain": [
       "NaN               13417\n",
       "наземная           6043\n",
       "подземная          2772\n",
       "открытая           1017\n",
       "многоуровневая      118\n",
       "на крыше              1\n",
       "Name: Парковка, dtype: int64"
      ]
     },
     "execution_count": 19,
     "metadata": {},
     "output_type": "execute_result"
    }
   ],
   "source": [
    "df_cut['Парковка'].value_counts(dropna=False)"
   ]
  },
  {
   "cell_type": "code",
   "execution_count": 20,
   "metadata": {
    "collapsed": false,
    "jupyter": {
     "outputs_hidden": false
    }
   },
   "outputs": [
    {
     "data": {
      "image/png": "[encoded data removed]",
      "text/plain": [
       "<Figure size 700x400 with 1 Axes>"
      ]
     },
     "metadata": {},
     "output_type": "display_data"
    }
   ],
   "source": [
    "plt.figure(figsize=(7, 4))\n",
    "sns.histplot(data=df_cut, x='Парковка')\n",
    "plt.xticks(fontsize=7)\n",
    "plt.show()"
   ]
  },
  {
   "cell_type": "markdown",
   "metadata": {},
   "source": [
    "#### Поменяем NaN"
   ]
  },
  {
   "cell_type": "markdown",
   "metadata": {},
   "source": [
    "## Колонка \"Балкон\""
   ]
  },
  {
   "cell_type": "code",
   "execution_count": 29,
   "metadata": {
    "collapsed": false,
    "jupyter": {
     "outputs_hidden": false
    },
    "tags": []
   },
   "outputs": [
    {
     "data": {
      "text/plain": [
       "NaN                       7978\n",
       "Балкон (1)                7428\n",
       "Лоджия (1)                6007\n",
       "Балкон (1), Лоджия (1)     716\n",
       "Лоджия (2)                 568\n",
       "Балкон (2)                 474\n",
       "Балкон (3)                  55\n",
       "Лоджия (3)                  45\n",
       "Балкон (2), Лоджия (2)      25\n",
       "Балкон (1), Лоджия (2)      24\n",
       "Балкон (2), Лоджия (1)      20\n",
       "Балкон (4)                   6\n",
       "Балкон (1), Лоджия (3)       5\n",
       "Лоджия (4)                   5\n",
       "Балкон (3), Лоджия (1)       5\n",
       "Балкон (2), Лоджия (3)       3\n",
       "Балкон (1), Лоджия (4)       2\n",
       "Балкон (3), Лоджия (3)       1\n",
       "Балкон (4), Лоджия (4)       1\n",
       "Name: Балкон, dtype: int64"
      ]
     },
     "execution_count": 29,
     "metadata": {},
     "output_type": "execute_result"
    }
   ],
   "source": [
    "df_cut['Балкон'].value_counts(dropna=False)"
   ]
  },
  {
   "cell_type": "markdown",
   "metadata": {},
   "source": [
    "#### Делим на две колонки \"Балкон\" и \"Лоджия\", NaN заполняем 0"
   ]
  },
  {
   "cell_type": "markdown",
   "metadata": {},
   "source": [
    "## Колонка \"Ремонт\""
   ]
  },
  {
   "cell_type": "code",
   "execution_count": 22,
   "metadata": {
    "collapsed": false,
    "jupyter": {
     "outputs_hidden": false
    }
   },
   "outputs": [
    {
     "data": {
      "text/plain": [
       "Косметический    8499\n",
       "Евроремонт       8470\n",
       "Дизайнерский     3474\n",
       "NaN              2755\n",
       "Без ремонта       170\n",
       "Name: Ремонт, dtype: int64"
      ]
     },
     "execution_count": 22,
     "metadata": {},
     "output_type": "execute_result"
    }
   ],
   "source": [
    "df_cut['Ремонт'].value_counts(dropna=False)"
   ]
  },
  {
   "cell_type": "code",
   "execution_count": 23,
   "metadata": {
    "collapsed": false,
    "jupyter": {
     "outputs_hidden": false
    }
   },
   "outputs": [
    {
     "data": {
      "image/png": "[encoded data removed]",
      "text/plain": [
       "<Figure size 700x400 with 1 Axes>"
      ]
     },
     "metadata": {},
     "output_type": "display_data"
    }
   ],
   "source": [
    "plt.figure(figsize=(7, 4))\n",
    "sns.histplot(data=df_cut, x='Ремонт')\n",
    "plt.xticks(fontsize=7)\n",
    "plt.show()"
   ]
  },
  {
   "cell_type": "markdown",
   "metadata": {},
   "source": [
    "#### Заменим NaN"
   ]
  },
  {
   "cell_type": "markdown",
   "metadata": {
    "jupyter": {
     "outputs_hidden": false
    }
   },
   "source": [
    "## Колонка \"Адрес\""
   ]
  },
  {
   "cell_type": "markdown",
   "metadata": {},
   "source": [
    "#### Поскольку для пилотного проекта выбрана Москва, то необходимо будет отфильтровать значения только для этого города."
   ]
  },
  {
   "cell_type": "code",
   "execution_count": 30,
   "metadata": {
    "tags": []
   },
   "outputs": [
    {
     "data": {
      "text/plain": [
       "Москва                19737\n",
       "Санкт-Петербург        3028\n",
       "Краснодарский край      603\n",
       "Name: Адрес, dtype: int64"
      ]
     },
     "execution_count": 30,
     "metadata": {},
     "output_type": "execute_result"
    }
   ],
   "source": [
    "df['Адрес'].apply(lambda x: x.split(', ')[0] if type(x) != float else x).value_counts()"
   ]
  },
  {
   "cell_type": "code",
   "execution_count": 31,
   "metadata": {
    "tags": []
   },
   "outputs": [
    {
     "data": {
      "image/png": "[encoded data removed]",
      "text/plain": [
       "<Figure size 640x480 with 1 Axes>"
      ]
     },
     "metadata": {},
     "output_type": "display_data"
    }
   ],
   "source": [
    "sns.countplot(x=df['Адрес'].apply(lambda x: x.split(', ')[0] if type(x) != float else x));"
   ]
  },
  {
   "cell_type": "markdown",
   "metadata": {},
   "source": [
    "## Колонка \"Количество комнат\""
   ]
  },
  {
   "cell_type": "code",
   "execution_count": 36,
   "metadata": {
    "tags": []
   },
   "outputs": [
    {
     "data": {
      "text/plain": [
       "1                   7917\n",
       "2, Изолированная    4623\n",
       "2                   2591\n",
       "3                   1717\n",
       "3, Изолированная    1583\n",
       "3, Оба варианта      875\n",
       "4                    674\n",
       "2, Смежная           637\n",
       "2, Оба варианта      615\n",
       "4, Оба варианта      253\n",
       "5                    235\n",
       "4, Изолированная     223\n",
       "6                     87\n",
       "3, Смежная            87\n",
       "5, Оба варианта       81\n",
       "5, Изолированная      47\n",
       "6, Оба варианта       31\n",
       "6, Изолированная      17\n",
       "4, Смежная            13\n",
       "1, Изолированная       8\n",
       "1, Оба варианта        4\n",
       "5, Смежная             4\n",
       "6, Смежная             3\n",
       "1, Смежная             2\n",
       "Name: Количество комнат, dtype: int64"
      ]
     },
     "execution_count": 36,
     "metadata": {},
     "output_type": "execute_result"
    }
   ],
   "source": [
    "df['Количество комнат'].value_counts()"
   ]
  },
  {
   "cell_type": "markdown",
   "metadata": {},
   "source": [
    "#### Данная колонка содержить в себе большое количество значений, которые можно поделить на две колонки с количеством комнат и вариантом размещения. Колонку с количеством комнат, заполнить пропущенные значения и перевести в тип int.¶"
   ]
  },
  {
   "cell_type": "code",
   "execution_count": 37,
   "metadata": {
    "tags": []
   },
   "outputs": [
    {
     "data": {
      "image/png": "[encoded data removed]",
      "text/plain": [
       "<Figure size 640x480 with 1 Axes>"
      ]
     },
     "metadata": {},
     "output_type": "display_data"
    }
   ],
   "source": [
    "df['Количество комнат'] = df['Количество комнат'].apply(lambda x: x.split(', ')[0] if type(x) != float else x)\n",
    "\n",
    "sns.set_theme(style=\"whitegrid\")\n",
    "sns.countplot(x=df['Количество комнат']);"
   ]
  },
  {
   "cell_type": "markdown",
   "metadata": {},
   "source": [
    "## Колонка \"Окна\""
   ]
  },
  {
   "cell_type": "code",
   "execution_count": 39,
   "metadata": {
    "tags": []
   },
   "outputs": [
    {
     "data": {
      "text/plain": [
       "Во двор            10870\n",
       "NaN                 6613\n",
       "На улицу и двор     3295\n",
       "На улицу            2590\n",
       "Name: Окна, dtype: int64"
      ]
     },
     "execution_count": 39,
     "metadata": {},
     "output_type": "execute_result"
    }
   ],
   "source": [
    "df['Окна'].value_counts(dropna=False)"
   ]
  },
  {
   "cell_type": "code",
   "execution_count": 38,
   "metadata": {
    "tags": []
   },
   "outputs": [
    {
     "data": {
      "image/png": "[encoded data removed]",
      "text/plain": [
       "<Figure size 640x480 with 1 Axes>"
      ]
     },
     "metadata": {},
     "output_type": "display_data"
    }
   ],
   "source": [
    "sns.countplot(x=df['Окна']);"
   ]
  },
  {
   "cell_type": "markdown",
   "metadata": {},
   "source": [
    "#### Заменим NaN"
   ]
  },
  {
   "cell_type": "markdown",
   "metadata": {},
   "source": [
    "## Колонка \"Можно с детьми/с животными\""
   ]
  },
  {
   "cell_type": "code",
   "execution_count": 40,
   "metadata": {
    "tags": []
   },
   "outputs": [
    {
     "data": {
      "text/plain": [
       "Можно с детьми                       10134\n",
       "Можно с детьми, Можно с животными     6899\n",
       "NaN                                   6096\n",
       "Можно с животными                      239\n",
       "Name: Можно с детьми/животными, dtype: int64"
      ]
     },
     "execution_count": 40,
     "metadata": {},
     "output_type": "execute_result"
    }
   ],
   "source": [
    "df['Можно с детьми/животными'].value_counts(dropna=False)"
   ]
  },
  {
   "cell_type": "code",
   "execution_count": 41,
   "metadata": {
    "tags": []
   },
   "outputs": [
    {
     "data": {
      "image/png": "[encoded data removed]",
      "text/plain": [
       "<Figure size 640x480 with 1 Axes>"
      ]
     },
     "metadata": {},
     "output_type": "display_data"
    }
   ],
   "source": [
    "sns.countplot(y=df['Можно с детьми/животными']);"
   ]
  },
  {
   "cell_type": "markdown",
   "metadata": {},
   "source": [
    "#### Заменим NaN"
   ]
  },
  {
   "cell_type": "markdown",
   "metadata": {},
   "source": [
    "## Колонка \"Лифт\""
   ]
  },
  {
   "cell_type": "code",
   "execution_count": 42,
   "metadata": {
    "tags": []
   },
   "outputs": [
    {
     "data": {
      "text/plain": [
       "Пасс (1)               5911\n",
       "NaN                    5500\n",
       "Пасс (2)               4326\n",
       "Пасс (1), Груз (1)     3962\n",
       "Пасс (2), Груз (1)     1224\n",
       "Пасс (2), Груз (2)      654\n",
       "Пасс (3)                636\n",
       "Пасс (4)                346\n",
       "Пасс (3), Груз (1)      187\n",
       "Пасс (1), Груз (2)      185\n",
       "Груз (1)                 95\n",
       "Пасс (4), Груз (2)       65\n",
       "Пасс (4), Груз (1)       64\n",
       "Пасс (3), Груз (3)       45\n",
       "Пасс (3), Груз (2)       44\n",
       "Пасс (4), Груз (4)       28\n",
       "Груз (4)                 25\n",
       "Груз (2)                 20\n",
       "Груз (3)                 15\n",
       "Пасс (4), Груз (3)        7\n",
       "Пасс (6)                  6\n",
       "Пасс (1), Груз (3)        6\n",
       "Пасс (2), Груз (3)        3\n",
       "Пасс (60)                 2\n",
       "Пасс (50)                 2\n",
       "Пасс (1), Груз (12)       1\n",
       "Пасс (5), Груз (1)        1\n",
       "Пасс (8), Груз (8)        1\n",
       "Пасс (7)                  1\n",
       "Пасс (1), Груз (4)        1\n",
       "Пасс (5), Груз (3)        1\n",
       "Пасс (2), Груз (4)        1\n",
       "Груз (6)                  1\n",
       "Груз (8)                  1\n",
       "Пасс (5)                  1\n",
       "Name: Лифт, dtype: int64"
      ]
     },
     "execution_count": 42,
     "metadata": {},
     "output_type": "execute_result"
    }
   ],
   "source": [
    "df['Лифт'].value_counts(dropna=False)"
   ]
  },
  {
   "cell_type": "markdown",
   "metadata": {},
   "source": [
    "#### Нужно заменить NaN, также поделить на тип лифта, а также посчитать общее количество лифтов"
   ]
  },
  {
   "cell_type": "markdown",
   "metadata": {},
   "source": [
    "## Колонка \"Мусоропровод\""
   ]
  },
  {
   "cell_type": "code",
   "execution_count": 43,
   "metadata": {
    "tags": []
   },
   "outputs": [
    {
     "data": {
      "text/plain": [
       "Да     10897\n",
       "NaN    10522\n",
       "Нет     1949\n",
       "Name: Мусоропровод, dtype: int64"
      ]
     },
     "execution_count": 43,
     "metadata": {},
     "output_type": "execute_result"
    }
   ],
   "source": [
    "df['Мусоропровод'].value_counts(dropna=False)"
   ]
  },
  {
   "cell_type": "code",
   "execution_count": 44,
   "metadata": {
    "tags": []
   },
   "outputs": [
    {
     "data": {
      "image/png": "[encoded data removed]",
      "text/plain": [
       "<Figure size 640x480 with 1 Axes>"
      ]
     },
     "metadata": {},
     "output_type": "display_data"
    }
   ],
   "source": [
    "sns.countplot(x=df['Мусоропровод']);"
   ]
  },
  {
   "cell_type": "markdown",
   "metadata": {},
   "source": [
    "#### Колонка имеет два значения (не включая NaN), которые нужно заменить на 0 или 1¶"
   ]
  }
 ],
 "metadata": {
  "kernelspec": {
   "display_name": "Python 3 (ipykernel)",
   "language": "python",
   "name": "python3"
  },
  "language_info": {
   "codemirror_mode": {
    "name": "ipython",
    "version": 3
   },
   "file_extension": ".py",
   "mimetype": "text/x-python",
   "name": "python",
   "nbconvert_exporter": "python",
   "pygments_lexer": "ipython3",
   "version": "3.11.2"
  }
 },
 "nbformat": 4,
 "nbformat_minor": 4
}
