{
 "cells": [
  {
   "cell_type": "markdown",
   "id": "5123630e-4f1c-425b-a0c2-558387f3c2d9",
   "metadata": {},
   "source": [
    "# Анализ данных"
   ]
  },
  {
   "cell_type": "markdown",
   "id": "da33d569-6047-475d-b8f4-fce0b7ce3244",
   "metadata": {},
   "source": [
    "## Исходный датасет"
   ]
  },
  {
   "cell_type": "code",
   "execution_count": null,
   "id": "dc146575-3834-46fa-88e0-2f98fe72bd12",
   "metadata": {},
   "outputs": [],
   "source": [
    "df"
   ]
  },
  {
   "cell_type": "markdown",
   "id": "04064585-0925-4133-a796-8b11ada1b511",
   "metadata": {},
   "source": [
    "## Размер набора данных (кол-во строк, кол-во столбцов)"
   ]
  },
  {
   "cell_type": "code",
   "execution_count": null,
   "id": "4770193c-b0bb-4367-93c8-52c096e6a3ea",
   "metadata": {},
   "outputs": [],
   "source": [
    "df.shape[0] # строки"
   ]
  },
  {
   "cell_type": "code",
   "execution_count": null,
   "id": "df4bda74-0ddb-4b18-887b-fd84540a6af5",
   "metadata": {},
   "outputs": [],
   "source": [
    "df.shape[0] # столбцы"
   ]
  },
  {
   "cell_type": "markdown",
   "id": "634584b6-db4a-4030-85ab-a3adadbb155f",
   "metadata": {},
   "source": [
    "## Количество уникальных значений и количество дубликатов (строки)"
   ]
  },
  {
   "cell_type": "code",
   "execution_count": null,
   "id": "0691fd34-d04d-4843-a82d-fec4aecc4e7d",
   "metadata": {},
   "outputs": [],
   "source": []
  },
  {
   "cell_type": "code",
   "execution_count": null,
   "id": "403a237b-e20f-4fe5-8df5-be4b8d54650c",
   "metadata": {},
   "outputs": [],
   "source": []
  },
  {
   "cell_type": "markdown",
   "id": "e5e4e213-a188-449b-81c1-206cfcef2e01",
   "metadata": {},
   "source": [
    "## Типы, сводная таблица info, количество элементов Non-null"
   ]
  },
  {
   "cell_type": "code",
   "execution_count": null,
   "id": "64b75306-1987-4096-af21-0b3259bfe70a",
   "metadata": {},
   "outputs": [],
   "source": []
  },
  {
   "cell_type": "code",
   "execution_count": null,
   "id": "0b6f15cb-5798-4c51-965e-910b7562d6ac",
   "metadata": {},
   "outputs": [],
   "source": []
  },
  {
   "cell_type": "markdown",
   "id": "31ad574b-b15d-40c0-82d6-1d83d6d246e7",
   "metadata": {},
   "source": [
    "## Незначемые колонки"
   ]
  },
  {
   "cell_type": "code",
   "execution_count": null,
   "id": "f6a0ff45-1d0c-4254-be6c-4049bb896f25",
   "metadata": {},
   "outputs": [],
   "source": []
  },
  {
   "cell_type": "code",
   "execution_count": null,
   "id": "bf67ccb4-b370-4a01-af25-3e6bfb5e6083",
   "metadata": {},
   "outputs": [],
   "source": []
  },
  {
   "cell_type": "markdown",
   "id": "596ec906-1fb1-4f6f-b717-06c4710be975",
   "metadata": {},
   "source": [
    "## Колонки которые можем перевести в числовые значения"
   ]
  },
  {
   "cell_type": "markdown",
   "id": "5d932a64-cc3e-4a1e-b97c-04a04dd92780",
   "metadata": {},
   "source": [
    "Колонка 'цена': оставляем только цену за месяц; комунальные услуги вынесем в отдельную колонку (True, False); срок аренды, также в отельную колонку\n",
    "\n",
    "Гистограмма: валюта\n",
    "\n",
    "Колонка 'Площадь': пример, оставляем общую площадь\n",
    "\n",
    "Количество комнат: оставим только количество, заполним NaN\n",
    "\n",
    "Гистограмма по количеству комнат"
   ]
  },
  {
   "cell_type": "markdown",
   "id": "6c3bba4c-840c-4ab0-a427-d6115589d976",
   "metadata": {},
   "source": []
  },
  {
   "cell_type": "markdown",
   "id": "5398b550-4637-48e7-9360-1c693d985041",
   "metadata": {},
   "source": [
    "## Категориальные метки"
   ]
  },
  {
   "cell_type": "markdown",
   "id": "8de0d14e-0e83-44e1-bcc1-9d222cb4596e",
   "metadata": {},
   "source": [
    "Перечислить колонки, графики зависимости цены от каждой категории, количество значений каждой категории"
   ]
  }
 ],
 "metadata": {
  "kernelspec": {
   "display_name": "Python 3 (ipykernel)",
   "language": "python",
   "name": "python3"
  },
  "language_info": {
   "codemirror_mode": {
    "name": "ipython",
    "version": 3
   },
   "file_extension": ".py",
   "mimetype": "text/x-python",
   "name": "python",
   "nbconvert_exporter": "python",
   "pygments_lexer": "ipython3",
   "version": "3.11.2"
  }
 },
 "nbformat": 4,
 "nbformat_minor": 5
}
